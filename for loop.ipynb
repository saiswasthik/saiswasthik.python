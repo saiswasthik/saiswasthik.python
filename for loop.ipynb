{
 "cells": [
  {
   "cell_type": "code",
   "execution_count": 36,
   "metadata": {},
   "outputs": [
    {
     "name": "stdout",
     "output_type": "stream",
     "text": [
      "valid\n",
      "valid\n",
      "valid\n",
      "SM aiswasthik Saiswasthik@1,,..23M 123\n"
     ]
    }
   ],
   "source": [
    "a='Saiswasthik@1,,..23M'\n",
    "up=''\n",
    "lu=''\n",
    "sp=''\n",
    "nu=''\n",
    "if 'A'<=a[0]<='Z' and 'A'<=a[-1]<='Z':\n",
    "    # print('valid')\n",
    "    for i in a:\n",
    "        if 'A'<=i<='Z':\n",
    "            up+=i\n",
    "        if 'a'<=i<='z':\n",
    "             lu+=i\n",
    "        if '0'<=i<='9':\n",
    "            nu+=i\n",
    "        if a !=('A'<=i<='Z' or'a'<=i<='z' or'0'<=i<='9'):\n",
    "            sp+=i\n",
    "    if len(up)<=2:\n",
    "        print('valid')\n",
    "    else:\n",
    "        print('in valid')\n",
    "\n",
    "    if  2<=len(lu)<=10:\n",
    "        print('valid')\n",
    "    else:\n",
    "        print('in valid')\n",
    "    if len(nu)>=1:\n",
    "        print('valid')\n",
    "    else:\n",
    "        print('in valid')\n",
    "    print(up,lu,sp,nu)\n",
    "else:\n",
    "    print('not valid')"
   ]
  },
  {
   "cell_type": "code",
   "execution_count": 33,
   "metadata": {},
   "outputs": [
    {
     "name": "stdout",
     "output_type": "stream",
     "text": [
      "2 <class 'tuple'>\n"
     ]
    }
   ],
   "source": [
    "var=eval(input('enter the collection'))\n",
    "if type(var)in[int,list,set,tuple,dict]:\n",
    "    count=0\n",
    "    for i in var:\n",
    "        count+=1\n",
    "    print(count ,type(var))"
   ]
  },
  {
   "cell_type": "code",
   "execution_count": 39,
   "metadata": {},
   "outputs": [
    {
     "name": "stdout",
     "output_type": "stream",
     "text": [
      "3 ; 30\n"
     ]
    }
   ],
   "source": [
    "var=eval(input('enter the caollection'))\n",
    "sp=eval(input('enter the sp varBLE'))\n",
    "if type(var) in[ int,list,tuple]:\n",
    "    count=0\n",
    "    for i in var:\n",
    "        if sp==i:\n",
    "            count+=1\n",
    "    print(count,';',i)"
   ]
  },
  {
   "cell_type": "code",
   "execution_count": 43,
   "metadata": {},
   "outputs": [
    {
     "name": "stdout",
     "output_type": "stream",
     "text": [
      "1\n",
      "2\n",
      "2\n",
      "3\n",
      "4\n"
     ]
    }
   ],
   "source": [
    "var=[10,20,20.2,20.1,'sai']\n",
    "count=0\n",
    "for i in var:\n",
    "    if type(i)== int:\n",
    "        count+=1\n",
    "    print(count)\n",
    "    if type(i)== float:\n",
    "        count+=1"
   ]
  },
  {
   "cell_type": "code",
   "execution_count": 2,
   "metadata": {},
   "outputs": [
    {
     "name": "stdout",
     "output_type": "stream",
     "text": [
      "helo\n"
     ]
    }
   ],
   "source": [
    "st='hello'\n",
    "unq=''\n",
    "for i in st:\n",
    "    if i not in unq:\n",
    "        unq+=i\n",
    "print(unq)\n"
   ]
  },
  {
   "cell_type": "code",
   "execution_count": 7,
   "metadata": {},
   "outputs": [
    {
     "name": "stdout",
     "output_type": "stream",
     "text": [
      "sai wthk\n"
     ]
    }
   ],
   "source": [
    "a='sai swasthik'\n",
    "uni=''\n",
    "for i in a:\n",
    "    if i not in uni:\n",
    "        uni+=i\n",
    "print(uni)"
   ]
  },
  {
   "cell_type": "code",
   "execution_count": 25,
   "metadata": {},
   "outputs": [
    {
     "name": "stdout",
     "output_type": "stream",
     "text": [
      "saiwthk\n",
      "[['s', 1], ['s', 1], ['s', 1], ['s', 2], ['s', 2], ['s', 2], ['s', 3], ['s', 3], ['s', 3], ['s', 3], ['s', 3], ['a', 0], ['a', 1], ['a', 1], ['a', 1], ['a', 1], ['a', 2], ['a', 2], ['a', 2], ['a', 2], ['a', 2], ['a', 2], ['i', 0], ['i', 0], ['i', 1], ['i', 1], ['i', 1], ['i', 1], ['i', 1], ['i', 1], ['i', 1], ['i', 2], ['i', 2], ['w', 0], ['w', 0], ['w', 0], ['w', 0], ['w', 1], ['w', 1], ['w', 1], ['w', 1], ['w', 1], ['w', 1], ['w', 1], ['t', 0], ['t', 0], ['t', 0], ['t', 0], ['t', 0], ['t', 0], ['t', 0], ['t', 1], ['t', 1], ['t', 1], ['t', 1], ['h', 0], ['h', 0], ['h', 0], ['h', 0], ['h', 0], ['h', 0], ['h', 0], ['h', 0], ['h', 1], ['h', 1], ['h', 1], ['k', 0], ['k', 0], ['k', 0], ['k', 0], ['k', 0], ['k', 0], ['k', 0], ['k', 0], ['k', 0], ['k', 0], ['k', 1]]\n"
     ]
    }
   ],
   "source": [
    "a='saiswasthik'\n",
    "uni=''\n",
    "for i in a:\n",
    "    if i  not in uni:\n",
    "        uni+=i\n",
    "print(uni)\n",
    "l=[]\n",
    "for i in uni:\n",
    "    count=0\n",
    "    for j in a:\n",
    "        if i==j:\n",
    "            count+=1\n",
    "        l+=[[i,count]]\n",
    "print(l)\n"
   ]
  },
  {
   "cell_type": "code",
   "execution_count": 33,
   "metadata": {},
   "outputs": [
    {
     "name": "stdout",
     "output_type": "stream",
     "text": [
      "{'s': 3, 'a': 2, 'i': 2, 'w': 1, 't': 1, 'h': 1, 'k': 1}\n"
     ]
    }
   ],
   "source": [
    "a='saiswasthik'\n",
    "d={}\n",
    "for i in a:\n",
    "    if  i not in d:\n",
    "        d[i]=1\n",
    "    else:\n",
    "        d[i]+=1\n",
    "print(d)"
   ]
  },
  {
   "cell_type": "code",
   "execution_count": 33,
   "metadata": {},
   "outputs": [
    {
     "name": "stdout",
     "output_type": "stream",
     "text": [
      "Msaiswasthik@..123\n"
     ]
    }
   ],
   "source": [
    "p='Msaiswasthik@..123'\n",
    "uc=''\n",
    "lc=''\n",
    "sp=''\n",
    "num=''\n",
    "for i in p:\n",
    "    if 'A'<=i<='Z':\n",
    "        uc+=i\n",
    "    # print(uc)\n",
    "    if 'a'<=i<='z':\n",
    "        lc+=i\n",
    "        # print(lc)\n",
    "    if '0'<=i<='9':\n",
    "        num+=i\n",
    "        # print(sp)\n",
    "    if  i not in['A'<=i<='Z''a'<=i<='z''0'<=i<='9']:\n",
    "        sp+=i\n",
    "print(sp)"
   ]
  },
  {
   "cell_type": "code",
   "execution_count": 36,
   "metadata": {},
   "outputs": [
    {
     "name": "stdout",
     "output_type": "stream",
     "text": [
      "s\n",
      "a\n",
      "i\n"
     ]
    }
   ],
   "source": [
    "a='sai'\n",
    "for i in a:\n",
    "    print(i)"
   ]
  },
  {
   "cell_type": "code",
   "execution_count": 40,
   "metadata": {},
   "outputs": [
    {
     "name": "stdout",
     "output_type": "stream",
     "text": [
      "a 1\n",
      "b 2\n",
      "d 7\n",
      "e 7\n"
     ]
    }
   ],
   "source": [
    "a={'a':1,'b':2,'d':7,'e':7}\n",
    "for i in a:\n",
    "    print( i,a[i])"
   ]
  },
  {
   "cell_type": "code",
   "execution_count": 42,
   "metadata": {},
   "outputs": [
    {
     "name": "stdout",
     "output_type": "stream",
     "text": [
      "MASTI\n"
     ]
    }
   ],
   "source": [
    "a='MsAiSwsThIk'\n",
    "up=''\n",
    "for i in a:\n",
    "    if 'A'<=i<='Z':\n",
    "        up+=i\n",
    "print(up)\n"
   ]
  },
  {
   "cell_type": "code",
   "execution_count": 60,
   "metadata": {},
   "outputs": [
    {
     "name": "stdout",
     "output_type": "stream",
     "text": [
      "@./.@# \n"
     ]
    }
   ],
   "source": [
    "a='@./.@#hagds8A 7'\n",
    "sp=''\n",
    "for i in a:\n",
    "    if  not  ('a'<=i<='z' or '0'<=i<='9' or 'A'<=i<='Z'):\n",
    "        sp+=i\n",
    "print(sp)"
   ]
  },
  {
   "cell_type": "code",
   "execution_count": 66,
   "metadata": {},
   "outputs": [
    {
     "name": "stdout",
     "output_type": "stream",
     "text": [
      "MSAI swasthik 123 ..@@++\n"
     ]
    }
   ],
   "source": [
    "a='MS..AIswasthik@@123++'\n",
    "up=''\n",
    "lc=''\n",
    "sp=''\n",
    "num=''\n",
    "for i in a:\n",
    "    if 'a'<=i<='z':\n",
    "        lc+=i\n",
    "    if 'A'<=i<='Z':\n",
    "        up+=i\n",
    "    if '0'<=i<='9':\n",
    "        num+=i\n",
    "    if not('a'<=i<='z'or'A'<=i<='Z' or'0'<=i<='9'):\n",
    "        sp+=i\n",
    "print(up, lc,num,sp)"
   ]
  },
  {
   "cell_type": "code",
   "execution_count": 1,
   "metadata": {},
   "outputs": [
    {
     "name": "stdout",
     "output_type": "stream",
     "text": [
      "saiwthk\n"
     ]
    }
   ],
   "source": [
    "a='saiswasthik'\n",
    "uni=''\n",
    "for i in a:\n",
    "    if i not in uni:\n",
    "        uni+=i\n",
    "print(uni)\n"
   ]
  },
  {
   "cell_type": "code",
   "execution_count": 8,
   "metadata": {},
   "outputs": [
    {
     "name": "stdout",
     "output_type": "stream",
     "text": [
      "['[', '0', ',', ' ', '2', '3', '4', ']']\n"
     ]
    }
   ],
   "source": [
    "a=[0,20,30,30,40,40]\n",
    "a=str(a)\n",
    "uni=[]\n",
    "for i in a:\n",
    "    if i not in uni:\n",
    "        uni+=[i]\n",
    "print(uni)"
   ]
  },
  {
   "cell_type": "code",
   "execution_count": 21,
   "metadata": {},
   "outputs": [
    {
     "name": "stdout",
     "output_type": "stream",
     "text": [
      "[['s', 1], ['s', 1], ['s', 1], ['s', 2], ['s', 2], ['s', 2], ['s', 3], ['s', 3], ['s', 3], ['s', 3], ['s', 3], ['a', 0], ['a', 1], ['a', 1], ['a', 1], ['a', 1], ['a', 2], ['a', 2], ['a', 2], ['a', 2], ['a', 2], ['a', 2], ['i', 0], ['i', 0], ['i', 1], ['i', 1], ['i', 1], ['i', 1], ['i', 1], ['i', 1], ['i', 1], ['i', 2], ['i', 2], ['w', 0], ['w', 0], ['w', 0], ['w', 0], ['w', 1], ['w', 1], ['w', 1], ['w', 1], ['w', 1], ['w', 1], ['w', 1], ['t', 0], ['t', 0], ['t', 0], ['t', 0], ['t', 0], ['t', 0], ['t', 0], ['t', 1], ['t', 1], ['t', 1], ['t', 1], ['h', 0], ['h', 0], ['h', 0], ['h', 0], ['h', 0], ['h', 0], ['h', 0], ['h', 0], ['h', 1], ['h', 1], ['h', 1], ['k', 0], ['k', 0], ['k', 0], ['k', 0], ['k', 0], ['k', 0], ['k', 0], ['k', 0], ['k', 0], ['k', 0], ['k', 1]]\n",
      "saiwthk\n",
      "1\n"
     ]
    }
   ],
   "source": [
    "a='saiswasthik'\n",
    "temp=a\n",
    "\n",
    "uni=''\n",
    "for i in a:\n",
    "    if i not in uni:\n",
    "        uni+=i\n",
    "l=[]\n",
    "for i in uni:\n",
    "    count=0\n",
    "    for j in a:\n",
    "        if i==j:\n",
    "            count+=1\n",
    "        l+=[[i,count]]\n",
    "print(l)\n",
    "print(uni)\n",
    "print(count)\n",
    "\n"
   ]
  },
  {
   "cell_type": "code",
   "execution_count": 40,
   "metadata": {},
   "outputs": [
    {
     "name": "stdout",
     "output_type": "stream",
     "text": [
      "{'s': 3, 'a': 2, 'i': 2, 'w': 1, 't': 1, 'h': 1, 'k': 1}\n",
      "3\n"
     ]
    }
   ],
   "source": [
    "a='saiswasthik'\n",
    "d={}\n",
    "for i in a:\n",
    "    if i not in d:\n",
    "        d[i]=1\n",
    "    else:\n",
    "        d[i]+=1\n",
    "    \n",
    "print(d)\n",
    "print(d['s'])"
   ]
  },
  {
   "cell_type": "code",
   "execution_count": 47,
   "metadata": {},
   "outputs": [
    {
     "name": "stdout",
     "output_type": "stream",
     "text": [
      "{'s': 3, 'a': 2, 'i': 2, 'w': 1, 't': 1, 'h': 1, 'k': 1}\n",
      "w 1\n"
     ]
    }
   ],
   "source": [
    "a='saiswasthik'\n",
    "d={}\n",
    "for i in a:\n",
    "    if i not in d:\n",
    "        d[i]=1\n",
    "    else:\n",
    "        d[i]+=1\n",
    "print(d)\n",
    "max=9\n",
    "ch=0\n",
    "for i in d:\n",
    "    if max>d[i]:\n",
    "        max=d[i]\n",
    "        ch=i\n",
    "print(ch,max)"
   ]
  },
  {
   "cell_type": "code",
   "execution_count": 54,
   "metadata": {},
   "outputs": [
    {
     "name": "stdout",
     "output_type": "stream",
     "text": [
      "{'s': 3, 'a': 2, 'i': 2, 'w': 1, 't': 1, 'h': 1, 'k': 1}\n",
      "3 s\n"
     ]
    }
   ],
   "source": [
    "a='saiswasthik'\n",
    "d={}\n",
    "for i in a:\n",
    "    if i not in d:\n",
    "        d[i]=1\n",
    "    else:\n",
    "        d[i]+=1\n",
    "print(d)\n",
    "chr=0\n",
    "max=0\n",
    "for i in d:\n",
    "    if max<d[i]:\n",
    "        max=d[i]\n",
    "        chr=i\n",
    "print(max,chr)"
   ]
  },
  {
   "cell_type": "code",
   "execution_count": 57,
   "metadata": {},
   "outputs": [
    {
     "name": "stdout",
     "output_type": "stream",
     "text": [
      "{'s': 3, 'a': 2, 'i': 2, 'w': 1, 't': 1, 'h': 1, 'k': 1}\n",
      "k 1\n"
     ]
    }
   ],
   "source": [
    "a='saiswasthik'\n",
    "d={}\n",
    "for i in a:\n",
    "    if i not in d:\n",
    "        d[i]=1\n",
    "    else:\n",
    "        d[i]+=1\n",
    "print(d)\n",
    "min=9\n",
    "chr=0\n",
    "for i in d:\n",
    "    if min>=d[i]:\n",
    "        min=d[i]\n",
    "        chr=i\n",
    "print(chr,min)\n"
   ]
  },
  {
   "cell_type": "code",
   "execution_count": 3,
   "metadata": {},
   "outputs": [
    {
     "name": "stdout",
     "output_type": "stream",
     "text": [
      "SST\n"
     ]
    }
   ],
   "source": [
    "a='SaiSwasThik'\n",
    "res=''\n",
    "res1=''\n",
    "for i in a:\n",
    "    if 'A'<=i<='Z':\n",
    "        res+=i\n",
    "print(res)"
   ]
  },
  {
   "cell_type": "code",
   "execution_count": 7,
   "metadata": {},
   "outputs": [
    {
     "name": "stdout",
     "output_type": "stream",
     "text": [
      "level\n",
      "palindrom\n"
     ]
    }
   ],
   "source": [
    "a='level'\n",
    "rev=''\n",
    "for i in a:\n",
    "    rev=i+rev\n",
    "print(rev)\n",
    "if rev==a:\n",
    "    print('palindrom')\n",
    "else:\n",
    "    print('not  a palindrom')"
   ]
  },
  {
   "cell_type": "code",
   "execution_count": 14,
   "metadata": {},
   "outputs": [
    {
     "name": "stdout",
     "output_type": "stream",
     "text": [
      "m\n",
      "mo\n",
      "mob\n",
      "mobi\n",
      "mobil\n",
      "mobile\n"
     ]
    }
   ],
   "source": [
    "a='mobile'\n",
    "pos=1\n",
    "for i in a:\n",
    "    print(a[0:pos])\n",
    "    pos+=1\n"
   ]
  },
  {
   "cell_type": "code",
   "execution_count": 19,
   "metadata": {},
   "outputs": [
    {
     "name": "stdout",
     "output_type": "stream",
     "text": [
      "\n",
      "m\n",
      "mo\n",
      "mob\n",
      "mobi\n",
      "mobil\n"
     ]
    }
   ],
   "source": [
    "a='mobile'\n",
    "res=''\n",
    "for i  in a:\n",
    "    print(res)\n",
    "    res+=i"
   ]
  },
  {
   "cell_type": "code",
   "execution_count": 26,
   "metadata": {},
   "outputs": [
    {
     "name": "stdout",
     "output_type": "stream",
     "text": [
      "[1, 2, 3, 4, 5, 6, 7, 8, 9, 10]\n"
     ]
    }
   ],
   "source": [
    "a=list(range(1,11,1))\n",
    "print(a)"
   ]
  },
  {
   "cell_type": "code",
   "execution_count": 32,
   "metadata": {},
   "outputs": [
    {
     "name": "stdout",
     "output_type": "stream",
     "text": [
      "[10, 9, 8, 7, 6, 5, 4, 3, 2, 1]\n"
     ]
    }
   ],
   "source": [
    "a=list(range(10,0,-1))\n",
    "print(a)"
   ]
  },
  {
   "cell_type": "code",
   "execution_count": 34,
   "metadata": {},
   "outputs": [
    {
     "name": "stdout",
     "output_type": "stream",
     "text": [
      "[-10, -9, -8, -7, -6, -5, -4, -3, -2]\n"
     ]
    }
   ],
   "source": [
    "a=list(range(-10,-1,1))\n",
    "print(a)"
   ]
  },
  {
   "cell_type": "code",
   "execution_count": 35,
   "metadata": {},
   "outputs": [
    {
     "name": "stdout",
     "output_type": "stream",
     "text": [
      "[-1, -2, -3, -4, -5, -6, -7, -8, -9]\n"
     ]
    }
   ],
   "source": [
    "a=list(range(-1,-10,-1))\n",
    "print(a)"
   ]
  },
  {
   "cell_type": "code",
   "execution_count": 38,
   "metadata": {},
   "outputs": [
    {
     "name": "stdout",
     "output_type": "stream",
     "text": [
      "l 0\n",
      "e 1\n",
      "v 2\n",
      "e 3\n",
      "l 4\n"
     ]
    }
   ],
   "source": [
    "a='level'\n",
    "for i in range(0,len(a)):\n",
    "    print(a[i],i)"
   ]
  },
  {
   "cell_type": "code",
   "execution_count": 40,
   "metadata": {},
   "outputs": [
    {
     "name": "stdout",
     "output_type": "stream",
     "text": [
      "\n",
      "l\n",
      "le\n",
      "lev\n",
      "leve\n",
      "level\n"
     ]
    }
   ],
   "source": [
    "a='level'\n",
    "for i in range(0,len(a)+1):\n",
    "    print(a[0:i])"
   ]
  },
  {
   "cell_type": "code",
   "execution_count": 44,
   "metadata": {},
   "outputs": [
    {
     "name": "stdout",
     "output_type": "stream",
     "text": [
      "l\n",
      "le\n",
      "lev\n",
      "leve\n",
      "level\n"
     ]
    }
   ],
   "source": [
    "a='level'\n",
    "re=''\n",
    "for i in range(0,len(a)):\n",
    "    re+=a[i]\n",
    "    print(re)"
   ]
  },
  {
   "cell_type": "code",
   "execution_count": 50,
   "metadata": {},
   "outputs": [
    {
     "name": "stdout",
     "output_type": "stream",
     "text": [
      "1\n",
      "2\n",
      "3\n",
      "4\n",
      "5\n",
      "6\n",
      "7\n"
     ]
    }
   ],
   "source": [
    "a='1234567'\n",
    "for i in a:\n",
    "    print(i)\n",
    "    if i=='6':\n",
    "        continue\n"
   ]
  },
  {
   "cell_type": "code",
   "execution_count": 1,
   "metadata": {},
   "outputs": [
    {
     "name": "stdout",
     "output_type": "stream",
     "text": [
      "1\n",
      "2\n",
      "3\n",
      "4\n",
      "5\n"
     ]
    }
   ],
   "source": [
    "for x in range (1,6):\n",
    "    print(x)"
   ]
  },
  {
   "cell_type": "code",
   "execution_count": 2,
   "metadata": {},
   "outputs": [
    {
     "name": "stdout",
     "output_type": "stream",
     "text": [
      "8\n"
     ]
    }
   ],
   "source": [
    "\n",
    "var=eval(input('enter the value'))\n",
    "if type(var) in [int,list,tuple,set,dict]:\n",
    "    count=0\n",
    "    for i in var:\n",
    "        count+=1\n",
    "    print(count)"
   ]
  },
  {
   "cell_type": "code",
   "execution_count": 4,
   "metadata": {},
   "outputs": [
    {
     "ename": "TypeError",
     "evalue": "string indices must be integers, not 'str'",
     "output_type": "error",
     "traceback": [
      "\u001b[1;31m---------------------------------------------------------------------------\u001b[0m",
      "\u001b[1;31mTypeError\u001b[0m                                 Traceback (most recent call last)",
      "\u001b[1;32mc:\\Users\\saisw\\Documents\\GitHub\\saiswasthik.python\\for loop.ipynb Cell 36\u001b[0m line \u001b[0;36m3\n\u001b[0;32m      <a href='vscode-notebook-cell:/c%3A/Users/saisw/Documents/GitHub/saiswasthik.python/for%20loop.ipynb#X50sZmlsZQ%3D%3D?line=0'>1</a>\u001b[0m a\u001b[39m=\u001b[39m\u001b[39m'\u001b[39m\u001b[39msaiswasthik\u001b[39m\u001b[39m'\u001b[39m\n\u001b[0;32m      <a href='vscode-notebook-cell:/c%3A/Users/saisw/Documents/GitHub/saiswasthik.python/for%20loop.ipynb#X50sZmlsZQ%3D%3D?line=1'>2</a>\u001b[0m \u001b[39mfor\u001b[39;00m i \u001b[39min\u001b[39;00m a:\n\u001b[1;32m----> <a href='vscode-notebook-cell:/c%3A/Users/saisw/Documents/GitHub/saiswasthik.python/for%20loop.ipynb#X50sZmlsZQ%3D%3D?line=2'>3</a>\u001b[0m     \u001b[39mprint\u001b[39m(a[i])\n",
      "\u001b[1;31mTypeError\u001b[0m: string indices must be integers, not 'str'"
     ]
    }
   ],
   "source": [
    "a='saiswasthik'\n",
    "for i in a:\n",
    "    print(a[i])"
   ]
  },
  {
   "cell_type": "code",
   "execution_count": null,
   "metadata": {},
   "outputs": [],
   "source": []
  }
 ],
 "metadata": {
  "kernelspec": {
   "display_name": "Python 3",
   "language": "python",
   "name": "python3"
  },
  "language_info": {
   "codemirror_mode": {
    "name": "ipython",
    "version": 3
   },
   "file_extension": ".py",
   "mimetype": "text/x-python",
   "name": "python",
   "nbconvert_exporter": "python",
   "pygments_lexer": "ipython3",
   "version": "3.11.4"
  },
  "orig_nbformat": 4
 },
 "nbformat": 4,
 "nbformat_minor": 2
}
