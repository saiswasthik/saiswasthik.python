{
 "cells": [
  {
   "cell_type": "code",
   "execution_count": 19,
   "metadata": {},
   "outputs": [
    {
     "name": "stdout",
     "output_type": "stream",
     "text": [
      "{'name': 'sai', 'age': 22, 'gender': 'male', 'mobileno': 9087654377, 'email': 'sai@gmail.com'}\n",
      "sai sai@gmail.com 22 9087654377\n",
      "sai@gmail.com\n",
      "hyd\n"
     ]
    }
   ],
   "source": [
    "class msai:\n",
    "    name='sai'\n",
    "    addres='hyd'\n",
    "    mobile='0987654'\n",
    "    def __init__(self ,name,age,gender,mobileno,email ):\n",
    "        self.name=name\n",
    "        self.age=age\n",
    "        self.gender=gender\n",
    "        self.mobileno=mobileno\n",
    "        self.email=email\n",
    "    sai=msai('sai',22,'male',9087654377,'sai@gmail.com')\n",
    "    print(sai.__dict__)\n",
    "    print(sai.name,sai.email,sai.age,sai.mobileno)\n",
    "    print(sai.email)\n",
    "    print(msai.addres)   \n"
   ]
  },
  {
   "cell_type": "code",
   "execution_count": null,
   "metadata": {},
   "outputs": [],
   "source": [
    "class coustemr:\n",
    "    cust_details={}\n",
    "    def __init__(self):\n",
    "        self.c_name=self.cname()\n",
    "        self.c_age=self.cage()\n",
    "        self.c_phone=self.cphon()\n",
    "        self.c_address=self.caddress\n",
    "        self.c_adhaar=self.cadhaar\n",
    "        self.inc_cust_count()\n",
    "        self.cust_id=1560+self.cust_count\n",
    "        self.concat_cust(self.cust_id,self)\n",
    "        self.csuccess()\n",
    "        @staticmethod\n",
    "        def cadress():\n",
    "            return input('enter the adress')\n",
    "        @staticmethod\n",
    "        def csuccess():\n",
    "            print('customer registeration is succesfull')\n",
    "        @classmethod\n",
    "        def cname(cls):\n",
    "            name=input('enter the user name')\n",
    "            if not(3<=len(name)<=16):\n",
    "                print('use name must be more than 3 and less thaen 16')\n",
    "                return cls.cname()\n",
    "            else:\n",
    "                return name.upper()\n",
    "        @classmethod\n",
    "        def cphone(cls):\n",
    "            phone=input('enter the phone number')\n",
    "            if not(len(phone)==10):\n",
    "                print('phone number should be must 10 digits')\n",
    "                return cls.cphone()\n",
    "            elif not (phone [0] in '9876'):\n",
    "                print('phone number start with 9876')\n",
    "                return cls.cphone()\n",
    "            \n"
   ]
  },
  {
   "cell_type": "code",
   "execution_count": 8,
   "metadata": {},
   "outputs": [
    {
     "data": {
      "text/plain": [
       "mappingproxy({'__module__': '__main__',\n",
       "              'name': 'sai',\n",
       "              'addres': 'hyd',\n",
       "              'mobile': '0987654',\n",
       "              '__init__': <function __main__.msai.__init__(self, name, age, gender, mobileno, email)>,\n",
       "              'sai': ('sai', 22, 'male', '0-90876543', 'sai@gmail.com'),\n",
       "              '__dict__': <attribute '__dict__' of 'msai' objects>,\n",
       "              '__weakref__': <attribute '__weakref__' of 'msai' objects>,\n",
       "              '__doc__': None})"
      ]
     },
     "execution_count": 8,
     "metadata": {},
     "output_type": "execute_result"
    }
   ],
   "source": [
    "msai.__dict__"
   ]
  },
  {
   "cell_type": "code",
   "execution_count": null,
   "metadata": {},
   "outputs": [],
   "source": [
    "# class student:\n",
    "#     cname = 'ravinder'\n",
    "#     tollno = 18000123\n",
    "#     stud_count = 0\n",
    "#     stud_details = {}\n",
    "\n",
    "#     def __init__(self, s_name, phone, email, address, mark1, mark2, mark3,roll_no, tot_mark, per):\n",
    "#         self.s_name = s_name\n",
    "#         self.phone = phone\n",
    "#         self.email = email\n",
    "#         self.address = address\n",
    "#         self.mark1 = mark1\n",
    "#         self.mark2 = mark2\n",
    "#         self.mark3 = mark3\n",
    "#         self.roll_no = roll_no\n",
    "#         self.s_name = s_name\n",
    "#         self.tot_mark = tot_mark\n",
    "#         self.per = per\n",
    "#         self.inc_stud_count()\n",
    "#         self.stud_id = 1200 + self.stud_count\n",
    "#         self.set_stud_details(self.stud_id, self)\n",
    "\n",
    "\n",
    "#     @classmethod\n",
    "#     def inc_stud_count(cls):\n",
    "#         cls.stud_count+=1\n",
    "\n",
    "#     @classmethod\n",
    "#     def set_stud_details(cls, id, self):\n",
    "#         cls.stud_details[id] = self\n",
    "    \n",
    "#     def calculate_total_mark(self):\n",
    "#         return self.mark1 + self.mark2 + self.mark3\n",
    "\n",
    "#     @classmethod\n",
    "#     def display_stud_details(cls):\n",
    "#         s_list = cls.stud_details\n",
    "#         print('Roll No','student name', 'Total mark', 'Percentage',sep='  || ')\n",
    "#         for i in s_list:\n",
    "#             print(s_list[i].roll_no, \n",
    "#                   s_list[i].s_name, \n",
    "#                   s_list[i].tot_mark,\n",
    "#                   s_list[i].per, sep='  |  ')\n",
    "\n",
    "#     def modify_marks(self):\n",
    "#         n=int(input(\"Choose 1.mark1\\n2.mark2\\n3.mark3\\n4.exit:\"))\n",
    "#         match n:\n",
    "#             case 1:\n",
    "#                 self.mark1 = int(input(\"Change The Mark1:\"))\n",
    "#                 print('Mark is success fullly changed with new mark', self.mark1)\n",
    "#             case 2:\n",
    "#                 self.mark2 = int(input(\"Change The Mark2 :\"))\n",
    "#                 print('Mark is success fullly changed with new mark', self.mark2)\n",
    "\n",
    "#             case 3:\n",
    "#                 self.mark3 = int(input(\"Change The Mark3:\"))\n",
    "#                 print('Mark is success fullly changed with new mark', self.mark3)\n",
    "\n",
    "#             case _:\n",
    "#                 return \n",
    "#         return \n",
    "\n",
    "#     @classmethod\n",
    "#     def change_school_tollno(cls):\n",
    "#         cls.tollno = int(input(\"Enter A New Toll No: \"))\n",
    "#         print('Number is successfully changed')\n",
    "\n",
    "    \n",
    "\n",
    "# sami = student('sami', 9876543213, 'sami@gmail.com', 'telangana', 68, 73, 95, 101, 432, '71%')\n",
    "# sai = student('sai', 9876543213, 'sai@gmail.com', 'telangana', 67, 87, 90, 102, 530, '88%')\n",
    "# jeggu = student('jaggu', 9876543213, 'jeggu@gmail.com', 'telangana', 67, 87, 90, 103, 468, '79%')\n",
    "\n",
    "\n",
    "# sami.calculate_total_mark()\n",
    "# student.display_stud_details()\n",
    "# student.stud_details[1203].__dict__\n",
    "# sami.modify_marks()\n",
    "# student.change_school_tollno()"
   ]
  },
  {
   "cell_type": "code",
   "execution_count": 8,
   "metadata": {},
   "outputs": [
    {
     "name": "stdout",
     "output_type": "stream",
     "text": [
      "<class '__main__.area'>\n"
     ]
    }
   ],
   "source": [
    "class area:\n",
    "    pi=3.14\n",
    "    def circle(self,radius):\n",
    "        self.radius=radius\n",
    "        self.area=self.pi*radius*radius\n",
    "        return area\n",
    "print(area)\n",
    "\n",
    "\n"
   ]
  },
  {
   "cell_type": "code",
   "execution_count": 10,
   "metadata": {},
   "outputs": [],
   "source": [
    "class count:\n",
    "    a=1\n",
    "    def num(self,a):\n",
    "        self.a=a\n",
    "    @classmethod\n",
    "    def inc(cls):\n",
    "        a+=1\n"
   ]
  },
  {
   "cell_type": "code",
   "execution_count": 11,
   "metadata": {},
   "outputs": [
    {
     "ename": "AttributeError",
     "evalue": "'classmethod' object has no attribute 'a'",
     "output_type": "error",
     "traceback": [
      "\u001b[1;31m---------------------------------------------------------------------------\u001b[0m",
      "\u001b[1;31mAttributeError\u001b[0m                            Traceback (most recent call last)",
      "\u001b[1;32mc:\\Users\\saisw\\Documents\\GitHub\\saiswasthik.python\\oops.ipynb Cell 6\u001b[0m line \u001b[0;36m1\n\u001b[1;32m----> <a href='vscode-notebook-cell:/c%3A/Users/saisw/Documents/GitHub/saiswasthik.python/oops.ipynb#W5sZmlsZQ%3D%3D?line=0'>1</a>\u001b[0m inc\u001b[39m.\u001b[39;49ma\n",
      "\u001b[1;31mAttributeError\u001b[0m: 'classmethod' object has no attribute 'a'"
     ]
    }
   ],
   "source": [
    "inc.a"
   ]
  },
  {
   "cell_type": "code",
   "execution_count": 12,
   "metadata": {},
   "outputs": [
    {
     "name": "stdout",
     "output_type": "stream",
     "text": [
      "<__main__.Vehicle object at 0x0000023F298B3790>\n"
     ]
    }
   ],
   "source": [
    "class Vehicle:\n",
    "    def __init__(self,driver,wheels,seats):\n",
    "        self.driver = driver\n",
    "        self.noofwheels = wheels\n",
    "        self.noofseats = seats\n",
    "\n",
    "veh_1 = Vehicle(\"Sandy\", 4, 2)\n",
    "print(veh_1)"
   ]
  },
  {
   "cell_type": "code",
   "execution_count": 17,
   "metadata": {},
   "outputs": [
    {
     "name": "stdout",
     "output_type": "stream",
     "text": [
      "4\n"
     ]
    }
   ],
   "source": [
    "print(veh_1.noofwheels)"
   ]
  },
  {
   "cell_type": "code",
   "execution_count": 23,
   "metadata": {},
   "outputs": [
    {
     "data": {
      "text/plain": [
       "'premium'"
      ]
     },
     "execution_count": 23,
     "metadata": {},
     "output_type": "execute_result"
    }
   ],
   "source": [
    "class Flat:\n",
    "    def __init__(self):\n",
    "        self.type = \"premium\"\n",
    "        self.__bhk = \"3 BHK\"\n",
    "\n",
    "flat_1 = Flat()\n",
    "flat_1.type"
   ]
  },
  {
   "cell_type": "code",
   "execution_count": 25,
   "metadata": {},
   "outputs": [
    {
     "data": {
      "text/plain": [
       "{'type': 'premium', '_Flat__bhk': '3 BHK'}"
      ]
     },
     "execution_count": 25,
     "metadata": {},
     "output_type": "execute_result"
    }
   ],
   "source": [
    "flat_1.__dict__"
   ]
  },
  {
   "cell_type": "code",
   "execution_count": null,
   "metadata": {},
   "outputs": [],
   "source": []
  }
 ],
 "metadata": {
  "kernelspec": {
   "display_name": "Python 3",
   "language": "python",
   "name": "python3"
  },
  "language_info": {
   "codemirror_mode": {
    "name": "ipython",
    "version": 3
   },
   "file_extension": ".py",
   "mimetype": "text/x-python",
   "name": "python",
   "nbconvert_exporter": "python",
   "pygments_lexer": "ipython3",
   "version": "3.11.4"
  }
 },
 "nbformat": 4,
 "nbformat_minor": 2
}
