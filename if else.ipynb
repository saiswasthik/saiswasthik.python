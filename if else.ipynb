{
 "cells": [
  {
   "cell_type": "code",
   "execution_count": 25,
   "metadata": {},
   "outputs": [
    {
     "name": "stdout",
     "output_type": "stream",
     "text": [
      "negative\n"
     ]
    }
   ],
   "source": [
    "# 1WAP to check whether a number is positive or negative. If Positive print positive \n",
    "#message or else print Negative Number.\n",
    "a=-10\n",
    "if a>0:\n",
    "    print('positive')\n",
    "else:\n",
    "    print('negative')"
   ]
  },
  {
   "cell_type": "code",
   "execution_count": 26,
   "metadata": {},
   "outputs": [
    {
     "name": "stdout",
     "output_type": "stream",
     "text": [
      "even\n"
     ]
    }
   ],
   "source": [
    "# 2WAP to check whether a number is even or odd. If even, print message an even \n",
    "#or else print message as odd.\n",
    "\n",
    "a=10\n",
    "if a%2==0:\n",
    "    print('even')\n",
    "else:\n",
    "    print('odd')"
   ]
  },
  {
   "cell_type": "code",
   "execution_count": 27,
   "metadata": {},
   "outputs": [
    {
     "name": "stdout",
     "output_type": "stream",
     "text": [
      "no is greater than 10\n"
     ]
    }
   ],
   "source": [
    "#3Write a program to check whether a given number is greater than 10 or not. if it \n",
    "#is greater than 10 print message as greater or else print that number with not a \n",
    "#greater than.\n",
    "a=11\n",
    "if a>10:\n",
    "    print('no is greater than 10')\n",
    "else:\n",
    "    print(' no is less than 10')"
   ]
  },
  {
   "cell_type": "code",
   "execution_count": 28,
   "metadata": {},
   "outputs": [
    {
     "name": "stdout",
     "output_type": "stream",
     "text": [
      "30  divisuble by 3 and 5\n"
     ]
    }
   ],
   "source": [
    "# 4WAP to check whether the given two input numbers are divisible by 3 and 5. If it \n",
    "#is divisible, print “Good Morning”, if it is not divisible print “Good Evening”.\n",
    "a=30\n",
    "if a%3==0 and a%5==0:\n",
    "    print(a,' divisuble by 3 and 5')\n",
    "else:\n",
    "    print(a,' divisuble  not by 3 and 5')"
   ]
  },
  {
   "cell_type": "code",
   "execution_count": 29,
   "metadata": {},
   "outputs": [
    {
     "name": "stdout",
     "output_type": "stream",
     "text": [
      "100\n"
     ]
    }
   ],
   "source": [
    "# 5 WAP to accept two integers and check whether those two values are equal or not.\n",
    "#If equal, multiply to value or else to display the quotation value.\n",
    "a=10\n",
    "b=10\n",
    "if a==b:\n",
    "    print( a*b)\n",
    "else:\n",
    "    print(a/b)"
   ]
  },
  {
   "cell_type": "code",
   "execution_count": 30,
   "metadata": {},
   "outputs": [
    {
     "name": "stdout",
     "output_type": "stream",
     "text": [
      "10\n"
     ]
    }
   ],
   "source": [
    "# 6WAP to find the largest of two numbers.\n",
    "a=10\n",
    "b=3\n",
    "if a>b:\n",
    "    print(a)\n",
    "\n",
    "else:\n",
    "    print(b)"
   ]
  },
  {
   "cell_type": "code",
   "execution_count": 31,
   "metadata": {},
   "outputs": [
    {
     "name": "stdout",
     "output_type": "stream",
     "text": [
      "no is greater than 10\n"
     ]
    }
   ],
   "source": [
    "#(7)WAP to check whether the input number is greater than 10 or not if it is greater \n",
    "#than 10 print messages as greater with number. if it is not a greater than 10 print \n",
    "#that number.\n",
    "a=11\n",
    "if a>10:\n",
    "    print('no is greater than 10')\n",
    "else:\n",
    "    print(' no is less than 10')"
   ]
  },
  {
   "cell_type": "code",
   "execution_count": 32,
   "metadata": {},
   "outputs": [
    {
     "name": "stdout",
     "output_type": "stream",
     "text": [
      "6\n"
     ]
    }
   ],
   "source": [
    "#8WAP to the given number integer, if n is greater than 21,print the absolute \n",
    "#difference between n and 21 otherwise print twice the absolute difference.\n",
    "a=18\n",
    "if a>21:\n",
    "    b=abs(a-21)\n",
    "    print(b)\n",
    "else:\n",
    "    print(abs(a-21)*2)\n"
   ]
  },
  {
   "cell_type": "code",
   "execution_count": 33,
   "metadata": {},
   "outputs": [
    {
     "name": "stdout",
     "output_type": "stream",
     "text": [
      "3\n"
     ]
    }
   ],
   "source": [
    "#9WAP to find the smallest of two numbers\n",
    "a=10\n",
    "b=3\n",
    "if a<b:\n",
    "    print(a)\n",
    "\n",
    "else:\n",
    "    print(b)\n"
   ]
  },
  {
   "cell_type": "code",
   "execution_count": 34,
   "metadata": {},
   "outputs": [
    {
     "name": "stdout",
     "output_type": "stream",
     "text": [
      "10\n"
     ]
    }
   ],
   "source": [
    "# 10WAP to check whether the given number is even or odd. If it is even then make \n",
    "#it as an add number, if it is an odd number then make it as even number.\n",
    "a=11\n",
    "if a%2==0:\n",
    "    b=a+1\n",
    "    print(b)\n",
    "\n",
    "else:\n",
    "    c=a-1\n",
    "    print(c)\n"
   ]
  },
  {
   "cell_type": "code",
   "execution_count": 35,
   "metadata": {},
   "outputs": [
    {
     "name": "stdout",
     "output_type": "stream",
     "text": [
      "4096\n"
     ]
    }
   ],
   "source": [
    "# 11WAP to check whether the given number is divisible by 3 or not if yes, print the \n",
    "#number or else print the cube of the numbers.\n",
    "a=16\n",
    "if a%3==0:\n",
    "    print(a)\n",
    "\n",
    "else:\n",
    "    print(a**3)"
   ]
  },
  {
   "cell_type": "code",
   "execution_count": 36,
   "metadata": {},
   "outputs": [
    {
     "name": "stdout",
     "output_type": "stream",
     "text": [
      "31\n",
      "<class 'str'>\n"
     ]
    }
   ],
   "source": [
    "# 12WAP to check whether the given input is divisible by 3 and 5. If yes print the \n",
    "#actual number or else print string of that number.\n",
    "a=31\n",
    "if a%3==0 and a%5==0:\n",
    "    print(a)\n",
    "else:\n",
    "    b=str(a)\n",
    "    print(b)\n",
    "    print(type(b))"
   ]
  },
  {
   "cell_type": "code",
   "execution_count": 37,
   "metadata": {},
   "outputs": [
    {
     "name": "stdout",
     "output_type": "stream",
     "text": [
      "8000\n"
     ]
    }
   ],
   "source": [
    "#13WAP to check whether the given number lies between 1 to 19, if it is true square \n",
    "#that number or else false cube that number and display the number.\n",
    "a=20\n",
    "if a<=19 and a>=1:\n",
    "    print(a**2)\n",
    "else:\n",
    "    print(a**3)"
   ]
  },
  {
   "cell_type": "code",
   "execution_count": 38,
   "metadata": {},
   "outputs": [
    {
     "name": "stdout",
     "output_type": "stream",
     "text": [
      "50 pass\n"
     ]
    }
   ],
   "source": [
    "#14WAP to check whether the student has passed or failed. If the student got more \n",
    "#than 40 marks, print ‘PASS’ along with those marks, if it is not printed ‘FAIL’ along \n",
    "#with those marks\n",
    "m=50\n",
    "if m >40:\n",
    "    print(m,'pass')\n",
    "else:\n",
    "    print(m,'fail')"
   ]
  },
  {
   "cell_type": "code",
   "execution_count": 39,
   "metadata": {},
   "outputs": [
    {
     "name": "stdout",
     "output_type": "stream",
     "text": [
      "2\n"
     ]
    }
   ],
   "source": [
    "# 15 WAP to check whether a given value is even and in range of 47 to 58 and not in 0 \n",
    "#or odd. if condition is True, to perform display the ascii character. or else to \n",
    "#perform floor division with 5 and display it.\n",
    "a=50\n",
    "if 47<=a<58:\n",
    "    print(chr(a))"
   ]
  },
  {
   "cell_type": "code",
   "execution_count": 40,
   "metadata": {},
   "outputs": [
    {
     "name": "stdout",
     "output_type": "stream",
     "text": [
      "[45]\n"
     ]
    }
   ],
   "source": [
    "# 16WAP to check whether a given value is less than 125 and in between 47 to 125 or \n",
    "#not. if condition is True, to perform store the given value as key and value as a \n",
    "#character into the dict or else to append the value in list and display it.\n",
    "a=45\n",
    "if a<125 and a>47:\n",
    "    b={}\n",
    "    b[chr(a)]=a\n",
    "    print(b)\n",
    "else:\n",
    "    c=[]\n",
    "    c+=[a]\n",
    "    print(c)\n",
    "\n"
   ]
  },
  {
   "cell_type": "code",
   "execution_count": 41,
   "metadata": {},
   "outputs": [
    {
     "name": "stdout",
     "output_type": "stream",
     "text": [
      "@ it is not a alphabet\n"
     ]
    }
   ],
   "source": [
    "# 17 WAP to check whether a given character is in the alphabet or not. if alphabet, \n",
    "#display the alphabet with character or else display the not alphabet with \n",
    "#character.\n",
    "a='@'\n",
    "if a>='a' and a<'z':\n",
    "    print(a,'it is a alphabet')\n",
    "else:\n",
    "    print(a,'it is not a alphabet')"
   ]
  },
  {
   "cell_type": "code",
   "execution_count": 42,
   "metadata": {},
   "outputs": [
    {
     "name": "stdout",
     "output_type": "stream",
     "text": [
      "B it is a  upper character\n"
     ]
    }
   ],
   "source": [
    "# 18 WAP to check whether a given character is uppercase or other character. if \n",
    "#uppercase, display the uppercase with character or else display the other \n",
    "#character with character.\n",
    "a='B'\n",
    "if a>='A' and a<'Z':\n",
    "    print(a,'it is a  upper character')\n",
    "else :\n",
    "    print(a,'it is not a character')"
   ]
  },
  {
   "cell_type": "code",
   "execution_count": 43,
   "metadata": {},
   "outputs": [
    {
     "name": "stdout",
     "output_type": "stream",
     "text": [
      "a it is a lower character\n"
     ]
    }
   ],
   "source": [
    "# 19 WAP to check whether a given character is lowercase or other character. if \n",
    "#lowercase, display the lowercase with character or else display the other\n",
    "#character with character.\n",
    "a='a'\n",
    "if a>='a' and a<'z':\n",
    "    print(a,'it is a lower character')\n",
    "else :\n",
    "    print(a,'it is not a character')\n"
   ]
  },
  {
   "cell_type": "code",
   "execution_count": 44,
   "metadata": {},
   "outputs": [
    {
     "name": "stdout",
     "output_type": "stream",
     "text": [
      "b\n"
     ]
    }
   ],
   "source": [
    "# 20WAP to check whether a given character is uppercase or other character. if \n",
    "#uppercase, convert to lowercase .or else display the ascii number.\n",
    "a='B'\n",
    "if a>='A' and a<'Z':\n",
    "    b=chr(ord(a)+32)\n",
    "    print(b)\n",
    "else:\n",
    "    print(ord(a))"
   ]
  },
  {
   "cell_type": "code",
   "execution_count": 45,
   "metadata": {},
   "outputs": [
    {
     "name": "stdout",
     "output_type": "stream",
     "text": [
      "b\n"
     ]
    }
   ],
   "source": [
    "# 21 WAP to check whether the given character is in lowercase or uppercase. If it is \n",
    "#in lowercase, convert it into uppercase, or else it is in uppercase and convert it \n",
    "#into lowercase. Display the value.\n",
    "a='B'\n",
    "if a>='a' and a<'z':\n",
    "    b=chr(ord(a)-32)\n",
    "    print(b)\n",
    "else:\n",
    "    b=chr(ord(a)+32)\n",
    "    print(b)"
   ]
  },
  {
   "cell_type": "code",
   "execution_count": 62,
   "metadata": {},
   "outputs": [
    {
     "name": "stdout",
     "output_type": "stream",
     "text": [
      "765\n"
     ]
    }
   ],
   "source": [
    "# 22 WAP to check whether the given string of the first character is a special symbol \n",
    "#or not. If a special symbol, to extract and display the middle character or else to \n",
    "#reverse the string and display the half of the string.\n",
    "a='1234567'\n",
    "if   not  (a[0]>='a' or a[0]<='z'  or a[0]>='A' or a[0]<='Z' or a[0]>='0' or a[0]<='9'):\n",
    "    print(a[len(a)//2])\n",
    "else:\n",
    "    a=a[::-1]\n",
    "    print(a[:len(a)//2])"
   ]
  },
  {
   "cell_type": "code",
   "execution_count": null,
   "metadata": {},
   "outputs": [
    {
     "name": "stdout",
     "output_type": "stream",
     "text": [
      "consonant\n"
     ]
    }
   ],
   "source": [
    "#23WAP to check whether the input character is a vowel or not. If it is vowel print \n",
    "#‘VOWEL’ along with that character, if it is not just print ‘CONSONANT’\n",
    "a='c'\n",
    "if a in 'aeiouAEIOU':\n",
    "    print( 'vowel')\n",
    "else:\n",
    "    print('consonant')"
   ]
  },
  {
   "cell_type": "code",
   "execution_count": null,
   "metadata": {},
   "outputs": [
    {
     "name": "stdout",
     "output_type": "stream",
     "text": [
      "o\n"
     ]
    }
   ],
   "source": [
    "# 24 WAP to check whether a given character is a vowel or consonant. if vowel, to \n",
    "#print the next character of a given character or else print previous characters.\n",
    "a='p'\n",
    "if a in 'aeiouAEIOU':\n",
    "    print(chr(ord(a)+1))\n",
    "else:\n",
    "    print(chr(ord(a)-1))"
   ]
  },
  {
   "cell_type": "code",
   "execution_count": null,
   "metadata": {},
   "outputs": [
    {
     "name": "stdout",
     "output_type": "stream",
     "text": [
      "b\n"
     ]
    }
   ],
   "source": [
    "# 25 WAP to check whether a given string of first character is alphabet or not\n",
    "#if the alphabet prints, reverse the string or else print the middle character.\n",
    "a='Aabc'\n",
    "if a>='a' and a<'z':\n",
    "    print(a[::-1])\n",
    "else:\n",
    "    print(a[len(a)//2])"
   ]
  },
  {
   "cell_type": "code",
   "execution_count": null,
   "metadata": {},
   "outputs": [
    {
     "name": "stdout",
     "output_type": "stream",
     "text": [
      "B\n"
     ]
    }
   ],
   "source": [
    "# 26WAP to check whether the given input character is uppercase or lowercase. If \n",
    "#the input character is upper case convert into lower case and vice versa.\n",
    "a='b'\n",
    "if a>='a' and a<'z':\n",
    "    b=chr(ord(a)-32)\n",
    "    print(b)\n",
    "else:\n",
    "    b=chr(ord(a)+32)\n",
    "    print(b)\n"
   ]
  },
  {
   "cell_type": "code",
   "execution_count": null,
   "metadata": {},
   "outputs": [
    {
     "name": "stdout",
     "output_type": "stream",
     "text": [
      "sthik\n"
     ]
    }
   ],
   "source": [
    "# 27 WAP to check whether a given string is less than 3 characters, to print the entire \n",
    "#string otherwise to print after third positions to the remaining string.\n",
    "a='swasthik'\n",
    "if len(a)<3:\n",
    "    print(a)\n",
    "else:\n",
    "    print(a[3:])"
   ]
  },
  {
   "cell_type": "code",
   "execution_count": null,
   "metadata": {},
   "outputs": [
    {
     "name": "stdout",
     "output_type": "stream",
     "text": [
      "sq\n"
     ]
    }
   ],
   "source": [
    "# 28 WAP to check whether a given length of the string is even or not. if even, to \n",
    "#append the new string called \"bye\" or else print the first and last characters.\n",
    "a='swasthik'\n",
    "if len(a)%2==0:\n",
    "    print('hai'+a)\n",
    "else:\n",
    "    print(a[0]+a[-1])"
   ]
  },
  {
   "cell_type": "code",
   "execution_count": null,
   "metadata": {},
   "outputs": [
    {
     "name": "stdout",
     "output_type": "stream",
     "text": [
      "saiswasthi\n"
     ]
    }
   ],
   "source": [
    "# 29WAP to check whether a given length of the string is odd or not. if odd, to append \n",
    "#the new string(\"Haii\") from the starting of the given string, or else to avoid the \n",
    "#starting character and ending character of the given\n",
    "#string and to display the remaining characters.\n",
    "a='msaiswasthik'\n",
    "if len(a)%2==1:\n",
    "    print('hai'+a)\n",
    "else:\n",
    "    print(a[1:len(a)-1:])\n",
    "\n",
    "    "
   ]
  },
  {
   "cell_type": "code",
   "execution_count": null,
   "metadata": {},
   "outputs": [
    {
     "name": "stdout",
     "output_type": "stream",
     "text": [
      "kihtsawsias\n"
     ]
    }
   ],
   "source": [
    "# (30)WAP to check whether the last of the given string is a special character or not, if \n",
    "#the special character prints reverse the string except the last character or else to \n",
    "#check if the length of the string is odd or not, if odd to extract the middle \n",
    "#character to the end of the string.\n",
    "\n",
    "a='saiswasthik@'\n",
    "if  a[-1]  not in ( a>='a'or a<'z' , a>='A'or a<'Z' , a>='0' and a<'9' ) :\n",
    "    print(a[-2::-1])\n",
    "if len(a)%2==1:\n",
    "    b=a[len(a)//2:]\n",
    "    print(b)\n"
   ]
  },
  {
   "cell_type": "code",
   "execution_count": null,
   "metadata": {},
   "outputs": [
    {
     "name": "stdout",
     "output_type": "stream",
     "text": [
      "leap year\n"
     ]
    }
   ],
   "source": [
    "#31WAP to check whether a given year is a leap year or not. if leap year, print leap \n",
    "#year or else not a leap year.\n",
    "a=2020\n",
    "if a%4==0 and a%100!=0:\n",
    "    print('leap year')\n",
    "else:\n",
    "    print('not a leap year')\n"
   ]
  },
  {
   "cell_type": "code",
   "execution_count": null,
   "metadata": {},
   "outputs": [
    {
     "name": "stdout",
     "output_type": "stream",
     "text": [
      "20 is greater number\n"
     ]
    }
   ],
   "source": [
    "# 32WAP to find out the greatest of two numbers and display the greatest number. if \n",
    "#the greatest number, display the greatest message with value.\n",
    "a=0\n",
    "b=20\n",
    "if b<a:\n",
    "    print(a, 'is greater number')\n",
    "else:\n",
    "    print(b,'is greater number')"
   ]
  },
  {
   "cell_type": "code",
   "execution_count": null,
   "metadata": {},
   "outputs": [
    {
     "name": "stdout",
     "output_type": "stream",
     "text": [
      "e not present inside collection\n"
     ]
    }
   ],
   "source": [
    "# 33 WAP to check whether the given value is present inside the given collection or \n",
    "#not.if value is present, display the value is available or else the value is not present.\n",
    "a='e'\n",
    "b='a','b','c','d'\n",
    "if  a in b:\n",
    "    print(a,'present in side the collection')\n",
    "else:\n",
    "    print(a,'not present inside collection')"
   ]
  },
  {
   "cell_type": "code",
   "execution_count": null,
   "metadata": {},
   "outputs": [
    {
     "name": "stdout",
     "output_type": "stream",
     "text": [
      "kwasthis\n"
     ]
    }
   ],
   "source": [
    "# 34 WAP whether a given string, if string length is more than 2, then it displays a new \n",
    "#string with the first and last characters switched, otherwise the display the 3 \n",
    "#copies of given string.\n",
    "a='swasthik'\n",
    "if len(a)>2:\n",
    "    print(a[-1]+a[1:len(a)-1]+a[0])\n",
    "else:\n",
    "    print(a*3)"
   ]
  },
  {
   "cell_type": "code",
   "execution_count": null,
   "metadata": {},
   "outputs": [
    {
     "name": "stdout",
     "output_type": "stream",
     "text": [
      "1.0\n",
      "-7\n",
      "[3, 2, 3, 4, 5, -7]\n"
     ]
    }
   ],
   "source": [
    "# 35 WAP to check whether a given value is a list and first and last values should be \n",
    "#integer if condition is satisfied first value is True division by 3 and perform the \n",
    "#bitwise not for last value and those result values are stored in same positions in \n",
    "#given list or else, to perform length of the collection power by 2 and display value.\n",
    "a=[3,2,3,4,5,6]\n",
    "if type(a[0])==int and type(a[-1])==int:\n",
    "    print(a[0]/3)\n",
    "    b=~a[-1]\n",
    "    print(b)\n",
    "    a[-1]=b\n",
    "    print(a)\n",
    "else:\n",
    "    print(len(a)**2)\n"
   ]
  },
  {
   "cell_type": "code",
   "execution_count": null,
   "metadata": {},
   "outputs": [
    {
     "name": "stdout",
     "output_type": "stream",
     "text": [
      "swashaihik\n"
     ]
    }
   ],
   "source": [
    "# 36WAP to check whether a given value is a string or not and length of the value \n",
    "#should be more than 7, if condition is satisfied to append the new string in the \n",
    "#middle of the given string or else to perform the replications with 3 and display \n",
    "#the result.\n",
    "a='swasthik'\n",
    "if type(a)==str and len(a)>7:\n",
    "    b=len(a)//2\n",
    "    c=a[0:4]+'hai'+a[5:]\n",
    "    print(c)\n",
    "else:\n",
    "    print(a*3)"
   ]
  },
  {
   "cell_type": "code",
   "execution_count": 25,
   "metadata": {},
   "outputs": [
    {
     "name": "stdout",
     "output_type": "stream",
     "text": [
      "abef\n"
     ]
    }
   ],
   "source": [
    "# 37WAP to check if the given string of first and second character should be sequence \n",
    "#or not. if the sequence prints the first, second and last two characters, or else the \n",
    "#first half string is reversed and the remaining half string should be normal and \n",
    "#display it.\n",
    "a='abcdef'\n",
    "if ord(a[0])==ord(a[1])-1:\n",
    "    b=a[0]+a[1:2:]+a[len(a)-2::]\n",
    "    print(b)\n",
    "else:\n",
    "    c=a[len(a)//2::-1]+a[len(a)//2+1:]\n",
    "    print(c)\n"
   ]
  },
  {
   "cell_type": "code",
   "execution_count": null,
   "metadata": {},
   "outputs": [
    {
     "name": "stdout",
     "output_type": "stream",
     "text": [
      "e not present inside collection\n"
     ]
    }
   ],
   "source": [
    "# 38WAP to check whether a given value is present inside the collection or not. If \n",
    "#present, print the value or else print value is not found.\n",
    "a='e'\n",
    "b='a','b','c','d'\n",
    "if  a in b:\n",
    "    print(a,'present in side the collection')\n",
    "else:\n",
    "    print(a,'not present inside collection')"
   ]
  },
  {
   "cell_type": "code",
   "execution_count": null,
   "metadata": {},
   "outputs": [
    {
     "name": "stdout",
     "output_type": "stream",
     "text": [
      "{'a': 1, 'b': 2, 'c': 3, 'd': 10}\n"
     ]
    }
   ],
   "source": [
    "# 39 WAP to check whether a given key is present in the dict or not. if key is present: \n",
    "#display the value or else add key and new value inside the dict.\n",
    "a={'a':1,'b':2,'c':3}\n",
    "b='a'\n",
    "if b  in a:\n",
    "    print(a['a'])\n",
    "else:\n",
    "    a['d']=10\n",
    "    print(a)"
   ]
  },
  {
   "cell_type": "code",
   "execution_count": null,
   "metadata": {},
   "outputs": [
    {
     "name": "stdout",
     "output_type": "stream",
     "text": [
      "{1, 2, 3, 4, 5}\n"
     ]
    }
   ],
   "source": [
    "# 40 WAP to check whether a given collection is set or not. if set, append the new \n",
    "#value, or else eliminate the duplicate values in collection. final results should be \n",
    "#set type.\n",
    "a={1,2,3,4,4}\n",
    "if type(a)==set:\n",
    "    b={5}\n",
    "    a|=b\n",
    "    print(a)"
   ]
  },
  {
   "cell_type": "code",
   "execution_count": null,
   "metadata": {},
   "outputs": [
    {
     "name": "stdout",
     "output_type": "stream",
     "text": [
      "17 not eligible to vote\n"
     ]
    }
   ],
   "source": [
    "# 41 WAP to read the age of a candidate and determine whether it is eligible for \n",
    "#his/her own vote or not.it eligible print age and eligible messages or else print \n",
    "#not eligible.\n",
    "age=17\n",
    "if age>=18:\n",
    "    print(age,'eligible to vote')\n",
    "else:\n",
    "    print(age,'not eligible to vote')"
   ]
  },
  {
   "cell_type": "code",
   "execution_count": null,
   "metadata": {},
   "outputs": [
    {
     "name": "stdout",
     "output_type": "stream",
     "text": [
      "26\n"
     ]
    }
   ],
   "source": [
    "# 42WAP to check whether a given value is even and in between 47 to 58 and not in \n",
    "#0 or odd. if condition is True, to perform display the ascii character or else to \n",
    "#perform floor division with 5 and display it.\n",
    "a=52\n",
    "if a<=58 and a>47  and a%2==1:\n",
    "    print(chr(a))\n",
    "else:\n",
    "    print(a//2)\n"
   ]
  },
  {
   "cell_type": "code",
   "execution_count": 52,
   "metadata": {},
   "outputs": [
    {
     "name": "stdout",
     "output_type": "stream",
     "text": [
      "palindrom\n"
     ]
    }
   ],
   "source": [
    "# 43WAP to check whether the given string is palindrome or not if it is a palindrome \n",
    "#string palindrome along with the string if it is not a palindrome print not \n",
    "#palindrome\n",
    "a='abcba'\n",
    "if a==a[::-1]:\n",
    "    print('palindrom')\n",
    "else:\n",
    "    print('not a palindrom')"
   ]
  },
  {
   "cell_type": "code",
   "execution_count": null,
   "metadata": {},
   "outputs": [
    {
     "name": "stdout",
     "output_type": "stream",
     "text": [
      "12321 palindrom\n"
     ]
    }
   ],
   "source": [
    "# 44 WAP to check whether a given number is palindrome or not. If palindrome, \n",
    "#display the given value as a palindrome or else not a palindrome.\n",
    "a='12321'\n",
    "if a==a[::-1]:\n",
    "    print( a,'palindrom')\n",
    "else:\n",
    "    print(a,'not a palindrom')\n"
   ]
  },
  {
   "cell_type": "code",
   "execution_count": null,
   "metadata": {},
   "outputs": [
    {
     "name": "stdout",
     "output_type": "stream",
     "text": [
      "('abcd', 4) ('efghs', 5)\n"
     ]
    }
   ],
   "source": [
    "# 45 WAP to check length of both string collections are equal or not. if both are equal \n",
    "#print the concat the two strings and display, or else if any one of the collection \n",
    "#not equal print both the collections with lengths\n",
    "a='abcd'\n",
    "b='efghs'\n",
    "if len(a)==len(b):\n",
    "    print(a+b)\n",
    "else:\n",
    "    print((a,len(a)),(b ,len(b)))"
   ]
  },
  {
   "cell_type": "code",
   "execution_count": null,
   "metadata": {},
   "outputs": [
    {
     "name": "stdout",
     "output_type": "stream",
     "text": [
      "1 7\n",
      "140731106167936\n",
      "140731106168272\n"
     ]
    }
   ],
   "source": [
    "# 46 WAP to check whether both given values point to the same memory location or \n",
    "#not. if it is true print the middle item of the second collection, or else if it is false \n",
    "#print the first item and last item of the first collection along with the memory \n",
    "#address.\n",
    "a='1234567'\n",
    "b='123456'\n",
    "if a is b:\n",
    "    print(b[len(a)//2])\n",
    "else:\n",
    "    print(a[0],a[-1])\n",
    "    print(id(a[0]))\n",
    "    print(id(a[-1]))\n",
    "\n",
    "    "
   ]
  },
  {
   "cell_type": "code",
   "execution_count": 2,
   "metadata": {},
   "outputs": [
    {
     "name": "stdout",
     "output_type": "stream",
     "text": [
      "106\n"
     ]
    }
   ],
   "source": [
    "# 47 WAP to check whether a given string collection is more than ten, and the first + \n",
    "#last character of the ascii values should be divisible by 5, if condition is satisfied \n",
    "#print first, middle, last characters ASCII values or else print the string three \n",
    "#times.\n",
    "a='jbcdefdghij'\n",
    "if len(a)>=10:\n",
    "    print(ord(a[0]))"
   ]
  },
  {
   "cell_type": "code",
   "execution_count": 7,
   "metadata": {},
   "outputs": [
    {
     "name": "stdout",
     "output_type": "stream",
     "text": [
      "['a', 'b', 'c', '1', 'e', 'f']\n"
     ]
    }
   ],
   "source": [
    "# 48 WAP to check whether the middle of the item present in the list is string data type \n",
    "#or not if it is string print that list or else if it is not string then print that middle \n",
    "#item.\n",
    "a=['a','b','c','1','e','f']\n",
    "if type(a[len(a)//2])==str:\n",
    "    print(a)\n",
    "else:\n",
    "    print(a[len(a)//2])"
   ]
  },
  {
   "cell_type": "code",
   "execution_count": 1,
   "metadata": {},
   "outputs": [
    {
     "name": "stdout",
     "output_type": "stream",
     "text": [
      "kaiswasths\n"
     ]
    }
   ],
   "source": [
    "# 49 WAP Given a string or not, return a new string where the first and last characters have \n",
    "#been exchanged.\n",
    "a='saiswasthik'\n",
    "if type(a)==str :\n",
    "\n",
    "    print(a[-1]+ a[1:-2:]+a[0])\n"
   ]
  },
  {
   "cell_type": "code",
   "execution_count": 9,
   "metadata": {},
   "outputs": [
    {
     "name": "stdout",
     "output_type": "stream",
     "text": [
      "140\n"
     ]
    }
   ],
   "source": [
    "# 50 Write a program to find out such numbers which are divisible by 7 but are not a \n",
    "#multiple of 5. Both the conditional is satisfied and print actual value. if one \n",
    "#condition is not satisfied actual number is multiply by 4 and print result\n",
    "a=35\n",
    "if a%7==0 and a%5!=0:\n",
    "    print(a)\n",
    "else:\n",
    "    print(a*4)    "
   ]
  },
  {
   "cell_type": "code",
   "execution_count": 12,
   "metadata": {},
   "outputs": [
    {
     "name": "stdout",
     "output_type": "stream",
     "text": [
      "140731176117320\n"
     ]
    }
   ],
   "source": [
    "# 51 WAP to check whether two values are pointing to the same memory address or \n",
    "#not. If the same memory displays the address or else displays the two values \n",
    "#addresses.\n",
    "a=10\n",
    "b=10\n",
    "if a is b:\n",
    "    print(id(a) )\n",
    "else:\n",
    "    print(id(a),id(b))"
   ]
  },
  {
   "cell_type": "code",
   "execution_count": 19,
   "metadata": {},
   "outputs": [
    {
     "name": "stdout",
     "output_type": "stream",
     "text": [
      "@@@\n"
     ]
    }
   ],
   "source": [
    "# 52 WAP to check whether a given input character is a special symbol or not if it is a \n",
    "#special symbol then print that character three times and tell print that character \n",
    "#5 times.\n",
    "a='@'\n",
    "if a not in ('a','z' or 'A','Z' or '0','9'):\n",
    "    print(a*3)\n",
    "else:\n",
    "    print(a*5)"
   ]
  },
  {
   "cell_type": "code",
   "execution_count": 22,
   "metadata": {},
   "outputs": [
    {
     "name": "stdout",
     "output_type": "stream",
     "text": [
      "abcdf aure\n"
     ]
    }
   ],
   "source": [
    "# 53 WAP to check length of both string collections equal or not if it is equal print the \n",
    "#connection of any one of the collections if it is not equal print both the collection.\n",
    "a='abcdf'\n",
    "b='aure'\n",
    "if len(a)==len(b):\n",
    "    print(a)\n",
    "else:\n",
    "    print(a,b)"
   ]
  },
  {
   "cell_type": "code",
   "execution_count": 43,
   "metadata": {},
   "outputs": [
    {
     "name": "stdout",
     "output_type": "stream",
     "text": [
      "1 7\n",
      "140731100138624\n",
      "140731100138960\n"
     ]
    }
   ],
   "source": [
    "# 54 WAP To check whether both input variables point to the same memory location \n",
    "#or not if it is true print the last item of the second collection, if it is false print the \n",
    "#first item of the first collection along with the memory address.\n",
    "a='1234567'\n",
    "b='123456'\n",
    "if a is b:\n",
    "    print(b[len(a)//2])\n",
    "else:\n",
    "    print(a[0],a[-1])\n",
    "    print(id(a[0]))\n",
    "    print(id(a[-1]))"
   ]
  },
  {
   "cell_type": "code",
   "execution_count": 51,
   "metadata": {},
   "outputs": [
    {
     "name": "stdout",
     "output_type": "stream",
     "text": [
      "dededededede\n"
     ]
    }
   ],
   "source": [
    "# 55 WAP to print the string collection five times when the length of the string \n",
    "#collection should be more than 3 and the middle character of the string should \n",
    "#be vowel and the first character ASCII value should be even, to print the previous \n",
    "#character of middle character, or else if ASCII value is odd then print the string \n",
    "#three times as print that string.\n",
    "a='dede'\n",
    "if len(a)>3 and a[len(a)//2] in 'AEIOuaeiou' and ord(a[0])%2==0:\n",
    "    print(chr(ord(a[len(a)//2])-1))\n",
    "else:\n",
    "    print(a*3)"
   ]
  },
  {
   "cell_type": "code",
   "execution_count": 9,
   "metadata": {},
   "outputs": [
    {
     "name": "stdout",
     "output_type": "stream",
     "text": [
      "he will buy\n"
     ]
    }
   ],
   "source": [
    "# 56Ravi would like to buy a new cello or red pen. The cost of the pen should be 10. \n",
    "#If the pen is available in the shop, he will buy the pen. If it is not there he will \n",
    "#come out of the shop.\n",
    "a='cello pen'\n",
    "b='red pen'\n",
    "shop=(a,b)\n",
    "if a in ('cello pen,red pen') or b in ('cello pen,red pen'):\n",
    "    print('he will buy')\n",
    "else:\n",
    "    print('he will come out of the shop')\n"
   ]
  },
  {
   "cell_type": "code",
   "execution_count": 45,
   "metadata": {},
   "outputs": [
    {
     "name": "stdout",
     "output_type": "stream",
     "text": [
      "12\n"
     ]
    }
   ],
   "source": [
    "# 57 WAP to perform addition and subtraction operation by using list collection if the \n",
    "#first and middle data items number are even performing addition operation, or \n",
    "#else performing subtraction.\n",
    "a=[8,2,3,4,5,6]\n",
    "if a[0]%2==0 and a[len(a)//2]%2==0:\n",
    "    c=a[0]+a[len(a)//2]\n",
    "    print(c)\n",
    "else:\n",
    "    print(a[0]-a[len(a)//2])"
   ]
  },
  {
   "cell_type": "code",
   "execution_count": 42,
   "metadata": {},
   "outputs": [
    {
     "name": "stdout",
     "output_type": "stream",
     "text": [
      "2187299093568\n",
      "2187299209792\n"
     ]
    }
   ],
   "source": [
    "# 58 WAP to check whether the first item of these two lists is either integer or not. \n",
    "#If it is an integer, concatenate these two lists or else print the memory \n",
    "#address of these two lists.\n",
    "a=['1',2,3,4,5]\n",
    "b=[1,2,3,4,5]\n",
    "if type(a[0])==int and type(b[0])==int:\n",
    "    print(a+b)\n",
    "else:\n",
    "    print(id(a))\n",
    "    print(id(b))"
   ]
  }
 ],
 "metadata": {
  "kernelspec": {
   "display_name": "Python 3",
   "language": "python",
   "name": "python3"
  },
  "language_info": {
   "codemirror_mode": {
    "name": "ipython",
    "version": 3
   },
   "file_extension": ".py",
   "mimetype": "text/x-python",
   "name": "python",
   "nbconvert_exporter": "python",
   "pygments_lexer": "ipython3",
   "version": "3.11.4"
  },
  "orig_nbformat": 4
 },
 "nbformat": 4,
 "nbformat_minor": 2
}
