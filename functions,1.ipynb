{
 "cells": [
  {
   "cell_type": "code",
   "execution_count": 42,
   "metadata": {},
   "outputs": [],
   "source": [
    "def demo():\n",
    "    print('hai')\n",
    "\n"
   ]
  },
  {
   "cell_type": "code",
   "execution_count": 43,
   "metadata": {},
   "outputs": [
    {
     "data": {
      "text/plain": [
       "22"
      ]
     },
     "execution_count": 43,
     "metadata": {},
     "output_type": "execute_result"
    }
   ],
   "source": [
    "def add(a,b):\n",
    "    a+b\n",
    "    return a+b\n",
    "add(10,12)"
   ]
  },
  {
   "cell_type": "code",
   "execution_count": 44,
   "metadata": {},
   "outputs": [
    {
     "name": "stdout",
     "output_type": "stream",
     "text": [
      "5\n"
     ]
    }
   ],
   "source": [
    "def add(c,d):\n",
    "    print(c-d)\n",
    "\n",
    "add(c=10,d=5)"
   ]
  },
  {
   "cell_type": "code",
   "execution_count": 45,
   "metadata": {},
   "outputs": [
    {
     "name": "stdout",
     "output_type": "stream",
     "text": [
      "(1, 2, 3, 4, 5, 6)\n"
     ]
    }
   ],
   "source": [
    "def args(*a):\n",
    "    print(a)\n",
    "args(1,2,3,4,5,6)"
   ]
  },
  {
   "cell_type": "code",
   "execution_count": 46,
   "metadata": {},
   "outputs": [
    {
     "name": "stdout",
     "output_type": "stream",
     "text": [
      "1\n",
      "2\n",
      "3\n",
      "hello\n"
     ]
    }
   ],
   "source": [
    "def print_arguments(*args):\n",
    "    for arg in args:\n",
    "        print(arg)\n",
    "\n",
    "print_arguments(1, 2, 3, \"hello\")\n",
    "\n"
   ]
  },
  {
   "cell_type": "code",
   "execution_count": 47,
   "metadata": {},
   "outputs": [
    {
     "name": "stdout",
     "output_type": "stream",
     "text": [
      "Name: John\n",
      "Additional arguments: (1, 2, 3)\n",
      "Additional keyword arguments: {'age': 25, 'city': 'New York'}\n"
     ]
    }
   ],
   "source": [
    "def print_info(name, *args, **kwargs):\n",
    "    print(\"Name:\", name)\n",
    "    print(\"Additional arguments:\", args)\n",
    "    print(\"Additional keyword arguments:\", kwargs)\n",
    "\n",
    "print_info(\"John\", 1, 2, 3, age=25, city=\"New York\")\n"
   ]
  },
  {
   "cell_type": "code",
   "execution_count": 48,
   "metadata": {},
   "outputs": [
    {
     "name": "stdout",
     "output_type": "stream",
     "text": [
      "(12, 2)\n",
      "list[['a']]\n",
      "<class 'list'>\n"
     ]
    }
   ],
   "source": [
    "def arg(*a,**b):\n",
    "    print(a)\n",
    "    c=list(b)\n",
    "    print(list[c])\n",
    "    print(type(c))\n",
    "arg(12,2,a=1)"
   ]
  },
  {
   "cell_type": "code",
   "execution_count": 49,
   "metadata": {},
   "outputs": [
    {
     "name": "stdout",
     "output_type": "stream",
     "text": [
      "{'a': 1, 'b': 20}\n"
     ]
    }
   ],
   "source": [
    "def kwargs(**c):\n",
    "    print(c)\n",
    "kwargs(a=1,b=20 )"
   ]
  },
  {
   "cell_type": "code",
   "execution_count": 50,
   "metadata": {},
   "outputs": [
    {
     "data": {
      "text/plain": [
       "'saiswasthik'"
      ]
     },
     "execution_count": 50,
     "metadata": {},
     "output_type": "execute_result"
    }
   ],
   "source": [
    "def upper(word):\n",
    "    result=\"\"\n",
    "    for i in word:\n",
    "        if \"a\">=i<=\"z\":\n",
    "            result +=chr(ord(i)+32)\n",
    "        else:\n",
    "            result +=i\n",
    "    return result\n",
    "upper('SAISwAsThIk')"
   ]
  },
  {
   "cell_type": "code",
   "execution_count": 51,
   "metadata": {},
   "outputs": [
    {
     "data": {
      "text/plain": [
       "'jIUYTRkljhgf'"
      ]
     },
     "execution_count": 51,
     "metadata": {},
     "output_type": "execute_result"
    }
   ],
   "source": [
    "def lower (a):\n",
    "    result=\"\"\n",
    "    for i in a:\n",
    "        if \"A\">=i<=\"Z\":\n",
    "            result +=chr(ord(i)+32)\n",
    "        else:\n",
    "            result +=i\n",
    "    return result\n",
    "lower(\"jIUYTRkljhgf\")\n",
    "            \n"
   ]
  },
  {
   "cell_type": "code",
   "execution_count": 52,
   "metadata": {},
   "outputs": [
    {
     "data": {
      "text/plain": [
       "'Saiswasthik'"
      ]
     },
     "execution_count": 52,
     "metadata": {},
     "output_type": "execute_result"
    }
   ],
   "source": [
    "a=\"saiswasthik\"\n",
    "a.capitalize()"
   ]
  },
  {
   "cell_type": "code",
   "execution_count": 53,
   "metadata": {},
   "outputs": [
    {
     "name": "stdout",
     "output_type": "stream",
     "text": [
      "LJHF\n"
     ]
    }
   ],
   "source": [
    "def capitaliz(a):\n",
    "    res=\"\"\n",
    "    for i in a:\n",
    "        if \"a\"<=i[0]<='z':\n",
    "            res+=chr(ord(i)-32)\n",
    "        else:\n",
    "            res+=i\n",
    "    # return res\n",
    "    print(res)\n",
    "capitaliz('lJHF')"
   ]
  },
  {
   "cell_type": "code",
   "execution_count": 54,
   "metadata": {},
   "outputs": [
    {
     "name": "stdout",
     "output_type": "stream",
     "text": [
      "Skjgff\n"
     ]
    }
   ],
   "source": [
    "def cap(a):\n",
    "    res = \"\"\n",
    "    if 'a' <= a[0] <= 'z':\n",
    "        res += chr(ord(a[0]) - 32)\n",
    "    else:\n",
    "        res += a[0]\n",
    "    for i in range(1, len(a)):\n",
    "        if 'A' <= a[i] <= 'Z':\n",
    "            res += chr(ord(a[i]) + 32)\n",
    "        else:\n",
    "            res += a[i]\n",
    "    print(res)\n",
    "cap('skjgfF')\n"
   ]
  },
  {
   "cell_type": "code",
   "execution_count": 55,
   "metadata": {},
   "outputs": [
    {
     "name": "stdout",
     "output_type": "stream",
     "text": [
      "Hjkllogv\n"
     ]
    }
   ],
   "source": [
    "def capt(a):\n",
    "    res=\"\"\n",
    "    if \"a\"<=a[0]<=\"z\":\n",
    "        res+=chr(ord(a[0])-32)\n",
    "    else:\n",
    "        res+=a[0]\n",
    "    for i in range(1,len(a)):\n",
    "        if \"A\"<=a[i]<=\"Z\":\n",
    "            res+=chr(ord(a[i])+32)\n",
    "        else:\n",
    "            res+=a[i]\n",
    "    print(res)\n",
    "\n",
    "capt(\"hJkLlOgV\")"
   ]
  },
  {
   "cell_type": "code",
   "execution_count": 56,
   "metadata": {},
   "outputs": [
    {
     "data": {
      "text/plain": [
       "'M Sai Swasthik'"
      ]
     },
     "execution_count": 56,
     "metadata": {},
     "output_type": "execute_result"
    }
   ],
   "source": [
    "a=\"m sai swasthik\"\n",
    "a.title()\n"
   ]
  },
  {
   "cell_type": "code",
   "execution_count": 57,
   "metadata": {},
   "outputs": [
    {
     "data": {
      "text/plain": [
       "'Saklknjbj'"
      ]
     },
     "execution_count": 57,
     "metadata": {},
     "output_type": "execute_result"
    }
   ],
   "source": [
    "def titl(a):\n",
    "    res=\"\"\n",
    "    spa=\"\"\n",
    "    # for i in a:\n",
    "    if \"a\"<=a[0]<=\"z\":\n",
    "        res+=chr(ord(a[0])-32)\n",
    "    else:\n",
    "        res+=a[0]\n",
    "    for i in  range(1,len(a)):\n",
    "        if \"A\"<=a[i]<=\"Z\":\n",
    "            res+= chr(ord(a[i])+32)\n",
    "        else:\n",
    "            res+=a[i]\n",
    "\n",
    "    \n",
    "\n",
    "    return res\n",
    "titl(\"sakLKNJBj\")\n",
    "    \n"
   ]
  },
  {
   "cell_type": "code",
   "execution_count": 58,
   "metadata": {},
   "outputs": [
    {
     "name": "stdout",
     "output_type": "stream",
     "text": [
      "2\n"
     ]
    }
   ],
   "source": [
    "def spa(a):\n",
    "    res=0\n",
    "    for i in range(0,len(a)):\n",
    "        if a[i]==\" \":\n",
    "            res+=1\n",
    "    print(i)\n",
    "spa(\"  a\")\n"
   ]
  },
  {
   "cell_type": "code",
   "execution_count": 59,
   "metadata": {},
   "outputs": [
    {
     "name": "stdout",
     "output_type": "stream",
     "text": [
      "Index of space: 0\n",
      "Index of space: 2\n",
      "Index of space: 4\n"
     ]
    }
   ],
   "source": [
    "a=\" s a \"\n",
    "\n",
    "for i in range (0,len(a)):\n",
    "    if a[i]==\" \":\n",
    "        space=i\n",
    "        print(\"Index of space:\", i)\n",
    "    \n",
    "\n",
    "\n",
    "    \n"
   ]
  },
  {
   "cell_type": "code",
   "execution_count": 60,
   "metadata": {},
   "outputs": [
    {
     "name": "stdout",
     "output_type": "stream",
     "text": [
      "6\n"
     ]
    }
   ],
   "source": [
    "def position(a):\n",
    "    res=0\n",
    "    for i in  a:\n",
    "        if \"0\"<=i<=\"9\":\n",
    "            res+=1\n",
    "    print(res)\n",
    "position(\"21oi7654k\")\n",
    "\n"
   ]
  },
  {
   "cell_type": "code",
   "execution_count": 61,
   "metadata": {},
   "outputs": [],
   "source": [
    "# # s=\"sai\"\n",
    "# def local():\n",
    "#     s=\"swasthik\"\n",
    "#     print(s)\n",
    "# local()"
   ]
  },
  {
   "cell_type": "code",
   "execution_count": 62,
   "metadata": {},
   "outputs": [
    {
     "name": "stdout",
     "output_type": "stream",
     "text": [
      "swasthik\n",
      "swasthik\n"
     ]
    }
   ],
   "source": [
    "\n",
    "def local():\n",
    "    print(s)\n",
    "s=\"swasthik\"\n",
    "local()\n",
    "print(s)\n"
   ]
  },
  {
   "cell_type": "code",
   "execution_count": 63,
   "metadata": {},
   "outputs": [
    {
     "name": "stdout",
     "output_type": "stream",
     "text": [
      "swasthik\n",
      "swasthik\n"
     ]
    }
   ],
   "source": [
    "a=\"sai\"\n",
    "def lo():\n",
    "\n",
    "    print(a)\n",
    "a=\"swasthik\"\n",
    "lo()\n",
    "print(a)"
   ]
  },
  {
   "cell_type": "code",
   "execution_count": 64,
   "metadata": {},
   "outputs": [
    {
     "name": "stdout",
     "output_type": "stream",
     "text": [
      "sai\n",
      "swasthik\n"
     ]
    }
   ],
   "source": [
    "def gl():\n",
    "    a=\"sai\"\n",
    "    print(a)\n",
    "a=\"swasthik\"\n",
    "gl()\n",
    "print(a)\n"
   ]
  },
  {
   "cell_type": "code",
   "execution_count": 96,
   "metadata": {},
   "outputs": [
    {
     "name": "stdout",
     "output_type": "stream",
     "text": [
      "Current balance: $1000\n",
      "Deposited $500. New balance: $1500\n",
      "Withdrawn $200. New balance: $1300\n",
      "Insufficient funds\n"
     ]
    }
   ],
   "source": [
    "class BankAccount:\n",
    "    def __init__(self, balance=0):\n",
    "        self.balance = balance\n",
    "\n",
    "    def deposit(self, amount):\n",
    "        self.balance += amount\n",
    "        print(f\"Deposited ${amount}. New balance: ${self.balance}\")\n",
    "\n",
    "    def withdraw(self, amount):\n",
    "        if self.balance >= amount:\n",
    "            self.balance -= amount\n",
    "            print(f\"Withdrawn ${amount}. New balance: ${self.balance}\")\n",
    "        else:\n",
    "            print(\"Insufficient funds\")\n",
    "\n",
    "    def display_balance(self):\n",
    "        print(f\"Current balance: ${self.balance}\")\n",
    "\n",
    "# Example usage\n",
    "account = BankAccount(1000)  # Starting balance: $1000\n",
    "account.display_balance()\n",
    "account.deposit(500)        # Depositing $500\n",
    "account.withdraw(200)       # Withdrawing $200\n",
    "account.withdraw(1500)      # Attempting to withdraw $1500 (insufficient funds)\n"
   ]
  },
  {
   "cell_type": "code",
   "execution_count": 28,
   "metadata": {},
   "outputs": [
    {
     "name": "stdout",
     "output_type": "stream",
     "text": [
      "please add money in your account\n"
     ]
    }
   ],
   "source": [
    "# try for unsafe code \n",
    "try: \n",
    "\tamount = 1999\n",
    "\tif amount < 2999: \n",
    "\t\t\n",
    "\t\t# raise the ValueError \n",
    "\t\traise ValueError(\"please add money in your account\") \n",
    "\telse: \n",
    "\t\tprint(\"You are eligible to purchase DSA Self Paced course\") \n",
    "\t\t\t\n",
    "# if false then raise the value error \n",
    "except ValueError as a: \n",
    "\t\tprint(a) \n"
   ]
  },
  {
   "cell_type": "code",
   "execution_count": 34,
   "metadata": {},
   "outputs": [
    {
     "name": "stdout",
     "output_type": "stream",
     "text": [
      "7.38905609893065\n"
     ]
    }
   ],
   "source": [
    "import math\n",
    "print(math.exp(2))"
   ]
  },
  {
   "cell_type": "code",
   "execution_count": 39,
   "metadata": {},
   "outputs": [],
   "source": [
    "# a=open(\"sai3.ipynb\",\"r\")\n",
    "# print(a.read())"
   ]
  },
  {
   "cell_type": "code",
   "execution_count": 42,
   "metadata": {},
   "outputs": [],
   "source": [
    "# a=open(\"oops.ipynb\",\"r\")\n",
    "# print(a.read())"
   ]
  },
  {
   "cell_type": "code",
   "execution_count": 55,
   "metadata": {},
   "outputs": [
    {
     "data": {
      "text/plain": [
       "20"
      ]
     },
     "execution_count": 55,
     "metadata": {},
     "output_type": "execute_result"
    }
   ],
   "source": [
    "a=open(\"ss.ipynb\",\"w\")\n",
    "a.write(\"a=20 b=30 print(a+b)\")\n",
    "# a.close()\n",
    "# print(a.write())"
   ]
  },
  {
   "cell_type": "code",
   "execution_count": 17,
   "metadata": {},
   "outputs": [
    {
     "name": "stdout",
     "output_type": "stream",
     "text": [
      "hello guruuu\n"
     ]
    }
   ],
   "source": [
    "# Open a file for writing and reading\n",
    "file = open('ss.txt', 'w+')\n",
    "\n",
    "# Write some data to the file\n",
    "file.write('hello guruuu')\n",
    "\n",
    "# Move the file pointer back to the beginning of the file\n",
    "file.seek(0)\n",
    "\n",
    "# Read the data from the file\n",
    "data = file.read()\n",
    "\n",
    "# Print the data to the console\n",
    "print(data)\n",
    "\n",
    "# Close the file when you're done\n",
    "file.close()\n"
   ]
  },
  {
   "cell_type": "code",
   "execution_count": 22,
   "metadata": {},
   "outputs": [
    {
     "name": "stdout",
     "output_type": "stream",
     "text": [
      "hello bosss\n"
     ]
    }
   ],
   "source": [
    "a=open(\"ss.txt\",\"w+\")\n",
    "a.write(\"hello bosss\")\n",
    "a.seek(0)\n",
    "b=a.read()\n",
    "print(b)\n",
    "file.close()"
   ]
  },
  {
   "cell_type": "code",
   "execution_count": null,
   "metadata": {},
   "outputs": [],
   "source": []
  }
 ],
 "metadata": {
  "kernelspec": {
   "display_name": "Python 3",
   "language": "python",
   "name": "python3"
  },
  "language_info": {
   "codemirror_mode": {
    "name": "ipython",
    "version": 3
   },
   "file_extension": ".py",
   "mimetype": "text/x-python",
   "name": "python",
   "nbconvert_exporter": "python",
   "pygments_lexer": "ipython3",
   "version": "3.11.4"
  }
 },
 "nbformat": 4,
 "nbformat_minor": 2
}
