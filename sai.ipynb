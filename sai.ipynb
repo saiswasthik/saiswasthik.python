{
 "cells": [
  {
   "cell_type": "code",
   "execution_count": 1,
   "metadata": {},
   "outputs": [
    {
     "name": "stdout",
     "output_type": "stream",
     "text": [
      "[1, 20, 'string', [10, 20, 30]]\n",
      "[10, 20, 'string', [10, 20, 3]]\n"
     ]
    }
   ],
   "source": [
    "a= [10,20,'string',[10,20,30]]\n",
    "b=a.copy()\n",
    "a[0]=1\n",
    "print(a)\n",
    "b[-1][2]=3\n",
    "print(b)"
   ]
  },
  {
   "cell_type": "code",
   "execution_count": 2,
   "metadata": {},
   "outputs": [
    {
     "name": "stdout",
     "output_type": "stream",
     "text": [
      "[10, 15, ['a', 'b'], 'hai', {10, 20, 30}]\n",
      "b\n",
      "{10, 20, 30}\n"
     ]
    }
   ],
   "source": [
    "import copy\n",
    "l=[10,15,['a','b'],'hai',{10,20,30}]\n",
    "t= copy.copy(l)\n",
    "print(t)\n",
    "print(l[2][1])\n",
    "print(t[-1])"
   ]
  },
  {
   "cell_type": "code",
   "execution_count": 3,
   "metadata": {},
   "outputs": [
    {
     "name": "stdout",
     "output_type": "stream",
     "text": [
      "[10, 2, [1, 'sai', 'a'], 'ab', 'qw']\n",
      "[10, 20, [1, 'sai', 'a'], 'ab', 'qw']\n"
     ]
    }
   ],
   "source": [
    "import copy\n",
    "a=[10,20,[30,'sai','a'],'ab','qw']\n",
    "b=copy.copy(a)\n",
    "a[2][0]=1\n",
    "a[1]=2\n",
    "print(a)\n",
    "print(b)"
   ]
  },
  {
   "cell_type": "code",
   "execution_count": 4,
   "metadata": {},
   "outputs": [
    {
     "name": "stdout",
     "output_type": "stream",
     "text": [
      "[10, 2, [1, 'sai', 'a'], 'ab', 'qw']\n",
      "[10, 20, [30, 'sai', 'a'], 'ab', 'a']\n"
     ]
    }
   ],
   "source": [
    "import copy\n",
    "a=[10,20,[30,'sai','a'],'ab','qw']\n",
    "b=copy.deepcopy(a)\n",
    "a[2][0]=1\n",
    "a[1]=2\n",
    "b[-1]='a'\n",
    "print(a)\n",
    "print(b)"
   ]
  },
  {
   "cell_type": "code",
   "execution_count": 5,
   "metadata": {},
   "outputs": [
    {
     "name": "stdout",
     "output_type": "stream",
     "text": [
      "[1, 2, {66, 4, 5, 23}, [('a', 'b', 'c'), 'swasthik']]\n"
     ]
    }
   ],
   "source": [
    "a=[1,2,3,{66,23,4,5},[('a','b','c'),'swasthik','q']]\n",
    "del a[4][2]\n",
    "del a[2]\n",
    "print(a)"
   ]
  },
  {
   "cell_type": "code",
   "execution_count": 6,
   "metadata": {},
   "outputs": [
    {
     "name": "stdout",
     "output_type": "stream",
     "text": [
      "{1, 2, 3, 4, 5, 20, 10, 'a'}\n"
     ]
    }
   ],
   "source": [
    "#was to concate the new value into the set\n",
    "s={1,2,3,4,5}\n",
    "s=s|{10,20,'a'}\n",
    "print(s)"
   ]
  },
  {
   "cell_type": "code",
   "execution_count": 7,
   "metadata": {},
   "outputs": [
    {
     "name": "stdout",
     "output_type": "stream",
     "text": [
      "{'a': 1, 'b': 2, 'c': 3, 'd': 4, 'e': 9}\n"
     ]
    }
   ],
   "source": [
    "# was to concate the new value into the dictionary\n",
    "s={'a':1,'b':2,'c':3}\n",
    "s=s|{'d':4,'e':9}\n",
    "print(s)"
   ]
  },
  {
   "cell_type": "code",
   "execution_count": 8,
   "metadata": {},
   "outputs": [
    {
     "name": "stdout",
     "output_type": "stream",
     "text": [
      "False\n"
     ]
    }
   ],
   "source": [
    "#wae to check the given number is greater than 150\n",
    "a=50\n",
    "print(a>150)"
   ]
  },
  {
   "cell_type": "code",
   "execution_count": 9,
   "metadata": {},
   "outputs": [
    {
     "name": "stdout",
     "output_type": "stream",
     "text": [
      "False\n"
     ]
    }
   ],
   "source": [
    "#wae to check given number is between 50 and 24\n",
    "a=23\n",
    "print(a<50 and a>24)"
   ]
  },
  {
   "cell_type": "code",
   "execution_count": 10,
   "metadata": {},
   "outputs": [
    {
     "name": "stdout",
     "output_type": "stream",
     "text": [
      "saisaisaisai\n"
     ]
    }
   ],
   "source": [
    "#wae to check perform replication of the given string\n",
    "a='sai'\n",
    "print(a*4)"
   ]
  },
  {
   "cell_type": "code",
   "execution_count": 11,
   "metadata": {},
   "outputs": [
    {
     "name": "stdout",
     "output_type": "stream",
     "text": [
      "False\n"
     ]
    }
   ],
   "source": [
    "# wae to check the given number is divisible by 3 and also greater then 22\n",
    "a=18\n",
    "print(a%3==0 and a>22)"
   ]
  },
  {
   "cell_type": "code",
   "execution_count": 12,
   "metadata": {},
   "outputs": [
    {
     "data": {
      "text/plain": [
       "True"
      ]
     },
     "execution_count": 12,
     "metadata": {},
     "output_type": "execute_result"
    }
   ],
   "source": [
    "#wae to check the length of the collection is even or not\n",
    "a=\"msaiswasthik\"\n",
    "len(a)%2==0"
   ]
  },
  {
   "cell_type": "code",
   "execution_count": 13,
   "metadata": {},
   "outputs": [
    {
     "data": {
      "text/plain": [
       "True"
      ]
     },
     "execution_count": 13,
     "metadata": {},
     "output_type": "execute_result"
    }
   ],
   "source": [
    "#wae to check the given lenth of collectinis greater than 16 and less than 50\n",
    "a=\" m sai swasthik. \"\n",
    "(len(a)>16 and len(a)<50)"
   ]
  },
  {
   "cell_type": "code",
   "execution_count": 14,
   "metadata": {},
   "outputs": [
    {
     "data": {
      "text/plain": [
       "' m sai swasthik. '"
      ]
     },
     "execution_count": 14,
     "metadata": {},
     "output_type": "execute_result"
    }
   ],
   "source": [
    "a"
   ]
  }
 ],
 "metadata": {
  "kernelspec": {
   "display_name": "Python 3",
   "language": "python",
   "name": "python3"
  },
  "language_info": {
   "codemirror_mode": {
    "name": "ipython",
    "version": 3
   },
   "file_extension": ".py",
   "mimetype": "text/x-python",
   "name": "python",
   "nbconvert_exporter": "python",
   "pygments_lexer": "ipython3",
   "version": "3.11.4"
  },
  "orig_nbformat": 4
 },
 "nbformat": 4,
 "nbformat_minor": 2
}
