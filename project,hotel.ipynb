{
 "cells": [
  {
   "cell_type": "code",
   "execution_count": 2,
   "metadata": {},
   "outputs": [
    {
     "name": "stdout",
     "output_type": "stream",
     "text": [
      "Available Rooms:\n",
      "Room 101\n",
      "Room 102\n",
      "Room 103\n",
      "Food Menu:\n",
      "Burger: $10\n",
      "Pizza: $12\n",
      "Pasta: $8\n",
      "Booking Room 102... Success!\n",
      "Ordering Pizza for Room 102... Total cost: $12\n",
      "Unable to process food order for Room 105 and Burger.\n",
      "Available Rooms:\n",
      "Room 101\n",
      "Room 103\n"
     ]
    }
   ],
   "source": [
    "class HotelBookingSystem:\n",
    "    def __init__(self):\n",
    "        self.rooms = {101: 'available', 102: 'available', 103: 'available'}\n",
    "        self.food_menu = {'Burger': 10, 'Pizza': 12, 'Pasta': 8}\n",
    "        self.booked_rooms = set()\n",
    "\n",
    "    def display_available_rooms(self):\n",
    "        print(\"Available Rooms:\")\n",
    "        for room, status in self.rooms.items():\n",
    "            if status == 'available':\n",
    "                print(f\"Room {room}\")\n",
    "\n",
    "    def display_food_menu(self):\n",
    "        print(\"Food Menu:\")\n",
    "        for item, price in self.food_menu.items():\n",
    "            print(f\"{item}: ${price}\")\n",
    "\n",
    "    def book_room(self, room_number):\n",
    "        if room_number in self.rooms and self.rooms[room_number] == 'available':\n",
    "            print(f\"Booking Room {room_number}... Success!\")\n",
    "            self.rooms[room_number] = 'booked'\n",
    "            self.booked_rooms.add(room_number)\n",
    "        else:\n",
    "            print(f\"Room {room_number} is not available for booking.\")\n",
    "\n",
    "    def order_food(self, room_number, food_item):\n",
    "        if room_number in self.booked_rooms and food_item in self.food_menu:\n",
    "            price = self.food_menu[food_item]\n",
    "            print(f\"Ordering {food_item} for Room {room_number}... Total cost: ${price}\")\n",
    "        else:\n",
    "            print(f\"Unable to process food order for Room {room_number} and {food_item}.\")\n",
    "\n",
    "# Example usage:\n",
    "hotel = HotelBookingSystem()\n",
    "\n",
    "hotel.display_available_rooms()\n",
    "hotel.display_food_menu()\n",
    "\n",
    "hotel.book_room(102)\n",
    "hotel.order_food(102, 'Pizza')\n",
    "hotel.order_food(105, 'Burger')\n",
    "hotel.display_available_rooms()\n",
    "\n",
    "\n"
   ]
  },
  {
   "cell_type": "code",
   "execution_count": null,
   "metadata": {},
   "outputs": [],
   "source": [
    "class hotel:\n",
    "    name='sshungers'\n",
    "    address='dilsuknagar'\n",
    "    phone=9542757209\n",
    "    email='ss.hunger@gmail.com'"
   ]
  },
  {
   "cell_type": "code",
   "execution_count": 4,
   "metadata": {},
   "outputs": [
    {
     "name": "stdout",
     "output_type": "stream",
     "text": [
      "\n",
      "1. Display Menu\n",
      "2. Make Reservation\n",
      "3. Show Available Tables\n",
      "4. Exit\n"
     ]
    },
    {
     "name": "stdout",
     "output_type": "stream",
     "text": [
      "Menu:\n",
      "Pasta: $10\n",
      "Pizza: $12\n",
      "Burger: $8\n",
      "\n",
      "1. Display Menu\n",
      "2. Make Reservation\n",
      "3. Show Available Tables\n",
      "4. Exit\n"
     ]
    },
    {
     "ename": "KeyError",
     "evalue": "'2'",
     "output_type": "error",
     "traceback": [
      "\u001b[1;31m---------------------------------------------------------------------------\u001b[0m",
      "\u001b[1;31mKeyError\u001b[0m                                  Traceback (most recent call last)",
      "\u001b[1;32mc:\\Users\\saisw\\Documents\\GitHub\\saiswasthik.python\\project,hotel.ipynb Cell 3\u001b[0m line \u001b[0;36m5\n\u001b[0;32m     <a href='vscode-notebook-cell:/c%3A/Users/saisw/Documents/GitHub/saiswasthik.python/project%2Chotel.ipynb#W2sZmlsZQ%3D%3D?line=47'>48</a>\u001b[0m             \u001b[39mprint\u001b[39m(\u001b[39m\"\u001b[39m\u001b[39mInvalid choice. Please enter a number between 1 and 4.\u001b[39m\u001b[39m\"\u001b[39m)\n\u001b[0;32m     <a href='vscode-notebook-cell:/c%3A/Users/saisw/Documents/GitHub/saiswasthik.python/project%2Chotel.ipynb#W2sZmlsZQ%3D%3D?line=48'>49</a>\u001b[0m \u001b[39mif\u001b[39;00m \u001b[39m__name__\u001b[39m \u001b[39m==\u001b[39m \u001b[39m\"\u001b[39m\u001b[39m__main__\u001b[39m\u001b[39m\"\u001b[39m:\n\u001b[1;32m---> <a href='vscode-notebook-cell:/c%3A/Users/saisw/Documents/GitHub/saiswasthik.python/project%2Chotel.ipynb#W2sZmlsZQ%3D%3D?line=49'>50</a>\u001b[0m     main()\n",
      "\u001b[1;32mc:\\Users\\saisw\\Documents\\GitHub\\saiswasthik.python\\project,hotel.ipynb Cell 3\u001b[0m line \u001b[0;36m4\n\u001b[0;32m     <a href='vscode-notebook-cell:/c%3A/Users/saisw/Documents/GitHub/saiswasthik.python/project%2Chotel.ipynb#W2sZmlsZQ%3D%3D?line=38'>39</a>\u001b[0m     table_number \u001b[39m=\u001b[39m \u001b[39mint\u001b[39m(\u001b[39minput\u001b[39m(\u001b[39m\"\u001b[39m\u001b[39mEnter the table number: \u001b[39m\u001b[39m\"\u001b[39m))\n\u001b[0;32m     <a href='vscode-notebook-cell:/c%3A/Users/saisw/Documents/GitHub/saiswasthik.python/project%2Chotel.ipynb#W2sZmlsZQ%3D%3D?line=39'>40</a>\u001b[0m     items \u001b[39m=\u001b[39m \u001b[39minput\u001b[39m(\u001b[39m\"\u001b[39m\u001b[39mEnter the items you want to order (comma-separated): \u001b[39m\u001b[39m\"\u001b[39m)\u001b[39m.\u001b[39msplit(\u001b[39m'\u001b[39m\u001b[39m, \u001b[39m\u001b[39m'\u001b[39m)\n\u001b[1;32m---> <a href='vscode-notebook-cell:/c%3A/Users/saisw/Documents/GitHub/saiswasthik.python/project%2Chotel.ipynb#W2sZmlsZQ%3D%3D?line=40'>41</a>\u001b[0m     restaurant\u001b[39m.\u001b[39;49mmake_reservation(table_number, items)\n\u001b[0;32m     <a href='vscode-notebook-cell:/c%3A/Users/saisw/Documents/GitHub/saiswasthik.python/project%2Chotel.ipynb#W2sZmlsZQ%3D%3D?line=41'>42</a>\u001b[0m \u001b[39melif\u001b[39;00m choice \u001b[39m==\u001b[39m \u001b[39m'\u001b[39m\u001b[39m3\u001b[39m\u001b[39m'\u001b[39m:\n\u001b[0;32m     <a href='vscode-notebook-cell:/c%3A/Users/saisw/Documents/GitHub/saiswasthik.python/project%2Chotel.ipynb#W2sZmlsZQ%3D%3D?line=42'>43</a>\u001b[0m     restaurant\u001b[39m.\u001b[39mshow_available_tables()\n",
      "\u001b[1;32mc:\\Users\\saisw\\Documents\\GitHub\\saiswasthik.python\\project,hotel.ipynb Cell 3\u001b[0m line \u001b[0;36m1\n\u001b[0;32m     <a href='vscode-notebook-cell:/c%3A/Users/saisw/Documents/GitHub/saiswasthik.python/project%2Chotel.ipynb#W2sZmlsZQ%3D%3D?line=11'>12</a>\u001b[0m \u001b[39mdef\u001b[39;00m \u001b[39mmake_reservation\u001b[39m(\u001b[39mself\u001b[39m, table_number, items):\n\u001b[0;32m     <a href='vscode-notebook-cell:/c%3A/Users/saisw/Documents/GitHub/saiswasthik.python/project%2Chotel.ipynb#W2sZmlsZQ%3D%3D?line=12'>13</a>\u001b[0m     \u001b[39mif\u001b[39;00m table_number \u001b[39mnot\u001b[39;00m \u001b[39min\u001b[39;00m \u001b[39mself\u001b[39m\u001b[39m.\u001b[39mbooked_tables:\n\u001b[1;32m---> <a href='vscode-notebook-cell:/c%3A/Users/saisw/Documents/GitHub/saiswasthik.python/project%2Chotel.ipynb#W2sZmlsZQ%3D%3D?line=13'>14</a>\u001b[0m         total_price \u001b[39m=\u001b[39m \u001b[39msum\u001b[39;49m(\u001b[39mself\u001b[39;49m\u001b[39m.\u001b[39;49mmenu[item] \u001b[39mfor\u001b[39;49;00m item \u001b[39min\u001b[39;49;00m items)\n\u001b[0;32m     <a href='vscode-notebook-cell:/c%3A/Users/saisw/Documents/GitHub/saiswasthik.python/project%2Chotel.ipynb#W2sZmlsZQ%3D%3D?line=14'>15</a>\u001b[0m         \u001b[39mprint\u001b[39m(\u001b[39mf\u001b[39m\u001b[39m\"\u001b[39m\u001b[39mReservation successful for Table \u001b[39m\u001b[39m{\u001b[39;00mtable_number\u001b[39m}\u001b[39;00m\u001b[39m. Total Price: $\u001b[39m\u001b[39m{\u001b[39;00mtotal_price\u001b[39m}\u001b[39;00m\u001b[39m\"\u001b[39m)\n\u001b[0;32m     <a href='vscode-notebook-cell:/c%3A/Users/saisw/Documents/GitHub/saiswasthik.python/project%2Chotel.ipynb#W2sZmlsZQ%3D%3D?line=15'>16</a>\u001b[0m         \u001b[39mself\u001b[39m\u001b[39m.\u001b[39mbooked_tables\u001b[39m.\u001b[39madd(table_number)\n",
      "\u001b[1;32mc:\\Users\\saisw\\Documents\\GitHub\\saiswasthik.python\\project,hotel.ipynb Cell 3\u001b[0m line \u001b[0;36m1\n\u001b[0;32m     <a href='vscode-notebook-cell:/c%3A/Users/saisw/Documents/GitHub/saiswasthik.python/project%2Chotel.ipynb#W2sZmlsZQ%3D%3D?line=11'>12</a>\u001b[0m \u001b[39mdef\u001b[39;00m \u001b[39mmake_reservation\u001b[39m(\u001b[39mself\u001b[39m, table_number, items):\n\u001b[0;32m     <a href='vscode-notebook-cell:/c%3A/Users/saisw/Documents/GitHub/saiswasthik.python/project%2Chotel.ipynb#W2sZmlsZQ%3D%3D?line=12'>13</a>\u001b[0m     \u001b[39mif\u001b[39;00m table_number \u001b[39mnot\u001b[39;00m \u001b[39min\u001b[39;00m \u001b[39mself\u001b[39m\u001b[39m.\u001b[39mbooked_tables:\n\u001b[1;32m---> <a href='vscode-notebook-cell:/c%3A/Users/saisw/Documents/GitHub/saiswasthik.python/project%2Chotel.ipynb#W2sZmlsZQ%3D%3D?line=13'>14</a>\u001b[0m         total_price \u001b[39m=\u001b[39m \u001b[39msum\u001b[39m(\u001b[39mself\u001b[39;49m\u001b[39m.\u001b[39;49mmenu[item] \u001b[39mfor\u001b[39;00m item \u001b[39min\u001b[39;00m items)\n\u001b[0;32m     <a href='vscode-notebook-cell:/c%3A/Users/saisw/Documents/GitHub/saiswasthik.python/project%2Chotel.ipynb#W2sZmlsZQ%3D%3D?line=14'>15</a>\u001b[0m         \u001b[39mprint\u001b[39m(\u001b[39mf\u001b[39m\u001b[39m\"\u001b[39m\u001b[39mReservation successful for Table \u001b[39m\u001b[39m{\u001b[39;00mtable_number\u001b[39m}\u001b[39;00m\u001b[39m. Total Price: $\u001b[39m\u001b[39m{\u001b[39;00mtotal_price\u001b[39m}\u001b[39;00m\u001b[39m\"\u001b[39m)\n\u001b[0;32m     <a href='vscode-notebook-cell:/c%3A/Users/saisw/Documents/GitHub/saiswasthik.python/project%2Chotel.ipynb#W2sZmlsZQ%3D%3D?line=15'>16</a>\u001b[0m         \u001b[39mself\u001b[39m\u001b[39m.\u001b[39mbooked_tables\u001b[39m.\u001b[39madd(table_number)\n",
      "\u001b[1;31mKeyError\u001b[0m: '2'"
     ]
    }
   ],
   "source": [
    "class Restaurant:\n",
    "    def __init__(self, name):\n",
    "        self.name = name\n",
    "        self.menu = {'Pasta': 10, 'Pizza': 12, 'Burger': 8}\n",
    "        self.booked_tables = set()\n",
    "\n",
    "    def display_menu(self):\n",
    "        print(\"Menu:\")\n",
    "        for item, price in self.menu.items():\n",
    "            print(f\"{item}: ${price}\")\n",
    "\n",
    "    def make_reservation(self, table_number, items):\n",
    "        if table_number not in self.booked_tables:\n",
    "            total_price = sum(self.menu[item] for item in items)\n",
    "            print(f\"Reservation successful for Table {table_number}. Total Price: ${total_price}\")\n",
    "            self.booked_tables.add(table_number)\n",
    "        else:\n",
    "            print(f\"Table {table_number} is already booked.\")\n",
    "\n",
    "    def show_available_tables(self):\n",
    "        available_tables = set(range(1, 11)) - self.booked_tables\n",
    "        print(\"Available Tables:\", available_tables)\n",
    "\n",
    "\n",
    "def main():\n",
    "    restaurant = Restaurant(\"Sample Restaurant\")\n",
    "\n",
    "    while True:\n",
    "        print(\"\\n1. Display Menu\")\n",
    "        print(\"2. Make Reservation\")\n",
    "        print(\"3. Show Available Tables\")\n",
    "        print(\"4. Exit\")\n",
    "\n",
    "        choice = input(\"Enter your choice (1-4): \")\n",
    "\n",
    "        if choice == '1':\n",
    "            restaurant.display_menu()\n",
    "        elif choice == '2':\n",
    "            table_number = int(input(\"Enter the table number: \"))\n",
    "            items = input(\"Enter the items you want to order (comma-separated): \").split(', ')\n",
    "            restaurant.make_reservation(table_number, items)\n",
    "        elif choice == '3':\n",
    "            restaurant.show_available_tables()\n",
    "        elif choice == '4':\n",
    "            print(\"Exiting the system. Thank you!\")\n",
    "            break\n",
    "        else:\n",
    "            print(\"Invalid choice. Please enter a number between 1 and 4.\")\n",
    "if __name__ == \"__main__\":\n",
    "    main()"
   ]
  },
  {
   "cell_type": "code",
   "execution_count": null,
   "metadata": {},
   "outputs": [],
   "source": []
  }
 ],
 "metadata": {
  "kernelspec": {
   "display_name": "Python 3",
   "language": "python",
   "name": "python3"
  },
  "language_info": {
   "codemirror_mode": {
    "name": "ipython",
    "version": 3
   },
   "file_extension": ".py",
   "mimetype": "text/x-python",
   "name": "python",
   "nbconvert_exporter": "python",
   "pygments_lexer": "ipython3",
   "version": "3.11.4"
  }
 },
 "nbformat": 4,
 "nbformat_minor": 2
}
