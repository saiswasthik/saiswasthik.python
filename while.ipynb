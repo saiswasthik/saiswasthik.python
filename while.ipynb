{
 "cells": [
  {
   "cell_type": "code",
   "execution_count": 1,
   "metadata": {},
   "outputs": [
    {
     "name": "stdout",
     "output_type": "stream",
     "text": [
      "1\n",
      "2\n",
      "6\n",
      "24\n",
      "120\n"
     ]
    }
   ],
   "source": [
    "a=5\n",
    "b=1\n",
    "p=1\n",
    "while b<=a:\n",
    "    p=p*b\n",
    "    b+=1\n",
    "    print(p)\n"
   ]
  },
  {
   "cell_type": "code",
   "execution_count": 2,
   "metadata": {},
   "outputs": [
    {
     "name": "stdout",
     "output_type": "stream",
     "text": [
      "1\n",
      "5\n",
      "4\n",
      "8\n",
      "9\n"
     ]
    }
   ],
   "source": [
    "\n",
    "a=15489\n",
    "b=str(a)\n",
    "i=0\n",
    "while i < len(b):\n",
    "    print(b[i])\n",
    "    i=i+1"
   ]
  },
  {
   "cell_type": "code",
   "execution_count": 3,
   "metadata": {},
   "outputs": [
    {
     "name": "stdout",
     "output_type": "stream",
     "text": [
      "6\n"
     ]
    }
   ],
   "source": [
    "a=123\n",
    "sum=0\n",
    "while a:\n",
    "    ld=a%10\n",
    "    sum=sum+ld\n",
    "    a//=10\n",
    "print(sum)"
   ]
  },
  {
   "cell_type": "code",
   "execution_count": 4,
   "metadata": {},
   "outputs": [
    {
     "name": "stdout",
     "output_type": "stream",
     "text": [
      "6\n",
      "5\n",
      "4\n",
      "3\n",
      "2\n",
      "1\n"
     ]
    }
   ],
   "source": [
    "a=123456\n",
    "b=str(a)\n",
    "i=-1\n",
    "while i >= -len(b):\n",
    "    print(b[i])\n",
    "    i=i-1"
   ]
  },
  {
   "cell_type": "code",
   "execution_count": 5,
   "metadata": {},
   "outputs": [
    {
     "name": "stdout",
     "output_type": "stream",
     "text": [
      "9\n"
     ]
    }
   ],
   "source": [
    "a=195234\n",
    "res=0\n",
    "while a:\n",
    "    ld=a%10\n",
    "    if res<ld:\n",
    "        res=ld\n",
    "    a=a//10\n",
    "print(res)"
   ]
  },
  {
   "cell_type": "code",
   "execution_count": 6,
   "metadata": {},
   "outputs": [
    {
     "name": "stdout",
     "output_type": "stream",
     "text": [
      "2\n"
     ]
    }
   ],
   "source": [
    "a=4587368823\n",
    "res=9\n",
    "while a:\n",
    "    ld=a%10\n",
    "    if res>ld:\n",
    "        res=ld\n",
    "    a=a//10\n",
    "print(res)"
   ]
  },
  {
   "cell_type": "code",
   "execution_count": 7,
   "metadata": {},
   "outputs": [
    {
     "name": "stdout",
     "output_type": "stream",
     "text": [
      "0\n"
     ]
    }
   ],
   "source": [
    "a=874869874\n",
    "res=0\n",
    "while a:\n",
    "    ld=ld%10\n",
    "    if res<ld:\n",
    "        ld=res\n",
    "    a=a//10\n",
    "print(res)\n",
    "    "
   ]
  },
  {
   "cell_type": "code",
   "execution_count": 8,
   "metadata": {},
   "outputs": [
    {
     "name": "stdout",
     "output_type": "stream",
     "text": [
      "6\n"
     ]
    }
   ],
   "source": [
    "a=46213\n",
    "res=0\n",
    "while a:\n",
    "    ld=a%10\n",
    "    if ld%2==0:\n",
    "        if res<ld:\n",
    "             res=ld\n",
    "    a=a//10\n",
    "print(res)\n",
    "\n"
   ]
  },
  {
   "cell_type": "code",
   "execution_count": 9,
   "metadata": {},
   "outputs": [
    {
     "name": "stdout",
     "output_type": "stream",
     "text": [
      "18\n"
     ]
    }
   ],
   "source": [
    "a=7164\n",
    "sum=0\n",
    "while a:\n",
    "    ld=a%10\n",
    "    sum=sum+ld\n",
    "    a=a//10\n",
    "print(sum)"
   ]
  },
  {
   "cell_type": "code",
   "execution_count": 10,
   "metadata": {},
   "outputs": [
    {
     "name": "stdout",
     "output_type": "stream",
     "text": [
      "331776\n"
     ]
    }
   ],
   "source": [
    "a=12348241389\n",
    "p=1\n",
    "while a:\n",
    "    ld=a%10\n",
    "    p=p*ld\n",
    "    a=a//10\n",
    "print(p)"
   ]
  },
  {
   "cell_type": "code",
   "execution_count": 11,
   "metadata": {},
   "outputs": [
    {
     "name": "stdout",
     "output_type": "stream",
     "text": [
      "helloworld\n",
      "helloworld\n",
      "helloworld\n",
      "helloworld\n",
      "helloworld\n"
     ]
    }
   ],
   "source": [
    "# 1print helloworld 5 times\n",
    "a=1\n",
    "b=5\n",
    "while a<=b:\n",
    "    print('helloworld')\n",
    "    a=a+1"
   ]
  },
  {
   "cell_type": "code",
   "execution_count": 12,
   "metadata": {},
   "outputs": [
    {
     "name": "stdout",
     "output_type": "stream",
     "text": [
      "1\n",
      "2\n",
      "3\n",
      "4\n",
      "5\n",
      "6\n",
      "7\n",
      "8\n",
      "9\n",
      "10\n"
     ]
    }
   ],
   "source": [
    "#2 print numbers from 1 to 10 using while loop\n",
    "a=1\n",
    "b=10\n",
    "while a<=b:\n",
    "    print(a)\n",
    "    a+=1"
   ]
  },
  {
   "cell_type": "code",
   "execution_count": 13,
   "metadata": {},
   "outputs": [],
   "source": [
    "#3 print natural numbers from 1 to nth\n",
    "a=1\n",
    "b=int(input('enter the number'))\n",
    "while a<=b:\n",
    "    print(a)\n",
    "    a+=1"
   ]
  },
  {
   "cell_type": "code",
   "execution_count": null,
   "metadata": {},
   "outputs": [
    {
     "name": "stdout",
     "output_type": "stream",
     "text": [
      "10\n",
      "9\n",
      "8\n",
      "7\n",
      "6\n",
      "5\n",
      "4\n",
      "3\n",
      "2\n",
      "1\n"
     ]
    }
   ],
   "source": [
    "#4 print natural numbers from  nth to 1\n",
    "a=1\n",
    "b=int(input('enter the number'))\n",
    "while b>=1:\n",
    "    print(b)\n",
    "    b=b-1"
   ]
  },
  {
   "cell_type": "code",
   "execution_count": null,
   "metadata": {},
   "outputs": [
    {
     "name": "stdout",
     "output_type": "stream",
     "text": [
      "0\n",
      "1\n",
      "2\n",
      "3\n",
      "4\n",
      "5\n",
      "6\n",
      "7\n",
      "8\n",
      "9\n",
      "10\n"
     ]
    }
   ],
   "source": [
    "#5 print whole number from  nth\n",
    "a=0\n",
    "b=int(input('enter the number'))\n",
    "while a<=b:\n",
    "    print(a)\n",
    "    a=a+1"
   ]
  },
  {
   "cell_type": "code",
   "execution_count": null,
   "metadata": {},
   "outputs": [
    {
     "name": "stdout",
     "output_type": "stream",
     "text": [
      "10\n",
      "9\n",
      "8\n",
      "7\n",
      "6\n",
      "5\n",
      "4\n",
      "3\n",
      "2\n",
      "1\n",
      "0\n"
     ]
    }
   ],
   "source": [
    "# 6 reverse whole from nth number\n",
    "a=0\n",
    "b=int(input('enter the number'))\n",
    "while b>=a:\n",
    "    print(b)\n",
    "    b=b-1"
   ]
  },
  {
   "cell_type": "code",
   "execution_count": null,
   "metadata": {},
   "outputs": [
    {
     "name": "stdout",
     "output_type": "stream",
     "text": [
      "2\n",
      "4\n",
      "6\n",
      "8\n",
      "10\n"
     ]
    }
   ],
   "source": [
    "# 7 print even numbers up to nth number\n",
    "a=1\n",
    "b=int(input('enter the number'))\n",
    "while a<=b:\n",
    "    if a%2==0:\n",
    "        print(a)\n",
    "    a=a+1"
   ]
  },
  {
   "cell_type": "code",
   "execution_count": null,
   "metadata": {},
   "outputs": [
    {
     "name": "stdout",
     "output_type": "stream",
     "text": [
      "10\n",
      "8\n",
      "6\n",
      "4\n",
      "2\n"
     ]
    }
   ],
   "source": [
    "# 8 print even numbers reverse from nth number\n",
    "a=1\n",
    "b=int(input('enter the number'))\n",
    "while b>=a:\n",
    "    if b%2==0:\n",
    "        print(b)\n",
    "    b=b-1"
   ]
  },
  {
   "cell_type": "code",
   "execution_count": null,
   "metadata": {},
   "outputs": [
    {
     "name": "stdout",
     "output_type": "stream",
     "text": [
      "1\n",
      "3\n",
      "5\n",
      "7\n",
      "9\n"
     ]
    }
   ],
   "source": [
    "# 9 print odd numbers up to nth numbers\n",
    "a=1\n",
    "b=int(input('enter the number'))\n",
    "while a<=b:\n",
    "    if a%2==1:\n",
    "        print(a)\n",
    "    a=a+1"
   ]
  },
  {
   "cell_type": "code",
   "execution_count": null,
   "metadata": {},
   "outputs": [
    {
     "name": "stdout",
     "output_type": "stream",
     "text": [
      "9\n",
      "7\n",
      "5\n",
      "3\n",
      "1\n"
     ]
    }
   ],
   "source": [
    "# 10 print odd numbers from nth number \n",
    "a=1\n",
    "b=int(input('enter the number'))\n",
    "while b>=a:\n",
    "    if b%2==1:\n",
    "        print(b)\n",
    "    b=b-1"
   ]
  },
  {
   "cell_type": "code",
   "execution_count": null,
   "metadata": {},
   "outputs": [
    {
     "name": "stdout",
     "output_type": "stream",
     "text": [
      "5* 1 = 1\n",
      "5* 2 = 10\n",
      "5* 3 = 15\n",
      "5* 4 = 20\n",
      "5* 5 = 25\n",
      "5* 6 = 30\n",
      "5* 7 = 35\n",
      "5* 8 = 40\n",
      "5* 9 = 45\n",
      "5* 10 = 50\n",
      "5* 11 = 55\n",
      "5* 12 = 60\n",
      "5* 13 = 65\n",
      "5* 14 = 70\n",
      "5* 15 = 75\n",
      "5* 16 = 80\n",
      "5* 17 = 85\n",
      "5* 18 = 90\n",
      "5* 19 = 95\n",
      "5* 20 = 100\n"
     ]
    }
   ],
   "source": [
    "# 11 print nth table formate 5*1=5\n",
    "a=1\n",
    "b=20\n",
    "p=1\n",
    "while a<=b:\n",
    "    print('5*',a,'=',p)\n",
    "    a=a+1\n",
    "    p=5*a"
   ]
  },
  {
   "cell_type": "code",
   "execution_count": null,
   "metadata": {},
   "outputs": [
    {
     "name": "stdout",
     "output_type": "stream",
     "text": [
      "5 x 20 = 100\n",
      "5 x 19 = 95\n",
      "5 x 18 = 90\n",
      "5 x 17 = 85\n",
      "5 x 16 = 80\n",
      "5 x 15 = 75\n",
      "5 x 14 = 70\n",
      "5 x 13 = 65\n",
      "5 x 12 = 60\n",
      "5 x 11 = 55\n",
      "5 x 10 = 50\n",
      "5 x 9 = 45\n",
      "5 x 8 = 40\n",
      "5 x 7 = 35\n",
      "5 x 6 = 30\n",
      "5 x 5 = 25\n",
      "5 x 4 = 20\n",
      "5 x 3 = 15\n",
      "5 x 2 = 10\n",
      "5 x 1 = 5\n"
     ]
    }
   ],
   "source": [
    "# 12 print nth table formate 5*20=100\n",
    "a=21\n",
    "b=1\n",
    "p=1\n",
    "while a>b:\n",
    "    a-=1\n",
    "    p=5*a\n",
    "    print('5 x',a,'=',p)\n",
    "    "
   ]
  },
  {
   "cell_type": "code",
   "execution_count": null,
   "metadata": {},
   "outputs": [
    {
     "name": "stdout",
     "output_type": "stream",
     "text": [
      "27\n",
      "30\n",
      "33\n",
      "36\n",
      "39\n",
      "42\n",
      "45\n",
      "48\n",
      "51\n",
      "54\n",
      "57\n",
      "60\n",
      "63\n",
      "66\n"
     ]
    }
   ],
   "source": [
    "# 13 print divisible by 3 from 25 to 66\n",
    "a=25\n",
    "b=66\n",
    "while a<=b:\n",
    "    if a%3==0:\n",
    "        print(a)\n",
    "    a+=1"
   ]
  },
  {
   "cell_type": "code",
   "execution_count": null,
   "metadata": {},
   "outputs": [
    {
     "name": "stdout",
     "output_type": "stream",
     "text": [
      "15\n",
      "30\n",
      "45\n",
      "60\n",
      "75\n"
     ]
    }
   ],
   "source": [
    "# 14 div by 3 and 5 from 15 to 76\n",
    "a=15\n",
    "b=76\n",
    "while a<=b:\n",
    "    if a%3==0 and a%5==0:\n",
    "        print(a)\n",
    "    a+=1"
   ]
  },
  {
   "cell_type": "code",
   "execution_count": null,
   "metadata": {},
   "outputs": [
    {
     "name": "stdout",
     "output_type": "stream",
     "text": [
      "70\n",
      "35\n"
     ]
    }
   ],
   "source": [
    "# 15 div by 5 and 7 from 77 to 22\n",
    "a=77\n",
    "b=22\n",
    "while a>=b:\n",
    "    if a%5==0 and a%7==0:\n",
    "        print(a)\n",
    "    a-=1"
   ]
  },
  {
   "cell_type": "code",
   "execution_count": null,
   "metadata": {},
   "outputs": [
    {
     "name": "stdout",
     "output_type": "stream",
     "text": [
      "love you 3\n",
      "hate you 5\n",
      "love you 6\n",
      "love you 9\n",
      "hate you 10\n",
      "love you 12\n",
      "i like you 15\n",
      "love you 18\n",
      "hate you 20\n",
      "love you 21\n",
      "love you 24\n",
      "hate you 25\n",
      "love you 27\n",
      "i like you 30\n"
     ]
    }
   ],
   "source": [
    "# 16 print\n",
    "a=1\n",
    "b=30\n",
    "while a<=b:\n",
    "     if a%5==0 and a%3==0 :\n",
    "        print('i like you',a)\n",
    "     elif a%3==0:\n",
    "        print('love you',a)\n",
    "     elif a%5==0:\n",
    "        print('hate you',a)\n",
    "   \n",
    "     a=a+1\n",
    "   "
   ]
  },
  {
   "cell_type": "code",
   "execution_count": null,
   "metadata": {},
   "outputs": [
    {
     "name": "stdout",
     "output_type": "stream",
     "text": [
      "55\n"
     ]
    }
   ],
   "source": [
    "# 17 sum of  numbers to nth \n",
    "a=0\n",
    "b=int(input('enter the number'))\n",
    "sum=0\n",
    "while a<=b:\n",
    "    sum=sum+a\n",
    "    a=a+1\n",
    "print(sum)\n"
   ]
  },
  {
   "cell_type": "code",
   "execution_count": 38,
   "metadata": {},
   "outputs": [
    {
     "name": "stdout",
     "output_type": "stream",
     "text": [
      "110\n"
     ]
    }
   ],
   "source": [
    "# 18 sum of even numbers from 1 to 20\n",
    "a=1\n",
    "b=20\n",
    "sum=0\n",
    "while a<=b:\n",
    "    if a%2==0:\n",
    "        sum+=a\n",
    "    a+=1\n",
    "print(sum)\n"
   ]
  },
  {
   "cell_type": "code",
   "execution_count": 44,
   "metadata": {},
   "outputs": [
    {
     "name": "stdout",
     "output_type": "stream",
     "text": [
      "2 = 2\n",
      "3 = 6\n",
      "4 = 24\n",
      "5 = 120\n",
      "6 = 720\n"
     ]
    }
   ],
   "source": [
    "# 19 print products of 1 to 6 numbers\n",
    "a=1\n",
    "b=6\n",
    "p=1\n",
    "while a<b:\n",
    "    a+=1\n",
    "    p=p*a\n",
    "    print(a,'=',p)\n"
   ]
  },
  {
   "cell_type": "code",
   "execution_count": 54,
   "metadata": {},
   "outputs": [
    {
     "name": "stdout",
     "output_type": "stream",
     "text": [
      "15\n"
     ]
    }
   ],
   "source": [
    "# 20 count number of odd values from 1 to 30\n",
    "a=1\n",
    "b=30\n",
    "c=0\n",
    "while a<=b:\n",
    "    if a%2==1:\n",
    "        c=c+1\n",
    "    a=a+1\n",
    "print(c)\n",
    "    "
   ]
  },
  {
   "cell_type": "code",
   "execution_count": 15,
   "metadata": {},
   "outputs": [
    {
     "name": "stdout",
     "output_type": "stream",
     "text": [
      "1 = 1\n",
      "2 = 2\n",
      "3 = 6\n",
      "4 = 24\n",
      "5 = 120\n",
      "6 = 720\n",
      "7 = 5040\n",
      "8 = 40320\n",
      "9 = 362880\n",
      "10 = 3628800\n"
     ]
    }
   ],
   "source": [
    "# 21 factors of given numbers\n",
    "a=0\n",
    "b=int(input())\n",
    "f=1\n",
    "while a<b:\n",
    "    a=a+1\n",
    "    f=f*a\n",
    "    print(a,'=',f)\n",
    "  "
   ]
  },
  {
   "cell_type": "code",
   "execution_count": 22,
   "metadata": {},
   "outputs": [
    {
     "name": "stdout",
     "output_type": "stream",
     "text": [
      "1 = 1\n",
      "2 = 3\n",
      "6 = 9\n",
      "24 = 33\n",
      "120 = 153\n"
     ]
    }
   ],
   "source": [
    "# 22 sum the factors of the given  number\n",
    "a=0\n",
    "b=int(input())\n",
    "f=1\n",
    "sum=0\n",
    "while a<b:\n",
    "    a=a+1\n",
    "    f=f*a\n",
    "    sum=sum+f\n",
    "    print( f,'=',sum)\n"
   ]
  },
  {
   "cell_type": "code",
   "execution_count": 11,
   "metadata": {},
   "outputs": [
    {
     "name": "stdout",
     "output_type": "stream",
     "text": [
      "0\n",
      "0\n"
     ]
    }
   ],
   "source": [
    "# 23 product of the factorial\n",
    "a=0\n",
    "b=int(input())\n",
    "f=1\n",
    "p=1\n",
    "while a<b:\n",
    "    a+=1\n",
    "    f=f*a\n",
    "    p=p*f\n",
    "    print(f)"
   ]
  },
  {
   "cell_type": "code",
   "execution_count": 9,
   "metadata": {},
   "outputs": [
    {
     "name": "stdout",
     "output_type": "stream",
     "text": [
      "1\n",
      "2\n",
      "3\n",
      "5\n",
      "8\n",
      "13\n",
      "21\n",
      "34\n",
      "55\n",
      "89\n",
      "144\n",
      "233\n",
      "377\n",
      "610\n",
      "987\n"
     ]
    }
   ],
   "source": [
    "# 24 fibonacci series 0 to nth\n",
    "a=0\n",
    "b=15\n",
    "n1=0\n",
    "n2=1\n",
    "c=0\n",
    "while a<b:\n",
    "    a=a+1\n",
    "    nth=n1+n2\n",
    "    print(nth)\n",
    "    n1=n2\n",
    "    n2=nth\n",
    "    \n",
    "    \n",
    "\n"
   ]
  },
  {
   "cell_type": "code",
   "execution_count": 28,
   "metadata": {},
   "outputs": [
    {
     "name": "stdout",
     "output_type": "stream",
     "text": [
      "40320\n"
     ]
    }
   ],
   "source": [
    "# 25 find factorial numbers of the iven number\n",
    "start=1\n",
    "end=8\n",
    "f=1\n",
    "while start<=end:\n",
    "    f*=start\n",
    "    start+=1\n",
    "print(f)"
   ]
  },
  {
   "cell_type": "code",
   "execution_count": 26,
   "metadata": {},
   "outputs": [
    {
     "ename": "ValueError",
     "evalue": "invalid literal for int() with base 10: ''",
     "output_type": "error",
     "traceback": [
      "\u001b[1;31m---------------------------------------------------------------------------\u001b[0m",
      "\u001b[1;31mValueError\u001b[0m                                Traceback (most recent call last)",
      "Cell \u001b[1;32mIn[26], line 2\u001b[0m\n\u001b[0;32m      1\u001b[0m \u001b[39m# 26 print factorial of numbers from m to n range\u001b[39;00m\n\u001b[1;32m----> 2\u001b[0m a\u001b[39m=\u001b[39m \u001b[39mint\u001b[39;49m(\u001b[39minput\u001b[39;49m(\u001b[39m'\u001b[39;49m\u001b[39ma value\u001b[39;49m\u001b[39m'\u001b[39;49m))\n\u001b[0;32m      3\u001b[0m b\u001b[39m=\u001b[39m\u001b[39mint\u001b[39m(\u001b[39minput\u001b[39m(\u001b[39m'\u001b[39m\u001b[39mb value\u001b[39m\u001b[39m'\u001b[39m))\n\u001b[0;32m      4\u001b[0m f\u001b[39m=\u001b[39m\u001b[39m1\u001b[39m\n",
      "\u001b[1;31mValueError\u001b[0m: invalid literal for int() with base 10: ''"
     ]
    }
   ],
   "source": [
    "# 26 print factorial of numbers from m to n range\n",
    "a= int(input('a value'))\n",
    "b=int(input('b value'))\n",
    "f=1\n",
    "while a<=b:\n",
    "    print(f)\n",
    "    a=a+1\n",
    "    f=f*a\n"
   ]
  },
  {
   "cell_type": "code",
   "execution_count": null,
   "metadata": {},
   "outputs": [],
   "source": []
  },
  {
   "cell_type": "code",
   "execution_count": 24,
   "metadata": {},
   "outputs": [],
   "source": [
    "# 27 check the number is prime number or not\n",
    "# a=0\n",
    "# b=25\n",
    "# count=0\n",
    "# d=''\n",
    "# while a<=b:\n",
    "#     a+=1\n",
    "#     if b%a==0:\n",
    "#         count+=1\n",
    "# d=count+1\n",
    "# print(d)\n",
    "# if count==2:\n",
    "#      print('prime')\n",
    "# else:\n",
    "#     print('not')\n",
    "\n",
    "                "
   ]
  },
  {
   "cell_type": "code",
   "execution_count": 28,
   "metadata": {},
   "outputs": [
    {
     "name": "stdout",
     "output_type": "stream",
     "text": [
      "2\n",
      "3\n",
      "5\n",
      "7\n",
      "11\n",
      "13\n",
      "17\n",
      "19\n"
     ]
    }
   ],
   "source": [
    "# print prime numbers form m to n range\n",
    "a=2\n",
    "while a<=20:\n",
    "    b=2\n",
    "    while a<=20:\n",
    "        if a%b==0:\n",
    "            break\n",
    "        b+=1\n",
    "    if a==b:\n",
    "        print(a)\n",
    "    a+=1"
   ]
  },
  {
   "cell_type": "code",
   "execution_count": 26,
   "metadata": {},
   "outputs": [
    {
     "name": "stdout",
     "output_type": "stream",
     "text": [
      "1 hello\n",
      "2 hello\n",
      "3 hello\n",
      "4 hello\n",
      "5 hello\n",
      "6 hello\n",
      "7 hello\n",
      "8 hello\n",
      "9 hello\n",
      "10 hello\n"
     ]
    }
   ],
   "source": [
    "a=1\n",
    "while a<=10:\n",
    "    print( a,'hello')\n",
    "    a+=1\n"
   ]
  },
  {
   "cell_type": "code",
   "execution_count": 31,
   "metadata": {},
   "outputs": [
    {
     "name": "stdout",
     "output_type": "stream",
     "text": [
      "hello\n"
     ]
    }
   ],
   "source": [
    "a='hello'\n",
    "b=len(a)\n",
    "while b<6:\n",
    "    print(a)\n",
    "    b+=1"
   ]
  },
  {
   "cell_type": "code",
   "execution_count": 35,
   "metadata": {},
   "outputs": [
    {
     "name": "stdout",
     "output_type": "stream",
     "text": [
      "8\n",
      "7\n",
      "3\n",
      "2\n",
      "6\n"
     ]
    }
   ],
   "source": [
    "a=\"87326\"\n",
    "i=0\n",
    "while i<len(a):\n",
    "    print(a[i])\n",
    "    i+=1"
   ]
  },
  {
   "cell_type": "code",
   "execution_count": 43,
   "metadata": {},
   "outputs": [
    {
     "name": "stdout",
     "output_type": "stream",
     "text": [
      "k\n",
      "j\n",
      "s\n",
      "d\n",
      "d\n",
      "9\n",
      "8\n",
      "7\n",
      "3\n"
     ]
    }
   ],
   "source": [
    "a='kjsdd9873'\n",
    "b=len(a)\n",
    "start=0\n",
    "while start<len(a):\n",
    "    print(a[start])\n",
    "    start+=1"
   ]
  },
  {
   "cell_type": "code",
   "execution_count": 1,
   "metadata": {},
   "outputs": [
    {
     "name": "stdout",
     "output_type": "stream",
     "text": [
      "2\n",
      "4\n",
      "6\n",
      "8\n"
     ]
    }
   ],
   "source": [
    "a=1\n",
    "b=10\n",
    "while a<b:\n",
    "    if a%2==0:\n",
    "        print(a)\n",
    "    a+=1"
   ]
  },
  {
   "cell_type": "code",
   "execution_count": 15,
   "metadata": {},
   "outputs": [
    {
     "name": "stdout",
     "output_type": "stream",
     "text": [
      "1\n",
      "2\n",
      "19\n",
      "38\n"
     ]
    }
   ],
   "source": [
    "a=38\n",
    "b=1\n",
    "while b<=a:\n",
    "    if a%b==0:\n",
    "        print(b)\n",
    "    b+=1"
   ]
  },
  {
   "cell_type": "code",
   "execution_count": null,
   "metadata": {},
   "outputs": [],
   "source": []
  },
  {
   "cell_type": "code",
   "execution_count": null,
   "metadata": {},
   "outputs": [],
   "source": []
  }
 ],
 "metadata": {
  "kernelspec": {
   "display_name": "Python 3",
   "language": "python",
   "name": "python3"
  },
  "language_info": {
   "codemirror_mode": {
    "name": "ipython",
    "version": 3
   },
   "file_extension": ".py",
   "mimetype": "text/x-python",
   "name": "python",
   "nbconvert_exporter": "python",
   "pygments_lexer": "ipython3",
   "version": "3.11.4"
  },
  "orig_nbformat": 4
 },
 "nbformat": 4,
 "nbformat_minor": 2
}
