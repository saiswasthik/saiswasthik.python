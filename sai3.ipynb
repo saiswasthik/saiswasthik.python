{
 "cells": [
  {
   "cell_type": "code",
   "execution_count": 1,
   "metadata": {},
   "outputs": [
    {
     "data": {
      "text/plain": [
       "True"
      ]
     },
     "execution_count": 1,
     "metadata": {},
     "output_type": "execute_result"
    }
   ],
   "source": [
    "#1wae to check the given character is lower case\n",
    "ch='a'\n",
    "'a'<=ch<='z'"
   ]
  },
  {
   "cell_type": "code",
   "execution_count": 2,
   "metadata": {},
   "outputs": [
    {
     "data": {
      "text/plain": [
       "True"
      ]
     },
     "execution_count": 2,
     "metadata": {},
     "output_type": "execute_result"
    }
   ],
   "source": [
    "#2wae to check the given character is uppercase or not\n",
    "ch='Q'\n",
    "'A'<=ch<='Z'"
   ]
  },
  {
   "cell_type": "code",
   "execution_count": 7,
   "metadata": {},
   "outputs": [
    {
     "data": {
      "text/plain": [
       "'('"
      ]
     },
     "execution_count": 7,
     "metadata": {},
     "output_type": "execute_result"
    }
   ],
   "source": [
    "#3wae to find out ascii chracter in given number\n",
    "a=40\n",
    "chr(a)"
   ]
  },
  {
   "cell_type": "code",
   "execution_count": 8,
   "metadata": {},
   "outputs": [
    {
     "data": {
      "text/plain": [
       "True"
      ]
     },
     "execution_count": 8,
     "metadata": {},
     "output_type": "execute_result"
    }
   ],
   "source": [
    "#4wae to check the given number is divisible by 3 or 5\n",
    "a=42\n",
    "a%3==0 or a%5==0"
   ]
  },
  {
   "cell_type": "code",
   "execution_count": 10,
   "metadata": {},
   "outputs": [
    {
     "data": {
      "text/plain": [
       "True"
      ]
     },
     "execution_count": 10,
     "metadata": {},
     "output_type": "execute_result"
    }
   ],
   "source": [
    "#5wae to check the given number is divisible by 3 and 5\n",
    "a=30\n",
    "a%3==0 and a%5==0"
   ]
  },
  {
   "cell_type": "code",
   "execution_count": 20,
   "metadata": {},
   "outputs": [
    {
     "name": "stdout",
     "output_type": "stream",
     "text": [
      "False\n"
     ]
    }
   ],
   "source": [
    "#6wae to check given number is present between 60 to 120 and the number should be divisible by 3 and 4 and the last digit should be less than 9\n",
    "a=70\n",
    "print( 60>=a<=120 and a%3==0 and a%4==0 and a%10>9)"
   ]
  },
  {
   "cell_type": "code",
   "execution_count": 25,
   "metadata": {},
   "outputs": [
    {
     "data": {
      "text/plain": [
       "False"
      ]
     },
     "execution_count": 25,
     "metadata": {},
     "output_type": "execute_result"
    }
   ],
   "source": [
    "#7wae to check the given string last character value should be divisible by 5 or not\n",
    "a=\"saiswasthik\"\n",
    "ord(a[-1])%5==0"
   ]
  },
  {
   "cell_type": "code",
   "execution_count": 26,
   "metadata": {},
   "outputs": [
    {
     "data": {
      "text/plain": [
       "True"
      ]
     },
     "execution_count": 26,
     "metadata": {},
     "output_type": "execute_result"
    }
   ],
   "source": [
    "#8wae to check the given character is ascii number\n",
    "ch='7'\n",
    "'0'<=ch<='9'"
   ]
  },
  {
   "cell_type": "code",
   "execution_count": 29,
   "metadata": {},
   "outputs": [
    {
     "data": {
      "text/plain": [
       "True"
      ]
     },
     "execution_count": 29,
     "metadata": {},
     "output_type": "execute_result"
    }
   ],
   "source": [
    "#9wae to check the given character is the special character\n",
    "a='@'\n",
    "('a'>=a<='z'  and 'A'>=a <='Z')"
   ]
  },
  {
   "cell_type": "code",
   "execution_count": 39,
   "metadata": {},
   "outputs": [
    {
     "name": "stdout",
     "output_type": "stream",
     "text": [
      "True\n"
     ]
    }
   ],
   "source": [
    "#10wae to check the given character is consonant\n",
    "a='p'\n",
    "print(a  not in 'aeiouAEIOU')"
   ]
  },
  {
   "cell_type": "code",
   "execution_count": 38,
   "metadata": {},
   "outputs": [
    {
     "name": "stdout",
     "output_type": "stream",
     "text": [
      "True\n"
     ]
    }
   ],
   "source": [
    "#11wae to check the given character is  not consonant\n",
    "a='i'\n",
    "print(a in 'aeiouAEIOU')"
   ]
  },
  {
   "cell_type": "code",
   "execution_count": 1,
   "metadata": {},
   "outputs": [
    {
     "data": {
      "text/plain": [
       "True"
      ]
     },
     "execution_count": 1,
     "metadata": {},
     "output_type": "execute_result"
    }
   ],
   "source": [
    "#12 wae to check the given number to present between 60 to 130 and the number should be divisible by 3 abd 4 and the digit should be less than 9\n",
    "a=72\n",
    "a>=60 and a<=130 and a%3==0 and a%4==0 and a%10<9"
   ]
  },
  {
   "cell_type": "code",
   "execution_count": 2,
   "metadata": {},
   "outputs": [
    {
     "data": {
      "text/plain": [
       "'a'"
      ]
     },
     "execution_count": 2,
     "metadata": {},
     "output_type": "execute_result"
    }
   ],
   "source": [
    "#13 was to convert upper to lower\n",
    "a='A'\n",
    "chr(ord(a)+32)"
   ]
  },
  {
   "cell_type": "code",
   "execution_count": 4,
   "metadata": {},
   "outputs": [
    {
     "data": {
      "text/plain": [
       "'S'"
      ]
     },
     "execution_count": 4,
     "metadata": {},
     "output_type": "execute_result"
    }
   ],
   "source": [
    "#14 was to conver loweer to upper\n",
    "a='s'\n",
    "chr(ord(a)-32)"
   ]
  },
  {
   "cell_type": "code",
   "execution_count": 6,
   "metadata": {},
   "outputs": [
    {
     "data": {
      "text/plain": [
       "'y'"
      ]
     },
     "execution_count": 6,
     "metadata": {},
     "output_type": "execute_result"
    }
   ],
   "source": [
    "#15waas to extract the previous character in the given character\n",
    "a='z'\n",
    "chr(ord(a)-1)"
   ]
  },
  {
   "cell_type": "code",
   "execution_count": 7,
   "metadata": {},
   "outputs": [
    {
     "data": {
      "text/plain": [
       "'c'"
      ]
     },
     "execution_count": 7,
     "metadata": {},
     "output_type": "execute_result"
    }
   ],
   "source": [
    "#16 was to extract the next character in the given character\n",
    "a='b'\n",
    "chr(ord(a)+1)"
   ]
  },
  {
   "cell_type": "code",
   "execution_count": 8,
   "metadata": {},
   "outputs": [
    {
     "data": {
      "text/plain": [
       "'s'"
      ]
     },
     "execution_count": 8,
     "metadata": {},
     "output_type": "execute_result"
    }
   ],
   "source": [
    "# 17 was to extract the third character of the given character\n",
    "a='p'\n",
    "chr(ord(a)+3)"
   ]
  },
  {
   "cell_type": "code",
   "execution_count": 11,
   "metadata": {},
   "outputs": [
    {
     "data": {
      "text/plain": [
       "True"
      ]
     },
     "execution_count": 11,
     "metadata": {},
     "output_type": "execute_result"
    }
   ],
   "source": [
    "# 18 wae to check the given character is converted to ASCII value and the value is even as well as the cahracter should be lowerchase\n",
    "a='b'\n",
    "ord(a)%2==0 and a>='a' and a<='z'"
   ]
  },
  {
   "cell_type": "code",
   "execution_count": 13,
   "metadata": {},
   "outputs": [
    {
     "data": {
      "text/plain": [
       "False"
      ]
     },
     "execution_count": 13,
     "metadata": {},
     "output_type": "execute_result"
    }
   ],
   "source": [
    "# 19 wae to check the given character is converted to ASCII value and the value is  odd as well as the character should be uppercase\n",
    "a='L'\n",
    "ord(a)%2==1 and a>='A' and a<='Z'"
   ]
  },
  {
   "cell_type": "code",
   "execution_count": 18,
   "metadata": {},
   "outputs": [
    {
     "data": {
      "text/plain": [
       "'<'"
      ]
     },
     "execution_count": 18,
     "metadata": {},
     "output_type": "execute_result"
    }
   ],
   "source": [
    "# 20 wae to check  which the given  number is converted to character is symbol or not\n",
    "a=60\n",
    "chr(a)"
   ]
  },
  {
   "cell_type": "code",
   "execution_count": 27,
   "metadata": {},
   "outputs": [
    {
     "data": {
      "text/plain": [
       "False"
      ]
     },
     "execution_count": 27,
     "metadata": {},
     "output_type": "execute_result"
    }
   ],
   "source": [
    "# 21wae to check the given number of the ASCII character is a vowel or not\n",
    "a=70\n",
    "chr(a) in '(aeiouAEIOU)'"
   ]
  },
  {
   "cell_type": "code",
   "execution_count": 30,
   "metadata": {},
   "outputs": [
    {
     "data": {
      "text/plain": [
       "True"
      ]
     },
     "execution_count": 30,
     "metadata": {},
     "output_type": "execute_result"
    }
   ],
   "source": [
    "# 22 wae to check the first and second character are sequence or not in a given string\n",
    "a='abc'\n",
    "ord(a[0])==ord(a[1])-1"
   ]
  },
  {
   "cell_type": "code",
   "execution_count": 31,
   "metadata": {},
   "outputs": [
    {
     "data": {
      "text/plain": [
       "True"
      ]
     },
     "execution_count": 31,
     "metadata": {},
     "output_type": "execute_result"
    }
   ],
   "source": [
    "# 23 wae to check the first and second character are sequence or not in a given string\n",
    "a='abc'\n",
    "ord(a[2])-1==ord(a[1])"
   ]
  },
  {
   "cell_type": "code",
   "execution_count": 35,
   "metadata": {},
   "outputs": [
    {
     "data": {
      "text/plain": [
       "False"
      ]
     },
     "execution_count": 35,
     "metadata": {},
     "output_type": "execute_result"
    }
   ],
   "source": [
    "# 24 wae to check the given character ASCII vale should  greater than 25 or less than 112\n",
    "a='d'\n",
    "25>ord(a)<112\n"
   ]
  },
  {
   "cell_type": "code",
   "execution_count": 41,
   "metadata": {},
   "outputs": [
    {
     "name": "stdout",
     "output_type": "stream",
     "text": [
      "20\n",
      "10\n"
     ]
    }
   ],
   "source": [
    "# 25 wae to  swapp  the given equation\n",
    "a=10\n",
    "b=20\n",
    "a,b=b,a\n",
    "print(a)\n",
    "print(b)"
   ]
  },
  {
   "cell_type": "code",
   "execution_count": 45,
   "metadata": {},
   "outputs": [
    {
     "name": "stdout",
     "output_type": "stream",
     "text": [
      "5\n"
     ]
    }
   ],
   "source": [
    "# 26 wae to check the given  number is incresed by 1\n",
    "a=4\n",
    "a+=1\n",
    "print(a)"
   ]
  },
  {
   "cell_type": "code",
   "execution_count": 46,
   "metadata": {},
   "outputs": [
    {
     "name": "stdout",
     "output_type": "stream",
     "text": [
      "12\n"
     ]
    }
   ],
   "source": [
    "# 27 wae to check the given number is incrased by 2\n",
    "a=10\n",
    "a+=2\n",
    "print(a)"
   ]
  },
  {
   "cell_type": "code",
   "execution_count": 47,
   "metadata": {},
   "outputs": [
    {
     "name": "stdout",
     "output_type": "stream",
     "text": [
      "20\n"
     ]
    }
   ],
   "source": [
    "# 28 wae to check the given number is increasd by 10\n",
    "a=10\n",
    "a+=10\n",
    "print(a)"
   ]
  },
  {
   "cell_type": "code",
   "execution_count": 48,
   "metadata": {},
   "outputs": [
    {
     "name": "stdout",
     "output_type": "stream",
     "text": [
      "9\n"
     ]
    }
   ],
   "source": [
    "# 29 wae to check the given number is decrease by 10\n",
    "a=19\n",
    "a-=10\n",
    "print(a)"
   ]
  },
  {
   "cell_type": "code",
   "execution_count": 49,
   "metadata": {},
   "outputs": [
    {
     "name": "stdout",
     "output_type": "stream",
     "text": [
      "14\n"
     ]
    }
   ],
   "source": [
    "# 30 wae to check the given number is decrease by 1\n",
    "a=15\n",
    "a-=1\n",
    "print(a)"
   ]
  },
  {
   "cell_type": "code",
   "execution_count": 51,
   "metadata": {},
   "outputs": [
    {
     "data": {
      "text/plain": [
       "False"
      ]
     },
     "execution_count": 51,
     "metadata": {},
     "output_type": "execute_result"
    }
   ],
   "source": [
    "# 31 wae to ceck the given number is present in the given collection\n",
    "a=2\n",
    "a in (10,20,30,)"
   ]
  },
  {
   "cell_type": "code",
   "execution_count": 52,
   "metadata": {},
   "outputs": [
    {
     "name": "stdout",
     "output_type": "stream",
     "text": [
      "40\n"
     ]
    }
   ],
   "source": [
    "# 32 wae to perform the addition operation  on a value and b value and the final value should be assigned to the a\n",
    "a=10\n",
    "b=30\n",
    "a=a+b\n",
    "print(a)"
   ]
  },
  {
   "cell_type": "code",
   "execution_count": null,
   "metadata": {},
   "outputs": [],
   "source": [
    "#33 wae to check the given value present in the collection\n",
    "s='haii'\n",
    "s in "
   ]
  },
  {
   "cell_type": "code",
   "execution_count": 58,
   "metadata": {},
   "outputs": [
    {
     "name": "stdout",
     "output_type": "stream",
     "text": [
      "979.5\n",
      "195.9\n",
      "783.6\n"
     ]
    }
   ],
   "source": [
    "# 34  price of the pizza after the discount\n",
    "p=326.50\n",
    "a=p*3\n",
    "print(a)\n",
    "d=a*20/100\n",
    "print(d)\n",
    "c=a-d\n",
    "print(c)"
   ]
  },
  {
   "cell_type": "code",
   "execution_count": 61,
   "metadata": {},
   "outputs": [
    {
     "name": "stdout",
     "output_type": "stream",
     "text": [
      "3600.0\n",
      "2400.0\n",
      "24000.0\n"
     ]
    }
   ],
   "source": [
    "#35 monthaly salary after reduction of pf and tax\n",
    "s=30000\n",
    "pf=s*12/100\n",
    "print(pf)\n",
    "tax=s*8/100\n",
    "print(tax)\n",
    "sal=s-pf-tax\n",
    "print(sal)"
   ]
  },
  {
   "cell_type": "code",
   "execution_count": 68,
   "metadata": {},
   "outputs": [
    {
     "name": "stdout",
     "output_type": "stream",
     "text": [
      "57000.0\n",
      "4750.0\n",
      "228000.0\n",
      "728000.0\n"
     ]
    }
   ],
   "source": [
    "#5la loan for 4 years rate 11.4 \n",
    "a=500000\n",
    "m=500000*11.4/100\n",
    "print(m)\n",
    "b=(500000*11.4/100)/12\n",
    "print(b)\n",
    "l=(500000*11.4/100)*4\n",
    "print(l)\n",
    "amt=a+l\n",
    "print(amt)"
   ]
  }
 ],
 "metadata": {
  "kernelspec": {
   "display_name": "Python 3",
   "language": "python",
   "name": "python3"
  },
  "language_info": {
   "codemirror_mode": {
    "name": "ipython",
    "version": 3
   },
   "file_extension": ".py",
   "mimetype": "text/x-python",
   "name": "python",
   "nbconvert_exporter": "python",
   "pygments_lexer": "ipython3",
   "version": "3.11.4"
  },
  "orig_nbformat": 4
 },
 "nbformat": 4,
 "nbformat_minor": 2
}
