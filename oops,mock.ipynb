{
 "cells": [
  {
   "cell_type": "code",
   "execution_count": 1,
   "metadata": {},
   "outputs": [],
   "source": [
    "class student:\n",
    "    address='hyd'\n",
    "    name=\"ravindhra\"\n",
    "    pincode=500060\n",
    "    phone=998873452\n",
    "    di={}\n",
    "    no_stud=0\n",
    "    def __init__(self,studentName,Phone,Email,Address,Mark1,Mark2,Mark3):\n",
    "        self.studentName=studentName\n",
    "        self.Phone=Phone\n",
    "        self.Email=Email\n",
    "        self.Address=Address\n",
    "        self.Marks1=Mark1\n",
    "        self.Marks2=Mark2\n",
    "        self.Marks3=Mark3\n",
    "        self.gen_rollno()\n",
    "        self.rollNo=self.no_stud\n",
    "        # self.total=Mark1+Mark2+Mark3\n",
    "        # self.percentage=(self.total/300)*100\n",
    "        self.storage(self.rollNo,self)\n",
    "\n",
    "    @classmethod\n",
    "    def gen_rollno(cls):\n",
    "        cls.no_stud+=1\n",
    "\n",
    "    @classmethod\n",
    "    def storage(cls,key,value):\n",
    "        cls.di[key]=value\n",
    "    \n",
    "    @classmethod\n",
    "    def calculateTotal( cls):\n",
    "        cls.total\n",
    "    @classmethod\n",
    "    def percentage(cls):\n",
    "        cls.percentage\n",
    "raju=student('raju',9542757209,'raju@gmail.com','chaitanyapuri',80,70,85)\n",
    "sai=student('saiswasthik',9542757209,'saiswasthik@gmail.com','chaitanyapuri',70,90,80)\n",
    "sami=student('sami',9542757209,'sami@gmail.com','chaitanyapuri',78,85,89)\n"
   ]
  },
  {
   "cell_type": "code",
   "execution_count": 12,
   "metadata": {},
   "outputs": [],
   "source": [
    "class student:\n",
    "    s_address='hyd'\n",
    "    s_name=\"ravindhra\"\n",
    "    s_pincode=500060\n",
    "    s_phone=998873452\n",
    "\n",
    "    def __init__(self,studentName, rollNo,Phone,Email,Address,Mark1,Mark2,Mark3):\n",
    "        self.studentName=studentName\n",
    "        self.rollNo=rollNo\n",
    "        self.Phone=Phone\n",
    "        self.Email=Email\n",
    "        self.Address=Address\n",
    "        self.Marks1=Mark1\n",
    "        self.Marks2=Mark2\n",
    "        self.Marks3=Mark3\n",
    "        self.total=Mark1+Mark2+Mark3\n",
    "        self.percentage=(self.total/300)*100\n",
    "raju=student('raju',20,9542757209,'raju@gmail.com','chaitanyapuri',80,70,85)\n",
    "sai=student('saiswasthik',21,9542757209,'saiswasthik@gmail.com','chaitanyapuri',70,90,80)\n",
    "sami=student('sami',22,9542757209,'sami@gmail.com','chaitanyapuri',78,85,89)\n",
    "\n",
    "@classmethod\n",
    "def calculateTotal( cls):\n",
    "    cls.total\n",
    "@classmethod\n",
    "def percentage(cls):\n",
    "    cls.percentage"
   ]
  },
  {
   "cell_type": "code",
   "execution_count": 9,
   "metadata": {},
   "outputs": [
    {
     "data": {
      "text/plain": [
       "{'studentName': 'saiswasthik',\n",
       " 'rollNo': 21,\n",
       " 'Phone': 9542757209,\n",
       " 'Email': 'saiswasthik@gmail.com',\n",
       " 'Address': 'chaitanyapuri',\n",
       " 'Marks1': 70,\n",
       " 'Marks2': 90,\n",
       " 'Marks3': 80,\n",
       " 'total': 240,\n",
       " 'percentage': 80.0}"
      ]
     },
     "execution_count": 9,
     "metadata": {},
     "output_type": "execute_result"
    }
   ],
   "source": [
    "sai.__dict__"
   ]
  },
  {
   "cell_type": "code",
   "execution_count": 8,
   "metadata": {},
   "outputs": [
    {
     "data": {
      "text/plain": [
       "80.0"
      ]
     },
     "execution_count": 8,
     "metadata": {},
     "output_type": "execute_result"
    }
   ],
   "source": [
    "sai.percentage"
   ]
  },
  {
   "cell_type": "code",
   "execution_count": 10,
   "metadata": {},
   "outputs": [],
   "source": [
    "sai.Marks1=50\n"
   ]
  },
  {
   "cell_type": "code",
   "execution_count": 15,
   "metadata": {},
   "outputs": [],
   "source": [
    "student.s_name='vikas'"
   ]
  },
  {
   "cell_type": "code",
   "execution_count": 16,
   "metadata": {},
   "outputs": [
    {
     "data": {
      "text/plain": [
       "'vikas'"
      ]
     },
     "execution_count": 16,
     "metadata": {},
     "output_type": "execute_result"
    }
   ],
   "source": [
    "student.s_name"
   ]
  },
  {
   "cell_type": "code",
   "execution_count": 10,
   "metadata": {},
   "outputs": [],
   "source": [
    "\n"
   ]
  },
  {
   "cell_type": "code",
   "execution_count": null,
   "metadata": {},
   "outputs": [],
   "source": []
  }
 ],
 "metadata": {
  "kernelspec": {
   "display_name": "Python 3",
   "language": "python",
   "name": "python3"
  },
  "language_info": {
   "codemirror_mode": {
    "name": "ipython",
    "version": 3
   },
   "file_extension": ".py",
   "mimetype": "text/x-python",
   "name": "python",
   "nbconvert_exporter": "python",
   "pygments_lexer": "ipython3",
   "version": "3.11.4"
  }
 },
 "nbformat": 4,
 "nbformat_minor": 2
}
