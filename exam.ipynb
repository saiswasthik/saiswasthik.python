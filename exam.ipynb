{
 "cells": [
  {
   "cell_type": "code",
   "execution_count": 4,
   "metadata": {},
   "outputs": [
    {
     "name": "stdout",
     "output_type": "stream",
     "text": [
      "kaiswasths\n"
     ]
    }
   ],
   "source": [
    "# wap to change the last swap the initial and laste value in the given string\n",
    "a='saiswasthik'\n",
    "b=a[0]\n",
    "c=a[-1]\n",
    "print(c+a[1:-2:]+b)"
   ]
  },
  {
   "cell_type": "code",
   "execution_count": 18,
   "metadata": {},
   "outputs": [
    {
     "name": "stdout",
     "output_type": "stream",
     "text": [
      "8\n",
      "[1, 2, 3, 8, 5, 6]\n"
     ]
    }
   ],
   "source": [
    "#perforn addition and substraction list of collection first and last\n",
    "# character or even modifi middle value with multiplu with 2\n",
    "a=[1,2,3,4,5,6]\n",
    "if a[0]%2==0 and a[-1]%2==0:\n",
    "    b=a[0]+a[-1]\n",
    "    print(b)\n",
    "else:\n",
    "    c=a[len(a)//2]*2\n",
    "    print(c)\n",
    "    a[len(a)//2]=c\n",
    "    print(a)\n",
    "\n"
   ]
  },
  {
   "cell_type": "code",
   "execution_count": 17,
   "metadata": {},
   "outputs": [
    {
     "name": "stdout",
     "output_type": "stream",
     "text": [
      "leap year\n"
     ]
    }
   ],
   "source": [
    "#wap to find given year is leap year or not\n",
    "a=2016\n",
    "if a%4==0 and a%100!=0:\n",
    "    print('leap year')\n",
    "else:\n",
    "    print('not a leap year')"
   ]
  },
  {
   "cell_type": "code",
   "execution_count": 35,
   "metadata": {},
   "outputs": [
    {
     "name": "stdout",
     "output_type": "stream",
     "text": [
      "A B\n",
      "EBBA\n"
     ]
    }
   ],
   "source": [
    "# wap to check first and middle are sequence are not if sequence  to swaap the first and last character\n",
    "# if it is not sequence the middle characte is converted to sequenc character according to the first character\n",
    "a='ABBDE'\n",
    "b=a[0]\n",
    "c=a[len(a)//2]\n",
    "print(b,c)\n",
    "if ord(b)+1==ord(c):\n",
    "    d=a[1:-2]\n",
    "    print(a[-1]+d+a[0])\n",
    "else:\n",
    "    print(a)\n",
    "    print(len(a)//2)\n",
    "    print(a[0:5]+'t'+a[6::])"
   ]
  },
  {
   "cell_type": "code",
   "execution_count": 28,
   "metadata": {},
   "outputs": [
    {
     "ename": "TypeError",
     "evalue": "string argument without an encoding",
     "output_type": "error",
     "traceback": [
      "\u001b[1;31m---------------------------------------------------------------------------\u001b[0m",
      "\u001b[1;31mTypeError\u001b[0m                                 Traceback (most recent call last)",
      "Cell \u001b[1;32mIn[28], line 1\u001b[0m\n\u001b[1;32m----> 1\u001b[0m s\u001b[39m=\u001b[39m\u001b[39mbytes\u001b[39;49m(\u001b[39minput\u001b[39;49m(\u001b[39m\"\u001b[39;49m\u001b[39menter:\u001b[39;49m\u001b[39m\"\u001b[39;49m))\n\u001b[0;32m      2\u001b[0m \u001b[39mlist\u001b[39m(s)\n",
      "\u001b[1;31mTypeError\u001b[0m: string argument without an encoding"
     ]
    }
   ],
   "source": [
    "s=bytes(input(\"enter:\"))\n",
    "list(s)"
   ]
  }
 ],
 "metadata": {
  "kernelspec": {
   "display_name": "Python 3",
   "language": "python",
   "name": "python3"
  },
  "language_info": {
   "codemirror_mode": {
    "name": "ipython",
    "version": 3
   },
   "file_extension": ".py",
   "mimetype": "text/x-python",
   "name": "python",
   "nbconvert_exporter": "python",
   "pygments_lexer": "ipython3",
   "version": "3.11.4"
  },
  "orig_nbformat": 4
 },
 "nbformat": 4,
 "nbformat_minor": 2
}
