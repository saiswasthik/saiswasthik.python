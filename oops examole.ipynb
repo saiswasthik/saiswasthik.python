{
 "cells": [
  {
   "cell_type": "code",
   "execution_count": null,
   "metadata": {},
   "outputs": [],
   "source": [
    "class customer:\n",
    "    cust_count=0\n",
    "    cust_details={}\n",
    "    def __init__(self, cname, age, email, phone, address, adhaar):\n",
    "        self.c_name=cname\n",
    "        self.c_age=age\n",
    "        self.c_email=email\n",
    "        self.c_phone=phone\n",
    "        self.c_address =address\n",
    "        self.c_adhaar=adhaar\n",
    "        self.inc_cust_count()\n",
    "        self.cust_id=1560+self.cust_count\n",
    "        self.concat_cust(self.cust_id, self)\n",
    "    @classmethod\n",
    "    def inc_cust_count(cls):\n",
    "        cls.cust_count+=1\n",
    "    @classmethod\n",
    "    def concat_cust(cls, id, self): cls.cust_details[id]self\n",
    "customer('rahul', 23, 'rahul@gmail.com', 9977441133, 'gdv', 12345678963)\n",
    "class product:\n",
    "    prod_count = 0\n",
    "    prod_details={}\n",
    "    def __init__(self, type_of_prod, name, desc, price, discount, quantity, dom, doe,):\n",
    "        self.type_of_prod-type_of_prod\n",
    "        self.p_name =name\n",
    "        self.p_desc=desc\n",
    "        self.p_price =price \n",
    "        self.p_discount = discount\n",
    "        self.p_quantity= quantity\n",
    "        self.p_dom = dom\n",
    "        self.p_doe = doe\n",
    "        self.inc_prod_count()\n",
    "        self.prod_id =7560+self.prod_count\n",
    "        self.concat_prod(self.prod_id, self)\n",
    "    @classmethod\n",
    "    def inc_prod_count(cls):\n",
    "     cls.prod_count += 1\n",
    "    @classmethod\n",
    "    def concat_prod(cls, id, self):\n",
    "     cls.prod_details[id] = self\n",
    "    def change_discount(self):\n",
    "     self.p_discount =int(input(\"Enter the New Discount Value:\"))\n",
    "    @classmethod\n",
    "    def inc_prod_count(cls):\n",
    "     cls.prod_count1+=1\n",
    "    @classmethod \n",
    "    def concat_prod(cls, id, self):\n",
    "        cls.prod_details[id]= self\n",
    "    def change_discount(self):\n",
    "        self._discountwint(input(\"Enter the New Discount Value:\"))\n",
    "    def change_inc_quantity(self):\n",
    "        self.p_quantity= int(input(\"Enter the New quantity Value:\"))\n",
    "    def change_dec_quantity(self, value):\n",
    "        self.p_quantity-=value\n",
    "    @classmethod\n",
    "    def display prod_details(cls):\n",
    "    P_list= cls.prod_details\n",
    "    print('Product_id', 'type_of_prod', 'name', 'desc', 'price', 'discount', 'quanti',)\n",
    "for i in p_list:\n",
    "print(p_list(i).prod_id,p_list[i].type_of_prod, p_list[i].p_name,\n",
    "P_list[i].p_desc, p_list[i].p_price,\n",
    "p_list[i].p_discount,\n",
    "p_list(i).p_quantity,\n",
    "p_list[i].p_dom, p_list[i].p_doe,sep=\" | \")\n",
    "@classmethod\n",
    "def unique_type_prods(cls):\n",
    "uni=[]\n",
    "for i in cls.prod_details:\n",
    "I\n",
    "if cls.prod_details[i].type_of_prod. upper() not in uni:\n",
    "uni+s[cls.prod_details[i].type_of_prod.upper()1\n",
    "print(uni)"
   ]
  },
  {
   "cell_type": "code",
   "execution_count": 28,
   "metadata": {},
   "outputs": [],
   "source": [
    "class school:\n",
    "    name='vikas'\n",
    "    adress='hyd'\n",
    "    phone=98907654\n",
    "    roll=1\n",
    "    def __init__(self,name,clas,phone):\n",
    "        self.name=name\n",
    "        # self.roll\n",
    "        self.roll_inc()\n",
    "        self.clas=clas\n",
    "        self.phone=phone\n",
    "\n",
    "    @classmethod\n",
    "    def roll_inc(cls):\n",
    "   \n",
    "        cls.roll+=1\n",
    "ramu=school('ramu',5,90987687654)\n",
    "karthik=school('karthik',5,9898786547)\n"
   ]
  },
  {
   "cell_type": "code",
   "execution_count": 29,
   "metadata": {},
   "outputs": [
    {
     "data": {
      "text/plain": [
       "3"
      ]
     },
     "execution_count": 29,
     "metadata": {},
     "output_type": "execute_result"
    }
   ],
   "source": [
    "karthik.roll"
   ]
  },
  {
   "cell_type": "code",
   "execution_count": 43,
   "metadata": {},
   "outputs": [
    {
     "name": "stdout",
     "output_type": "stream",
     "text": [
      "1\n",
      "{401: <__main__.ho object at 0x0000012488F464D0>}\n",
      "{'name': 'sai', 'id': 401, 'name2': 'dfsdfs'}\n"
     ]
    }
   ],
   "source": [
    "class ho:\n",
    "    count=0\n",
    "    data={}\n",
    "    def __init__(self,name):\n",
    "        self.name=name\n",
    "        self.countt()\n",
    "        self.id=400+ho.count\n",
    "        self.dataa(self.id,self)\n",
    "        self.var()\n",
    "    @classmethod\n",
    "    def countt(cls):\n",
    "        cls.count+=1\n",
    "    @classmethod\n",
    "    def dataa(cls,id,boj_data):\n",
    "        cls.data[id]=boj_data\n",
    "    def var(self):\n",
    "        self.name2='dfsdfs'\n",
    "    \n",
    "\n",
    "oj=ho('sai')\n",
    "print(ho.count)\n",
    "print(ho.data)\n",
    "print(ho.data[401].__dict__)\n",
    "\n",
    "\n"
   ]
  },
  {
   "cell_type": "code",
   "execution_count": 7,
   "metadata": {},
   "outputs": [
    {
     "name": "stdout",
     "output_type": "stream",
     "text": [
      "0\n",
      "0\n"
     ]
    }
   ],
   "source": [
    "class school:\n",
    "    s_name='vikas'\n",
    "    s_address='hyd'\n",
    "    roll=int(input('enter the last roll number'))\n",
    "    count=0\n",
    "    def __init__(self,name,number):\n",
    "        self.st_name=name\n",
    "        self.st_number=number\n",
    "        # self.st_roll()\n",
    "        print(school.count)\n",
    "        self.count=school.count\n",
    "        self.st_roll=school.roll\n",
    "    @classmethod\n",
    "    def st_roll(cls):\n",
    "        cls.roll+=1 \n",
    "    # @classmethod \n",
    "    # def count(cls):\n",
    "        # cls.count+=1\n",
    "    if count==object:\n",
    "        count+=1\n",
    "\n",
    "ram=school('ram',8765436787)\n",
    "kiran=school('kiran',987967543)"
   ]
  },
  {
   "cell_type": "code",
   "execution_count": 8,
   "metadata": {},
   "outputs": [
    {
     "data": {
      "text/plain": [
       "{'st_name': 'ram', 'st_number': 8765436787, 'count': 0, 'st_roll': 7}"
      ]
     },
     "execution_count": 8,
     "metadata": {},
     "output_type": "execute_result"
    }
   ],
   "source": [
    "ram.__dict__"
   ]
  },
  {
   "cell_type": "code",
   "execution_count": 50,
   "metadata": {},
   "outputs": [
    {
     "data": {
      "text/plain": [
       "{'st_name': 'kiran',\n",
       " 'st_number': 987967543,\n",
       " 'count': <bound method school.count of <class '__main__.school'>>,\n",
       " 'st_roll': 1}"
      ]
     },
     "execution_count": 50,
     "metadata": {},
     "output_type": "execute_result"
    }
   ],
   "source": [
    "kiran.__dict__"
   ]
  },
  {
   "cell_type": "code",
   "execution_count": 48,
   "metadata": {},
   "outputs": [
    {
     "name": "stdout",
     "output_type": "stream",
     "text": [
      "2\n",
      "{'name': 'imrn', 'phone': 2234555, 'section': 3, 'stu_id': 1}\n",
      "{'name': 'khan', 'phone': 1234555, 'section': 7, 'stu_id': 2}\n"
     ]
    }
   ],
   "source": [
    "class schooll:\n",
    "    s_name='sai'\n",
    "    address='hyd'\n",
    "    no_of_stu=0\n",
    "    stu_dic={}\n",
    "    def __init__(self,name,phone,section):\n",
    "        self.name=name\n",
    "        self.phone=phone\n",
    "        self.section=section\n",
    "        schooll.no_of_stu=schooll.no_of_stu+1\n",
    "        self.stu_id=0+schooll.no_of_stu\n",
    "        self.add(self.stu_id,self)\n",
    "    \n",
    "    @classmethod\n",
    "    def add(cls,id,objj):\n",
    "        cls.stu_dic[id]=objj\n",
    "obj=schooll('imrn',2234555,3)\n",
    "obj2=schooll('khan',1234555,7)\n",
    "print(schooll.no_of_stu)\n",
    "schooll.stu_dic\n",
    "print(obj.__dict__)\n",
    "print(obj2.__dict__)"
   ]
  },
  {
   "cell_type": "code",
   "execution_count": 1,
   "metadata": {},
   "outputs": [
    {
     "ename": "SyntaxError",
     "evalue": "invalid syntax (701104787.py, line 9)",
     "output_type": "error",
     "traceback": [
      "\u001b[1;36m  Cell \u001b[1;32mIn[1], line 9\u001b[1;36m\u001b[0m\n\u001b[1;33m    schol.id=self.id+\u001b[0m\n\u001b[1;37m                     ^\u001b[0m\n\u001b[1;31mSyntaxError\u001b[0m\u001b[1;31m:\u001b[0m invalid syntax\n"
     ]
    }
   ],
   "source": [
    "class schol:\n",
    "    s_name='vikas'\n",
    "    s_address='hyd'\n",
    "    count=0\n",
    "    s_id=0\n",
    "    def __init__(self,name,phone):\n",
    "        self.name=name\n",
    "        self.phone=phone\n",
    "        schol.id=self.id+\n",
    "\n",
    "\n",
    "  \n"
   ]
  },
  {
   "cell_type": "code",
   "execution_count": 1,
   "metadata": {},
   "outputs": [
    {
     "name": "stdout",
     "output_type": "stream",
     "text": [
      "8\n"
     ]
    }
   ],
   "source": [
    "class schoo:\n",
    "    s_name='vikas'\n",
    "    s_phone=879654323\n",
    "    count=0\n",
    "    def __init__(self,name,clas):\n",
    "        self.name=name\n",
    "        self.clas=clas\n",
    "        self.rol=schoo.count+1\n",
    "        schoo.count=schoo.count+1\n",
    "        \n",
    "\n",
    "# @classmethod\n",
    "# def count_inc(cls):\n",
    "#     count+=1\n",
    "        \n",
    "sai=schoo('sai','5th')\n",
    "saii=schoo('sai','5th')\n",
    "sas=schoo('sai','5th')\n",
    "saa=schoo('sai','5th')\n",
    "saa=schoo('sai','5th')\n",
    "sa=schoo('sai','5th')\n",
    "saq=schoo('sai','5th')\n",
    "sa3=schoo('sai','5th')\n",
    "print(schoo.count)\n",
    "\n",
    "\n"
   ]
  },
  {
   "cell_type": "code",
   "execution_count": 2,
   "metadata": {},
   "outputs": [
    {
     "data": {
      "text/plain": [
       "{'name': 'sai', 'clas': '5th', 'rol': 1}"
      ]
     },
     "execution_count": 2,
     "metadata": {},
     "output_type": "execute_result"
    }
   ],
   "source": [
    "sai.__dict__"
   ]
  },
  {
   "cell_type": "code",
   "execution_count": 4,
   "metadata": {},
   "outputs": [
    {
     "name": "stdout",
     "output_type": "stream",
     "text": [
      "4\n"
     ]
    }
   ],
   "source": [
    "class demo:\n",
    "    count=0\n",
    "    def __init__(self,name,age):\n",
    "        self.name=name\n",
    "        self.age=age\n",
    "        self.coun=demo.count+1\n",
    "        demo.count=demo.count+1\n",
    "_1=demo('sai',12) \n",
    "_2=demo('sai',12)\n",
    "_3=demo('sai',12)\n",
    "_4=demo('sai',12)\n",
    "\n",
    "print(demo.count)\n",
    "\n",
    "\n",
    "\n",
    "\n"
   ]
  },
  {
   "cell_type": "code",
   "execution_count": 5,
   "metadata": {},
   "outputs": [
    {
     "data": {
      "text/plain": [
       "{'name': 'sai', 'age': 12, 'coun': 4}"
      ]
     },
     "execution_count": 5,
     "metadata": {},
     "output_type": "execute_result"
    }
   ],
   "source": [
    "_4.__dict__"
   ]
  },
  {
   "cell_type": "code",
   "execution_count": null,
   "metadata": {},
   "outputs": [],
   "source": []
  },
  {
   "cell_type": "code",
   "execution_count": null,
   "metadata": {},
   "outputs": [],
   "source": []
  }
 ],
 "metadata": {
  "kernelspec": {
   "display_name": "Python 3",
   "language": "python",
   "name": "python3"
  },
  "language_info": {
   "codemirror_mode": {
    "name": "ipython",
    "version": 3
   },
   "file_extension": ".py",
   "mimetype": "text/x-python",
   "name": "python",
   "nbconvert_exporter": "python",
   "pygments_lexer": "ipython3",
   "version": "3.11.4"
  }
 },
 "nbformat": 4,
 "nbformat_minor": 2
}
