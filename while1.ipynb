{
 "cells": [
  {
   "cell_type": "code",
   "execution_count": 2,
   "metadata": {},
   "outputs": [
    {
     "name": "stdout",
     "output_type": "stream",
     "text": [
      "1\n",
      "2\n",
      "3\n",
      "4\n",
      "5\n",
      "6\n",
      "7\n",
      "8\n",
      "9\n",
      "10\n"
     ]
    }
   ],
   "source": [
    "a=1\n",
    "while a<=10:\n",
    "    print(a)\n",
    "    a+=1"
   ]
  },
  {
   "cell_type": "code",
   "execution_count": 5,
   "metadata": {},
   "outputs": [
    {
     "name": "stdout",
     "output_type": "stream",
     "text": [
      "2\n",
      "4\n",
      "6\n",
      "8\n",
      "10\n",
      "12\n",
      "14\n",
      "16\n",
      "18\n",
      "20\n"
     ]
    }
   ],
   "source": [
    "a=2\n",
    "while a<=21:\n",
    "    print(a)\n",
    "    a+=2\n"
   ]
  },
  {
   "cell_type": "code",
   "execution_count": 6,
   "metadata": {},
   "outputs": [
    {
     "name": "stdout",
     "output_type": "stream",
     "text": [
      "2\n",
      "4\n",
      "6\n",
      "8\n",
      "10\n"
     ]
    }
   ],
   "source": [
    "a=1\n",
    "while a<=10:\n",
    "    if a%2==0:\n",
    "        print(a)\n",
    "    a+=1"
   ]
  },
  {
   "cell_type": "code",
   "execution_count": 17,
   "metadata": {},
   "outputs": [
    {
     "name": "stdout",
     "output_type": "stream",
     "text": [
      "24\n"
     ]
    }
   ],
   "source": [
    "a=0\n",
    "b=int(input())\n",
    "c=1\n",
    "while a<b:\n",
    "    a+=1\n",
    "    c*=a\n",
    "print(c)\n"
   ]
  },
  {
   "cell_type": "code",
   "execution_count": 5,
   "metadata": {},
   "outputs": [
    {
     "name": "stdout",
     "output_type": "stream",
     "text": [
      "1\n",
      "2\n",
      "3\n",
      "6\n"
     ]
    }
   ],
   "source": [
    "a=1\n",
    "b=6\n",
    "while a<=b:\n",
    "    if b%a==0:\n",
    "        print(a)\n",
    "    a+=1"
   ]
  },
  {
   "cell_type": "code",
   "execution_count": 47,
   "metadata": {},
   "outputs": [
    {
     "name": "stdout",
     "output_type": "stream",
     "text": [
      "9\n"
     ]
    }
   ],
   "source": [
    "a=847971\n",
    "res=0\n",
    "while a:\n",
    "    ld=a%10\n",
    "    if res<ld:\n",
    "        res=ld\n",
    "    a=a//10\n",
    "print(res)\n",
    "\n"
   ]
  },
  {
   "cell_type": "code",
   "execution_count": 59,
   "metadata": {},
   "outputs": [
    {
     "name": "stdout",
     "output_type": "stream",
     "text": [
      "1\n"
     ]
    }
   ],
   "source": [
    "a=547654761\n",
    "res=9\n",
    "while a:\n",
    "    ld =a%10\n",
    "    if ld<res:\n",
    "        res=ld\n",
    "    a=a//10\n",
    "print(res)"
   ]
  },
  {
   "cell_type": "code",
   "execution_count": 75,
   "metadata": {},
   "outputs": [
    {
     "name": "stdout",
     "output_type": "stream",
     "text": [
      "8\n"
     ]
    }
   ],
   "source": [
    "a=98746\n",
    "res=0\n",
    "while a:\n",
    "    ld=a%10\n",
    "    if ld%2==0:\n",
    "        if res<ld:\n",
    "            res=ld\n",
    "    a=a//10\n",
    "print(res)"
   ]
  },
  {
   "cell_type": "code",
   "execution_count": 76,
   "metadata": {},
   "outputs": [
    {
     "name": "stdout",
     "output_type": "stream",
     "text": [
      "45\n"
     ]
    }
   ],
   "source": [
    "a=123456789\n",
    "sum=0\n",
    "while a:\n",
    "    ld=a%10\n",
    "    sum=sum+ld\n",
    "    a=a//10\n",
    "print(sum)"
   ]
  },
  {
   "cell_type": "code",
   "execution_count": 77,
   "metadata": {},
   "outputs": [
    {
     "name": "stdout",
     "output_type": "stream",
     "text": [
      "120\n"
     ]
    }
   ],
   "source": [
    "a=12345\n",
    "pro=1\n",
    "while a:\n",
    "    ld=a%10\n",
    "    pro*=ld\n",
    "    a=a//10\n",
    "print(pro)\n"
   ]
  },
  {
   "cell_type": "code",
   "execution_count": 78,
   "metadata": {},
   "outputs": [
    {
     "name": "stdout",
     "output_type": "stream",
     "text": [
      "6\n",
      "8\n",
      "4\n",
      "6\n"
     ]
    }
   ],
   "source": [
    "a=65419386\n",
    "while a:\n",
    "    ld=a%10\n",
    "    if ld%2==0:\n",
    "        print(ld)\n",
    "    a=a//10\n"
   ]
  },
  {
   "cell_type": "code",
   "execution_count": 83,
   "metadata": {},
   "outputs": [
    {
     "name": "stdout",
     "output_type": "stream",
     "text": [
      "16\n"
     ]
    }
   ],
   "source": [
    "a=1357246\n",
    "sum=0\n",
    "while a:\n",
    "    ld=a%10\n",
    "    if a%2==1:\n",
    "        sum=sum+ld\n",
    "    a=a//10\n",
    "print(sum)\n",
    "\n"
   ]
  },
  {
   "cell_type": "code",
   "execution_count": 87,
   "metadata": {},
   "outputs": [
    {
     "name": "stdout",
     "output_type": "stream",
     "text": [
      "5050\n"
     ]
    }
   ],
   "source": [
    "a=1\n",
    "b=int(input())\n",
    "sum=0\n",
    "while a<=b:\n",
    "    sum=sum+a\n",
    "    a+=1\n",
    "print(sum)\n"
   ]
  },
  {
   "cell_type": "code",
   "execution_count": 90,
   "metadata": {},
   "outputs": [
    {
     "name": "stdout",
     "output_type": "stream",
     "text": [
      "30414093201713378043612608166064768844377641568960512000000000000\n"
     ]
    }
   ],
   "source": [
    "a=1\n",
    "b=50\n",
    "pro=1\n",
    "while a<=b:\n",
    "    pro*=a\n",
    "    a+=1\n",
    "print(pro)\n"
   ]
  },
  {
   "cell_type": "code",
   "execution_count": 1,
   "metadata": {},
   "outputs": [],
   "source": [
    "# a=4\n",
    "# b=1\n",
    "# while a:\n",
    "#     if b%a==0:\n",
    "#         print('prime',a)\n",
    "#     else:\n",
    "#         print('not',a)          \n",
    "#     b+=1"
   ]
  },
  {
   "cell_type": "code",
   "execution_count": 15,
   "metadata": {},
   "outputs": [
    {
     "name": "stdout",
     "output_type": "stream",
     "text": [
      "1\n",
      "2\n",
      "4\n",
      "5\n",
      "10\n",
      "20\n",
      "25\n",
      "50\n",
      "100\n"
     ]
    }
   ],
   "source": [
    "a=100\n",
    "b=1\n",
    "while b:\n",
    "    if a%b==0:\n",
    "        print(b)\n",
    "        if b==a:\n",
    "            break\n",
    "    \n",
    "    b+=1\n",
    "\n",
    "\n"
   ]
  },
  {
   "cell_type": "code",
   "execution_count": 28,
   "metadata": {},
   "outputs": [
    {
     "name": "stdout",
     "output_type": "stream",
     "text": [
      "4\n"
     ]
    }
   ],
   "source": [
    "a=6\n",
    "b=1\n",
    "count=0\n",
    "while b:\n",
    "    if a%b==0:\n",
    "        count+=1\n",
    "        # print(count)\n",
    "        if a==b:\n",
    "            break\n",
    "    b+=1\n",
    "print(count)"
   ]
  },
  {
   "cell_type": "code",
   "execution_count": 31,
   "metadata": {},
   "outputs": [
    {
     "name": "stdout",
     "output_type": "stream",
     "text": [
      "217\n"
     ]
    }
   ],
   "source": [
    "a=100\n",
    "b=1\n",
    "sum=0\n",
    "while b:\n",
    "    if a%b==0:\n",
    "        sum+=b\n",
    "        if a==b:\n",
    "            break\n",
    "    b+=1\n",
    "print(sum)"
   ]
  },
  {
   "cell_type": "code",
   "execution_count": 34,
   "metadata": {},
   "outputs": [
    {
     "name": "stdout",
     "output_type": "stream",
     "text": [
      "45\n"
     ]
    }
   ],
   "source": [
    "a=123456789\n",
    "sum=0\n",
    "while a:\n",
    "    ld=a%10\n",
    "    sum+=ld\n",
    "    a//=10\n",
    "print(sum)\n",
    "\n",
    "\n"
   ]
  },
  {
   "cell_type": "code",
   "execution_count": 45,
   "metadata": {},
   "outputs": [
    {
     "name": "stdout",
     "output_type": "stream",
     "text": [
      "perfect number\n"
     ]
    }
   ],
   "source": [
    "a=8128\n",
    "b=1\n",
    "sum=0\n",
    "while b<a:\n",
    "    if a%b==0:\n",
    "        sum+=b\n",
    "        print(b)\n",
    "        if sum==a:\n",
    "            print('perfect number')\n",
    "            if a==b:\n",
    "                break\n",
    "\n",
    "    b+=1\n"
   ]
  },
  {
   "cell_type": "code",
   "execution_count": 48,
   "metadata": {},
   "outputs": [
    {
     "name": "stdout",
     "output_type": "stream",
     "text": [
      "0\n",
      "1\n",
      "2\n",
      "3\n",
      "4\n",
      "5\n",
      "6\n",
      "7\n",
      "8\n",
      "9\n",
      "10\n"
     ]
    }
   ],
   "source": [
    "a=0\n",
    "b=10\n",
    "sum=0\n",
    "while a<=b:\n",
    "    print(a)\n",
    "    a+=1\n"
   ]
  },
  {
   "cell_type": "code",
   "execution_count": 75,
   "metadata": {},
   "outputs": [
    {
     "name": "stdout",
     "output_type": "stream",
     "text": [
      "not\n"
     ]
    }
   ],
   "source": [
    "a=13231732\n",
    "rev=0\n",
    "temp=a\n",
    "ld=0\n",
    "while a:\n",
    "    ld=a%10\n",
    "    rev=(rev*10)+ld\n",
    "    a//=10\n",
    "if rev==temp:\n",
    "    print('palindrom')\n",
    "else:\n",
    "    print('not')\n",
    "   \n",
    "\n"
   ]
  },
  {
   "cell_type": "code",
   "execution_count": 78,
   "metadata": {},
   "outputs": [
    {
     "name": "stdout",
     "output_type": "stream",
     "text": [
      "563128\n"
     ]
    }
   ],
   "source": [
    "a=821365\n",
    "rev=0\n",
    "while a:\n",
    "    ld=a%10\n",
    "    rev=(rev*10)+ld\n",
    "    a=a//10\n",
    "print(rev)\n"
   ]
  },
  {
   "cell_type": "code",
   "execution_count": 9,
   "metadata": {},
   "outputs": [
    {
     "name": "stdout",
     "output_type": "stream",
     "text": [
      "3\n",
      "190\n",
      "not\n"
     ]
    }
   ],
   "source": [
    "a=145\n",
    "b=a\n",
    "c=a\n",
    "sum=0\n",
    "count=0\n",
    "while a:\n",
    "    count+=1\n",
    "    a//=10\n",
    "print(count)\n",
    "while b:\n",
    "    ld=b%10\n",
    "    ld**=count\n",
    "    sum+=ld\n",
    "    b//=10\n",
    "print(sum)\n",
    "if sum==c:\n",
    "    print('strong number')\n",
    "else:\n",
    "    print('not')\n",
    "\n",
    "\n",
    "\n"
   ]
  },
  {
   "cell_type": "code",
   "execution_count": 52,
   "metadata": {},
   "outputs": [
    {
     "name": "stdout",
     "output_type": "stream",
     "text": [
      "12\n"
     ]
    }
   ],
   "source": [
    "a=123457578612\n",
    "count=0\n",
    "while a:\n",
    "    count+=1\n",
    "    a//=10\n",
    "print(count)"
   ]
  },
  {
   "cell_type": "code",
   "execution_count": 60,
   "metadata": {},
   "outputs": [
    {
     "name": "stdout",
     "output_type": "stream",
     "text": [
      "spy number\n"
     ]
    }
   ],
   "source": [
    "a=1124\n",
    "b=a\n",
    "p=1\n",
    "sum=0\n",
    "while a:\n",
    "    ld=a%10\n",
    "    sum+=ld\n",
    "    p*=ld\n",
    "    a//=10\n",
    "# print(sum)\n",
    "# while b:\n",
    "#     ld=b%10\n",
    "#     p*=ld\n",
    "#     b//=10\n",
    "# print(p)\n",
    "if sum==p:\n",
    "    print('spy number')\n",
    "else:\n",
    "    print('not')\n"
   ]
  },
  {
   "cell_type": "code",
   "execution_count": 93,
   "metadata": {},
   "outputs": [
    {
     "name": "stdout",
     "output_type": "stream",
     "text": [
      "1 => 1\n",
      "2 => 2\n",
      "3 => 6\n",
      "4 => 24\n",
      "5 => 120\n",
      "6 => 720\n"
     ]
    }
   ],
   "source": [
    "a=1\n",
    "b=6\n",
    "fac=1\n",
    "while a<=b:\n",
    "    print( a,'=>',fac)\n",
    "    a+=1\n",
    "    fac*=a\n",
    "\n",
    "\n",
    "\n",
    "    "
   ]
  },
  {
   "cell_type": "code",
   "execution_count": 84,
   "metadata": {},
   "outputs": [
    {
     "name": "stdout",
     "output_type": "stream",
     "text": [
      "1 => 1\n",
      "2 => 2\n",
      "3 => 6\n",
      "4 => 24\n",
      "5 => 120\n"
     ]
    }
   ],
   "source": [
    "a=1\n",
    "b=5\n",
    "while a<=b:\n",
    "    x=1\n",
    "    y=a\n",
    "    fact=1\n",
    "    while x<=y:\n",
    "        fact*=x\n",
    "        x+=1\n",
    "    print(a,'=>',fact)\n",
    "    a+=1"
   ]
  },
  {
   "cell_type": "code",
   "execution_count": 128,
   "metadata": {},
   "outputs": [
    {
     "name": "stdout",
     "output_type": "stream",
     "text": [
      "2\n",
      "prime\n"
     ]
    }
   ],
   "source": [
    "a=1\n",
    "b=7\n",
    "count=0\n",
    "while a<=b:\n",
    "    if b%a==0:\n",
    "        count+=1\n",
    "    a+=1\n",
    "print(count)\n",
    "if count==2:\n",
    "    print('prime')\n",
    "else:\n",
    "    print('not')"
   ]
  },
  {
   "cell_type": "code",
   "execution_count": 2,
   "metadata": {},
   "outputs": [],
   "source": [
    "# a=1\n",
    "# b=10\n",
    "# sum=0\n",
    "# p=1\n",
    "# count=0\n",
    "# while a<=b:\n",
    "#     while count:\n",
    "#         ld=a%10\n",
    "#         count+=1\n",
    "#         a//=10\n",
    "#     print(a,'=',count)\n",
    "#     a+=1\n",
    "\n",
    "\n"
   ]
  },
  {
   "cell_type": "code",
   "execution_count": 5,
   "metadata": {},
   "outputs": [
    {
     "name": "stdout",
     "output_type": "stream",
     "text": [
      "3\n",
      "1\n"
     ]
    }
   ],
   "source": [
    "# a=145\n",
    "# b=a\n",
    "# count=0\n",
    "# sum=0\n",
    "# p=1\n",
    "# while a:\n",
    "#     count+=1\n",
    "#     a//=10\n",
    "# print(count)\n",
    "# while b:\n",
    "#     ld=b%10\n",
    "#     # ld**=count\n",
    "#     sum=ld**count\n",
    "#     b//=10\n",
    "# print(sum)\n",
    "    \n",
    "\n",
    "\n"
   ]
  },
  {
   "cell_type": "code",
   "execution_count": 1,
   "metadata": {},
   "outputs": [],
   "source": [
    "# a=1\n",
    "# b=100\n",
    "# sum=0\n",
    "# temp=a\n",
    "# pro=1\n",
    "# while a<=b:\n",
    "#     while temp:\n",
    "#         ld=temp%10\n",
    "#         sum+=ld\n",
    "#         pro*=ld\n",
    "#         print(temp)\n",
    "#     temp+=1\n",
    "    \n",
    "\n"
   ]
  },
  {
   "cell_type": "code",
   "execution_count": 30,
   "metadata": {},
   "outputs": [
    {
     "name": "stdout",
     "output_type": "stream",
     "text": [
      "palindrom\n"
     ]
    }
   ],
   "source": [
    "a=12321\n",
    "b=a\n",
    "rev=0\n",
    "while a:\n",
    "    ld=a%10\n",
    "    rev=(rev*10)+ld\n",
    "    a//=10\n",
    "# print(rev)\n",
    "if b==rev:\n",
    "    print('palindrom')\n",
    "else:\n",
    "    print('not a palindrom')\n",
    "\n"
   ]
  },
  {
   "cell_type": "code",
   "execution_count": 53,
   "metadata": {},
   "outputs": [
    {
     "name": "stdout",
     "output_type": "stream",
     "text": [
      "6\n"
     ]
    }
   ],
   "source": [
    "a=234167874\n",
    "b=str(a)\n",
    "print(b[len(b)//2])\n",
    "    "
   ]
  },
  {
   "cell_type": "code",
   "execution_count": 69,
   "metadata": {},
   "outputs": [
    {
     "name": "stdout",
     "output_type": "stream",
     "text": [
      "4\n",
      "3\n",
      "2\n",
      "1\n"
     ]
    }
   ],
   "source": [
    "a=1234\n",
    "b=str(a)[::-1]\n",
    "i=0\n",
    "while i<len(b):\n",
    "    print(b[i])\n",
    "    i+=1\n"
   ]
  },
  {
   "cell_type": "code",
   "execution_count": 1,
   "metadata": {},
   "outputs": [
    {
     "name": "stdout",
     "output_type": "stream",
     "text": [
      "9\n"
     ]
    }
   ],
   "source": [
    "a=8123945677\n",
    "b=0\n",
    "while a:\n",
    "    ld=a%10\n",
    "    if b<ld:\n",
    "        b=ld\n",
    "    a//=10\n",
    "print(b)"
   ]
  },
  {
   "cell_type": "code",
   "execution_count": 3,
   "metadata": {},
   "outputs": [
    {
     "name": "stdout",
     "output_type": "stream",
     "text": [
      "0\n"
     ]
    }
   ],
   "source": [
    "a=7083214\n",
    "b=9\n",
    "while a:\n",
    "    ld=a%10\n",
    "    if ld<b:\n",
    "        b=ld\n",
    "    a//=10\n",
    "print(b)\n"
   ]
  },
  {
   "cell_type": "code",
   "execution_count": 7,
   "metadata": {},
   "outputs": [
    {
     "name": "stdout",
     "output_type": "stream",
     "text": [
      "8\n"
     ]
    }
   ],
   "source": [
    "a=28635\n",
    "b=0\n",
    "while a:\n",
    "    ld=a%10\n",
    "    if b<ld and ld%2==0:\n",
    "        b=ld\n",
    "    a//=10\n",
    "print(b)"
   ]
  },
  {
   "cell_type": "code",
   "execution_count": 8,
   "metadata": {},
   "outputs": [
    {
     "name": "stdout",
     "output_type": "stream",
     "text": [
      "45\n"
     ]
    }
   ],
   "source": [
    "a=123456789\n",
    "sum=0\n",
    "while a:\n",
    "    ld=a%10\n",
    "    sum+=ld\n",
    "    a//=10\n",
    "print(sum)"
   ]
  },
  {
   "cell_type": "code",
   "execution_count": 9,
   "metadata": {},
   "outputs": [
    {
     "name": "stdout",
     "output_type": "stream",
     "text": [
      "120\n"
     ]
    }
   ],
   "source": [
    "a=12345\n",
    "pro=1\n",
    "while a:\n",
    "    ld=a%10\n",
    "    pro*=ld\n",
    "    a//=10\n",
    "print(pro)"
   ]
  },
  {
   "cell_type": "code",
   "execution_count": 12,
   "metadata": {},
   "outputs": [
    {
     "name": "stdout",
     "output_type": "stream",
     "text": [
      "-15\n"
     ]
    }
   ],
   "source": [
    "a=12345\n",
    "dif=0\n",
    "while a:\n",
    "    ld=a%10\n",
    "    dif-=ld\n",
    "    a//=10\n",
    "print(dif)"
   ]
  },
  {
   "cell_type": "code",
   "execution_count": 28,
   "metadata": {},
   "outputs": [
    {
     "name": "stdout",
     "output_type": "stream",
     "text": [
      "9\n"
     ]
    }
   ],
   "source": [
    "a=28649\n",
    "b=0\n",
    "while a:\n",
    "    ld=a%10\n",
    "    if ld%2!=0:\n",
    "        b=ld\n",
    "    a//=10\n",
    "print(b)\n"
   ]
  },
  {
   "cell_type": "code",
   "execution_count": 59,
   "metadata": {},
   "outputs": [
    {
     "name": "stdout",
     "output_type": "stream",
     "text": [
      "2\n",
      "prime\n"
     ]
    }
   ],
   "source": [
    "a=1\n",
    "b=23\n",
    "count=0\n",
    "while a<=b:\n",
    "    if b%a==0:\n",
    "        count+=1\n",
    "    a+=1\n",
    "print(count)\n",
    "if count==2:\n",
    "    print('prime')\n",
    "else:\n",
    "    print('not prime')\n",
    "\n",
    "\n"
   ]
  },
  {
   "cell_type": "code",
   "execution_count": 60,
   "metadata": {},
   "outputs": [
    {
     "name": "stdout",
     "output_type": "stream",
     "text": [
      "7\n"
     ]
    }
   ],
   "source": [
    "a=6\n",
    "b=1\n",
    "fac=0\n",
    "while b<=a:\n",
    "    if a%b==0:\n",
    "        fac=b\n",
    "    b+=1\n",
    "print(b)\n",
    "\n",
    "\n"
   ]
  },
  {
   "cell_type": "code",
   "execution_count": null,
   "metadata": {},
   "outputs": [
    {
     "name": "stdout",
     "output_type": "stream",
     "text": [
      "120\n"
     ]
    }
   ],
   "source": [
    "a=5\n",
    "b=1\n",
    "while a:\n",
    "    b*=a\n",
    "    a-=1\n",
    "print(b)"
   ]
  },
  {
   "cell_type": "code",
   "execution_count": 1,
   "metadata": {},
   "outputs": [],
   "source": [
    "# a=145\n",
    "# pro=1\n",
    "# sum=0\n",
    "# while a:\n",
    "#     ld=a%10\n",
    "#     i=1\n",
    "#     while i<=ld:\n",
    "#         pro*=i\n",
    "#         sum+=pro\n",
    "#         i+=1\n",
    "# a//=10\n",
    "# print(sum)\n"
   ]
  },
  {
   "cell_type": "code",
   "execution_count": 19,
   "metadata": {},
   "outputs": [
    {
     "name": "stdout",
     "output_type": "stream",
     "text": [
      "1\n",
      "2\n",
      "5\n",
      "10\n"
     ]
    }
   ],
   "source": [
    "a=10\n",
    "b=1\n",
    "while b<=a:\n",
    "    if a%b==0:\n",
    "        print(b)\n",
    "    b+=1"
   ]
  },
  {
   "cell_type": "code",
   "execution_count": 1,
   "metadata": {},
   "outputs": [
    {
     "name": "stdout",
     "output_type": "stream",
     "text": [
      "prime\n"
     ]
    }
   ],
   "source": [
    "a=11\n",
    "b=1\n",
    "count=0\n",
    "while b<=a:\n",
    "    if a%b==0:\n",
    "        count+=1\n",
    "    b+=1\n",
    "if count==2:\n",
    "    print('prime')\n",
    "else:\n",
    "    print ('not')\n",
    "   "
   ]
  },
  {
   "cell_type": "code",
   "execution_count": 2,
   "metadata": {},
   "outputs": [
    {
     "ename": "KeyboardInterrupt",
     "evalue": "",
     "output_type": "error",
     "traceback": [
      "\u001b[1;31m---------------------------------------------------------------------------\u001b[0m",
      "\u001b[1;31mKeyboardInterrupt\u001b[0m                         Traceback (most recent call last)",
      "\u001b[1;32mc:\\Users\\saisw\\Documents\\GitHub\\saiswasthik.python\\while1.ipynb Cell 49\u001b[0m line \u001b[0;36m4\n\u001b[0;32m      <a href='vscode-notebook-cell:/c%3A/Users/saisw/Documents/GitHub/saiswasthik.python/while1.ipynb#X66sZmlsZQ%3D%3D?line=1'>2</a>\u001b[0m b\u001b[39m=\u001b[39m\u001b[39m10\u001b[39m\n\u001b[0;32m      <a href='vscode-notebook-cell:/c%3A/Users/saisw/Documents/GitHub/saiswasthik.python/while1.ipynb#X66sZmlsZQ%3D%3D?line=2'>3</a>\u001b[0m count\u001b[39m=\u001b[39m\u001b[39m0\u001b[39m\n\u001b[1;32m----> <a href='vscode-notebook-cell:/c%3A/Users/saisw/Documents/GitHub/saiswasthik.python/while1.ipynb#X66sZmlsZQ%3D%3D?line=3'>4</a>\u001b[0m \u001b[39mwhile\u001b[39;00m a\u001b[39m<\u001b[39m\u001b[39m=\u001b[39mb:\n\u001b[0;32m      <a href='vscode-notebook-cell:/c%3A/Users/saisw/Documents/GitHub/saiswasthik.python/while1.ipynb#X66sZmlsZQ%3D%3D?line=4'>5</a>\u001b[0m     \u001b[39mif\u001b[39;00m a\u001b[39m%\u001b[39mb\u001b[39m==\u001b[39m\u001b[39m0\u001b[39m:\n\u001b[0;32m      <a href='vscode-notebook-cell:/c%3A/Users/saisw/Documents/GitHub/saiswasthik.python/while1.ipynb#X66sZmlsZQ%3D%3D?line=5'>6</a>\u001b[0m         count\u001b[39m+\u001b[39m\u001b[39m=\u001b[39m\u001b[39m1\u001b[39m\n",
      "\u001b[1;31mKeyboardInterrupt\u001b[0m: "
     ]
    }
   ],
   "source": [
    "a=1\n",
    "b=15\n",
    "count=0\n",
    "while a<=b:\n",
    "    if a%b==0:\n",
    "        count+=1\n",
    "        a+=1\n",
    "    b+=1\n",
    "print(a)\n"
   ]
  },
  {
   "cell_type": "code",
   "execution_count": 8,
   "metadata": {},
   "outputs": [
    {
     "name": "stdout",
     "output_type": "stream",
     "text": [
      "not\n",
      "prime\n",
      "not\n",
      "not\n",
      "not\n"
     ]
    }
   ],
   "source": [
    "num=int(input())\n",
    "count=0\n",
    "for i in range(1,num):\n",
    "    if num%i==0:\n",
    "        count+=1\n",
    "        if count==2:\n",
    "            print('prime')\n",
    "        else:\n",
    "            print('not')\n"
   ]
  },
  {
   "cell_type": "code",
   "execution_count": null,
   "metadata": {},
   "outputs": [],
   "source": []
  }
 ],
 "metadata": {
  "kernelspec": {
   "display_name": "Python 3",
   "language": "python",
   "name": "python3"
  },
  "language_info": {
   "codemirror_mode": {
    "name": "ipython",
    "version": 3
   },
   "file_extension": ".py",
   "mimetype": "text/x-python",
   "name": "python",
   "nbconvert_exporter": "python",
   "pygments_lexer": "ipython3",
   "version": "3.11.4"
  },
  "orig_nbformat": 4
 },
 "nbformat": 4,
 "nbformat_minor": 2
}
