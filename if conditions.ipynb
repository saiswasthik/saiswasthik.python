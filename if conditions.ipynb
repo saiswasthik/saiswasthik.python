{
 "cells": [
  {
   "cell_type": "code",
   "execution_count": 13,
   "metadata": {},
   "outputs": [
    {
     "name": "stdout",
     "output_type": "stream",
     "text": [
      "positive\n"
     ]
    }
   ],
   "source": [
    "#1WAP to check whether a number is positive. If Positive, print a message Positive.\n",
    "a=10\n",
    "if a>=0:\n",
    "    print('positive')\n"
   ]
  },
  {
   "cell_type": "code",
   "execution_count": 14,
   "metadata": {},
   "outputs": [
    {
     "name": "stdout",
     "output_type": "stream",
     "text": [
      "helloworld\n"
     ]
    }
   ],
   "source": [
    "#2WAP to display hello world if the number is greater than 1 and lesser than 5\n",
    "a=4\n",
    "if a<5 and a>1:\n",
    "    print('helloworld')"
   ]
  },
  {
   "cell_type": "code",
   "execution_count": 15,
   "metadata": {},
   "outputs": [
    {
     "name": "stdout",
     "output_type": "stream",
     "text": [
      "fizz\n"
     ]
    }
   ],
   "source": [
    "#3WAP to check whether the given number is divisible by 3 or not if print fizz.\n",
    "a=30\n",
    "if a%3==0:\n",
    "    print('fizz')"
   ]
  },
  {
   "cell_type": "code",
   "execution_count": 16,
   "metadata": {},
   "outputs": [
    {
     "name": "stdout",
     "output_type": "stream",
     "text": [
      "(30+0j)\n"
     ]
    }
   ],
   "source": [
    "#4WAP to check whether given input is divisible by 2 and 6. If the condition is \n",
    "#satisfied, convert the given number into a complex number.\n",
    "a=30\n",
    "if a%2==0 and a%6==0:\n",
    "    complex(a)\n",
    "    print(complex(a))"
   ]
  },
  {
   "cell_type": "code",
   "execution_count": 25,
   "metadata": {},
   "outputs": [
    {
     "name": "stdout",
     "output_type": "stream",
     "text": [
      "['3', '0']\n"
     ]
    }
   ],
   "source": [
    "#5WAP to check whether a given input is divisible by 3 or 5. If the condition is \n",
    "#satisfied, the number is converted to a list.\n",
    "#i/p: 30\n",
    "#o/p:[‘3’,’0’]\n",
    "a=30\n",
    "if a%3==0 or a%5==0 :\n",
    "    print(list(str((a))))"
   ]
  },
  {
   "cell_type": "code",
   "execution_count": 27,
   "metadata": {},
   "outputs": [],
   "source": [
    "#6Write a program to check whether a given number is multiple of 5 or not\n",
    "a=30\n",
    "if a%5==0:\n",
    "    print('divisible by 5')"
   ]
  },
  {
   "cell_type": "code",
   "execution_count": 28,
   "metadata": {},
   "outputs": [
    {
     "name": "stdout",
     "output_type": "stream",
     "text": [
      "0\n"
     ]
    }
   ],
   "source": [
    "#7WAP to check whether the given input is 0 or not if 0 prints 0.\n",
    "a=0\n",
    "if a==0:\n",
    "    print(a)"
   ]
  },
  {
   "cell_type": "code",
   "execution_count": 29,
   "metadata": {},
   "outputs": [
    {
     "name": "stdout",
     "output_type": "stream",
     "text": [
      "negative\n"
     ]
    }
   ],
   "source": [
    "#8WAP to check whether a number is negative. If negative, print a message \n",
    "#negative.\n",
    "a=-3\n",
    "if a<0:\n",
    "    print('negative')"
   ]
  },
  {
   "cell_type": "code",
   "execution_count": 33,
   "metadata": {},
   "outputs": [
    {
     "name": "stdout",
     "output_type": "stream",
     "text": [
      "['3', '0']\n"
     ]
    }
   ],
   "source": [
    "#9WAP to check whether a number is even or not. If even, store the value inside \n",
    "#the list.\n",
    "a=30\n",
    "if a%2==0:\n",
    "    print(list( str(a)))\n",
    "\n"
   ]
  },
  {
   "cell_type": "code",
   "execution_count": 34,
   "metadata": {},
   "outputs": [
    {
     "name": "stdout",
     "output_type": "stream",
     "text": [
      "('1', '1')\n"
     ]
    }
   ],
   "source": [
    "#10WAP to check whether a number is even or not. If even, store the value inside \n",
    "#the list.\n",
    "a=11\n",
    "if a%2==1:\n",
    "    print(tuple(str(a)))"
   ]
  },
  {
   "cell_type": "code",
   "execution_count": 36,
   "metadata": {},
   "outputs": [
    {
     "name": "stdout",
     "output_type": "stream",
     "text": [
      "256\n"
     ]
    }
   ],
   "source": [
    "#11WAP to check if the given number is even or not. if it is yes, to print the power of \n",
    "#4 in a given number.\n",
    "a=4\n",
    "if a%2==0:\n",
    "    print(a**4)"
   ]
  },
  {
   "cell_type": "code",
   "execution_count": 38,
   "metadata": {},
   "outputs": [
    {
     "name": "stdout",
     "output_type": "stream",
     "text": [
      "15\n"
     ]
    }
   ],
   "source": [
    "#12WAP to take the input from the user as a number and check whether it is a number \n",
    "#or not. if yes. take the number and add some value and print it.\n",
    "a=10\n",
    "if type(a)==int:\n",
    "     print(a+5)"
   ]
  },
  {
   "cell_type": "code",
   "execution_count": 39,
   "metadata": {},
   "outputs": [
    {
     "name": "stdout",
     "output_type": "stream",
     "text": [
      "helloworld\n"
     ]
    }
   ],
   "source": [
    "#13WAP to display hello world if the number is greater than 1 and less than 5.\n",
    "a=4\n",
    "if a<5 and a>1:\n",
    "    print('helloworld')"
   ]
  },
  {
   "cell_type": "code",
   "execution_count": 40,
   "metadata": {},
   "outputs": [
    {
     "name": "stdout",
     "output_type": "stream",
     "text": [
      "1225\n"
     ]
    }
   ],
   "source": [
    "#14WAP to check whether a given value is divisible by 5 and 7. If the value is \n",
    "#divisible,to display the square of the values.\n",
    "a=35\n",
    "if a%5==0 and a%7==0:\n",
    "    print(35**2)\n"
   ]
  },
  {
   "cell_type": "code",
   "execution_count": 42,
   "metadata": {},
   "outputs": [
    {
     "name": "stdout",
     "output_type": "stream",
     "text": [
      "6\n"
     ]
    }
   ],
   "source": [
    "#15WAP to check whether the given value's last digit is greater than 5 or not.if \n",
    "#greater, to perform the bitwise right shift operator (skipping value is 2)\n",
    "a=26\n",
    "if a%10>=5:\n",
    "    print(a>>2)\n",
    "    "
   ]
  },
  {
   "cell_type": "code",
   "execution_count": 43,
   "metadata": {},
   "outputs": [
    {
     "name": "stdout",
     "output_type": "stream",
     "text": [
      "324\n"
     ]
    }
   ],
   "source": [
    "#16WAP to check whether a given value is divisible by 3 and less than 30. If the value \n",
    "#is divisible,to display the square of the values\n",
    "a=18\n",
    "if a%3==0 and a<30:\n",
    "    print(18**2)"
   ]
  },
  {
   "cell_type": "code",
   "execution_count": 50,
   "metadata": {},
   "outputs": [
    {
     "name": "stdout",
     "output_type": "stream",
     "text": [
      "13824\n"
     ]
    }
   ],
   "source": [
    "#17 WAP to check whether a given value is an even number and divisible by 4. If \n",
    "#satisfied ,to display the cube of the values.\n",
    "a=24\n",
    "if a%2==0 and a%4==0:\n",
    "    print(a**3)"
   ]
  },
  {
   "cell_type": "code",
   "execution_count": 51,
   "metadata": {},
   "outputs": [
    {
     "name": "stdout",
     "output_type": "stream",
     "text": [
      "['3', '0']\n"
     ]
    }
   ],
   "source": [
    "#18WAP to check whether a given value is even or not. If the even number stores the \n",
    "#value inside the list.\n",
    "\n",
    "a=30\n",
    "if a%2==0:\n",
    "    print(list( str(a)))\n"
   ]
  },
  {
   "cell_type": "code",
   "execution_count": 60,
   "metadata": {},
   "outputs": [
    {
     "name": "stdout",
     "output_type": "stream",
     "text": [
      "2\n"
     ]
    }
   ],
   "source": [
    "#19 WAP to check whether a given value is a negative or even number. If satisfied ,to \n",
    "#display the last digit of the values.\n",
    "a=-22\n",
    "if a%2==0 and a<0:\n",
    "    print(-a%10)\n"
   ]
  },
  {
   "cell_type": "code",
   "execution_count": 11,
   "metadata": {},
   "outputs": [
    {
     "name": "stdout",
     "output_type": "stream",
     "text": [
      "9261\n"
     ]
    }
   ],
   "source": [
    "#20WAP to check whether a given value is a negative or odd number and divisible \n",
    "#by 4. If satisfied ,to display the cube of the values.\n",
    "a=21\n",
    "if  a%4==0 and  a<0  or a%2==1:\n",
    "    c=a**3\n",
    "    print(c)"
   ]
  },
  {
   "cell_type": "code",
   "execution_count": 30,
   "metadata": {},
   "outputs": [
    {
     "name": "stdout",
     "output_type": "stream",
     "text": [
      "H\n"
     ]
    }
   ],
   "source": [
    "# 21 WAP to check whether a given ascii value is divisible by 4 and even value. If satisfied, to display the ascii character.\n",
    "a=72\n",
    "if a%4==0 and a%2==0:\n",
    "    b=chr(a)\n",
    "    print(b)\n",
    "    \n"
   ]
  },
  {
   "cell_type": "code",
   "execution_count": 32,
   "metadata": {},
   "outputs": [
    {
     "name": "stdout",
     "output_type": "stream",
     "text": [
      "<\n"
     ]
    }
   ],
   "source": [
    "#22WAP to check whether a given value is present in between 45 to 125 and the number should be divisible by 4 and 5 and even value. \n",
    "# If satisfied, to display the ascii character.\n",
    "a=60\n",
    "if a%4==0 and a%5==0 and a%2==0 and a>45 and a<125:\n",
    "    b=chr(a)\n",
    "    print(b)\n"
   ]
  },
  {
   "cell_type": "code",
   "execution_count": 34,
   "metadata": {},
   "outputs": [
    {
     "name": "stdout",
     "output_type": "stream",
     "text": [
      "200\n"
     ]
    }
   ],
   "source": [
    "#23 WAP to check whether a given value is present in between 25 to 100 and the number should be divisible by 4 and 5. \n",
    "# If satisfied, to display multiplication of given value with 5.\n",
    "a=40\n",
    "if a%4==0 and a%5==0 and a<100 and a>25:\n",
    "    b=a*5\n",
    "    print(b)\n"
   ]
  },
  {
   "cell_type": "code",
   "execution_count": 36,
   "metadata": {},
   "outputs": [
    {
     "name": "stdout",
     "output_type": "stream",
     "text": [
      "7.0\n"
     ]
    }
   ],
   "source": [
    "# 24WAP to check whether a given number is an integer and odd number. If the condition is satisfied, the integer is \n",
    "# divisible by 5 and displays the result.\n",
    "a=35\n",
    "if type(a)==int and a%2==1 :\n",
    "    c=35/5\n",
    "    print(c)"
   ]
  },
  {
   "cell_type": "code",
   "execution_count": 46,
   "metadata": {},
   "outputs": [
    {
     "name": "stdout",
     "output_type": "stream",
     "text": [
      "30\n",
      "<class 'str'>\n"
     ]
    }
   ],
   "source": [
    "# 25 WAP to check whether a given value is an integer or not. If integer, the given value is converted to string and displays the result.\n",
    "a=30\n",
    "if type(a)==int :\n",
    "    c=str(a)\n",
    "    print(c)\n",
    "    print(type(c))"
   ]
  },
  {
   "cell_type": "code",
   "execution_count": 49,
   "metadata": {},
   "outputs": [
    {
     "name": "stdout",
     "output_type": "stream",
     "text": [
      "t\n"
     ]
    }
   ],
   "source": [
    "# 26WAP to check whether a given value is less than 125 and greater than 60 or not. If the condition is satisfied,\n",
    "#  take the name and extract the middle character and display it.\n",
    "a=70\n",
    "if a>60 and a<125:\n",
    "    c='swasthik'\n",
    "    b=len(c)//2\n",
    "    print(c[len(c)//2])\n"
   ]
  },
  {
   "cell_type": "code",
   "execution_count": 51,
   "metadata": {},
   "outputs": [],
   "source": [
    "# 27WAP to check whether a given two integers are equal or not. If both are equal, to perform addition and display the result.\n",
    "a=10\n",
    "b=10\n",
    "if a==b:\n",
    "    c=a+b\n",
    "    print(c)"
   ]
  },
  {
   "cell_type": "code",
   "execution_count": 53,
   "metadata": {},
   "outputs": [
    {
     "name": "stdout",
     "output_type": "stream",
     "text": [
      "400\n",
      "133.33333333333334\n"
     ]
    }
   ],
   "source": [
    "#28WAP to check whether two values are equal or not. if equal, to perform multiplication of two numbers and that result\n",
    "#  is division by 3 and display the value.\n",
    "a=20\n",
    "b=20\n",
    "if a==b:\n",
    "    c=a*b\n",
    "    print(c)\n",
    "    d=c/3\n",
    "    print(d)"
   ]
  },
  {
   "cell_type": "code",
   "execution_count": 73,
   "metadata": {},
   "outputs": [
    {
     "name": "stdout",
     "output_type": "stream",
     "text": [
      "{'a': 97}\n"
     ]
    }
   ],
   "source": [
    "#29WAP to check whether a character is in the alphabet or not. If the alphabet, store the value inside the dict\n",
    "# (key as a character and value as an ascii value).\n",
    "a='a'\n",
    "if ord(a)<=122 and ord(a)>=97:\n",
    "    b={ a:ord(a)}\n",
    "    print(b)\n",
    "\n"
   ]
  },
  {
   "cell_type": "code",
   "execution_count": 74,
   "metadata": {},
   "outputs": [
    {
     "name": "stdout",
     "output_type": "stream",
     "text": [
      "{'B': 66}\n"
     ]
    }
   ],
   "source": [
    "#30 WAP to check whether a character is in the uppercase or not. If the uppercase, store the value inside the dict\n",
    "# (key as a character and value as an ascii value).\n",
    "a='B'\n",
    "if ord(a)<=90 and ord(a)>=65:\n",
    "    b={a:ord(a)}\n",
    "    print(b)"
   ]
  },
  {
   "cell_type": "code",
   "execution_count": 82,
   "metadata": {},
   "outputs": [
    {
     "name": "stdout",
     "output_type": "stream",
     "text": [
      "b\n",
      "{'b': 98}\n"
     ]
    }
   ],
   "source": [
    "# 31WAP to check whether a character is in the uppercase or not. If the uppercase, convert to lowercase and store the\n",
    "#  value inside the dict(character as a key and ascii value as a value).\n",
    "a='B'\n",
    "if ord(a)<=90 and ord(a)>=65:\n",
    "    b=chr(ord(a)+32)\n",
    "    print(b)\n",
    "    e=ord(a)+32\n",
    "    c={b:e}\n",
    "    print(c)"
   ]
  },
  {
   "cell_type": "code",
   "execution_count": 83,
   "metadata": {},
   "outputs": [
    {
     "name": "stdout",
     "output_type": "stream",
     "text": [
      "aaa\n"
     ]
    }
   ],
   "source": [
    "#32WAP to check whether a character is in the lowercase or not. If the lowercase, to perform the replication operation on that character.\n",
    "a='a'\n",
    "if ord(a)<=122 and ord(a)>=97:\n",
    "    c=a*3\n",
    "    print(c)"
   ]
  },
  {
   "cell_type": "code",
   "execution_count": 43,
   "metadata": {},
   "outputs": [
    {
     "name": "stdout",
     "output_type": "stream",
     "text": [
      "7 <class 'int'>\n"
     ]
    }
   ],
   "source": [
    "#33WAP to check whether a character is in the ascii number or not. If the ascii number, to convert into integer.\n",
    "a=55\n",
    "if 48<=a<=57:\n",
    "    res=int(chr(a))\n",
    "    print(res,type(res))"
   ]
  },
  {
   "cell_type": "code",
   "execution_count": 45,
   "metadata": {},
   "outputs": [
    {
     "name": "stdout",
     "output_type": "stream",
     "text": [
      "[ 91\n"
     ]
    }
   ],
   "source": [
    "#34 WAP to check whether a character is in the special symbol or not. If the special symbol, to display a symbol with ascii value.\n",
    "ch='['\n",
    "if 0<=ord(ch)<=47 or 58<=ord(ch)<=64 or 91<=ord(ch)<=96 or 123<=ord(ch)<=127:\n",
    "    print(ch,ord(ch))"
   ]
  },
  {
   "cell_type": "code",
   "execution_count": 87,
   "metadata": {},
   "outputs": [
    {
     "name": "stdout",
     "output_type": "stream",
     "text": [
      "98\n"
     ]
    }
   ],
   "source": [
    "# 35 WAP to check whether a character is an even number or not. If the even number, to display an even number.\n",
    "a='b'\n",
    "if ord(a)%2==0:\n",
    "    b= ord(a)\n",
    "    print(b)"
   ]
  },
  {
   "cell_type": "code",
   "execution_count": 93,
   "metadata": {},
   "outputs": [
    {
     "name": "stdout",
     "output_type": "stream",
     "text": [
      "10\n",
      "100\n"
     ]
    }
   ],
   "source": [
    "# 36 WAP to check whether a Given two integers a and b, if any of the integers is 10 or if their sum is 10, \n",
    "# to perform the sum of the numbers and to display the square of the result.\n",
    "a=1\n",
    "b=9\n",
    "if a==10 or b==10 or a+b==10:\n",
    "    c=a+b\n",
    "    d=c**2\n",
    "    print(c)\n",
    "    print(d)\n"
   ]
  },
  {
   "cell_type": "code",
   "execution_count": 96,
   "metadata": {},
   "outputs": [
    {
     "name": "stdout",
     "output_type": "stream",
     "text": [
      "f\n"
     ]
    }
   ],
   "source": [
    "# (37) WAP to check whether a character is in the vowel or not. If the vowel,print the next character.\n",
    "a='e'\n",
    "if a in 'AEIOUaeiou':\n",
    "    c=chr(ord(a)+1)\n",
    "    print(c)\n"
   ]
  },
  {
   "cell_type": "code",
   "execution_count": 99,
   "metadata": {},
   "outputs": [
    {
     "name": "stdout",
     "output_type": "stream",
     "text": [
      "e\n"
     ]
    }
   ],
   "source": [
    "# 38WAP to check whether a character is in the not a vowel. If it's not a vowel,print the previous character.\n",
    "a='f'\n",
    "if a  not in 'AEIOUaeiou':\n",
    "    c=chr(ord(a)-1)\n",
    "    print(c)\n"
   ]
  },
  {
   "cell_type": "code",
   "execution_count": 100,
   "metadata": {},
   "outputs": [
    {
     "name": "stdout",
     "output_type": "stream",
     "text": [
      "given value is single data type\n"
     ]
    }
   ],
   "source": [
    "# 39 WAP to check whether a given value is a single value data type or not. If single value,\n",
    "#  display the given value as a single value data type.\n",
    "a=10\n",
    "if type(a) in [float,int,complex,bool]:\n",
    "    print('given value is single data type')"
   ]
  },
  {
   "cell_type": "code",
   "execution_count": 101,
   "metadata": {},
   "outputs": [
    {
     "name": "stdout",
     "output_type": "stream",
     "text": [
      "((10,), (2, 3))\n"
     ]
    }
   ],
   "source": [
    "# 40WAP to check whether a given value is a multi-value data type or not. If multi value, \n",
    "# store the given value inside the tuple and display it.\n",
    "a=(10,)\n",
    "if type(a) in [list,set,tuple,str,dict]:\n",
    "    b=(2,3)\n",
    "    e=(a,b)\n",
    "    print(e)"
   ]
  },
  {
   "cell_type": "code",
   "execution_count": 103,
   "metadata": {},
   "outputs": [
    {
     "name": "stdout",
     "output_type": "stream",
     "text": [
      "{(10,)}\n"
     ]
    }
   ],
   "source": [
    "# 41 WAP to check whether a given value is an immutable data type or not. If an \n",
    "#immutable data type value, store the given value inside the set and display it.\n",
    "a=10,\n",
    "if type(a) in [tuple,list,int,set]:\n",
    "    b={a}\n",
    "    print(b)\n"
   ]
  },
  {
   "cell_type": "code",
   "execution_count": 116,
   "metadata": {},
   "outputs": [
    {
     "name": "stdout",
     "output_type": "stream",
     "text": [
      "odd 3\n"
     ]
    }
   ],
   "source": [
    "# 42 WAP to check whether the middle element of a given list is odd or not. If it is odd \n",
    "#then print odd then print the number else directly print the number\n",
    "a=[1,2,3,4,5,6]\n",
    "if (len(a)//2)%2==1:\n",
    "    print('odd',len(a)//2)"
   ]
  },
  {
   "cell_type": "code",
   "execution_count": 2,
   "metadata": {},
   "outputs": [
    {
     "name": "stdout",
     "output_type": "stream",
     "text": [
      "140731081155656\n",
      "140731081155656\n"
     ]
    }
   ],
   "source": [
    "# 45 WAP to check whether the two variables are pointing to the same memory \n",
    "#location or not if they are pointing to the same memory location then print the \n",
    "#address of both the variables.\n",
    "a=10\n",
    "b=a\n",
    "if id(a)==id(b):\n",
    "    print(id(a))\n",
    "    print(id(b))"
   ]
  },
  {
   "cell_type": "code",
   "execution_count": 9,
   "metadata": {},
   "outputs": [
    {
     "name": "stdout",
     "output_type": "stream",
     "text": [
      "swasth\n"
     ]
    }
   ],
   "source": [
    "# 46 WAP to check whether the given length of the string is even or not. If the \n",
    "#condition is satisfied, display the sequence of characters from zero position to \n",
    "#length of collection -2.\n",
    "a=\"swasthik\"\n",
    "if (len(a)//2)%2==0:\n",
    "    b=a[0:-2:]\n",
    "    print(b)"
   ]
  },
  {
   "cell_type": "code",
   "execution_count": 21,
   "metadata": {},
   "outputs": [
    {
     "name": "stdout",
     "output_type": "stream",
     "text": [
      "a= vikranth\n",
      "b= saiswasthik\n"
     ]
    }
   ],
   "source": [
    "# 47 WAP to check whether the two given strings are having the same values or not. \n",
    "#If both are not the same values then swap the values of one variable to another \n",
    "#variable after swapping print the two values.\n",
    "a='saiswasthik'\n",
    "b='vikranth'\n",
    "if a!=b:\n",
    "    a,b=b,a\n",
    "    print('a=',a)\n",
    "    print('b=',b)"
   ]
  },
  {
   "cell_type": "code",
   "execution_count": 13,
   "metadata": {},
   "outputs": [
    {
     "name": "stdout",
     "output_type": "stream",
     "text": [
      "{'@': 64}\n"
     ]
    }
   ],
   "source": [
    "# 48 WAP to check whether a given character is a special symbol or not. If satisfied, \n",
    "#store the symbol as a key and value as a ascii value of the given character inside \n",
    "#the dictionary.\n",
    "a='@'\n",
    "if a not in  ( a>='a'or a<'z' , a>='A'or a<'Z' , a>='0' and a<'9' ) :\n",
    "    b={a:ord(a)}\n",
    "    print(b)"
   ]
  },
  {
   "cell_type": "code",
   "execution_count": 31,
   "metadata": {},
   "outputs": [
    {
     "name": "stdout",
     "output_type": "stream",
     "text": [
      "{'a': 1, 'b': 2, 'x': 3}\n"
     ]
    }
   ],
   "source": [
    "# 49 WAP to check whether a given key is not present in the dictionary or not. If the \n",
    "#key is not present, append the new key inside the dictionary.\n",
    "a={'a':1,'b':2}\n",
    "if 'c' not  in a:\n",
    "    d={'x':3}\n",
    "    a|=d\n",
    "    print(a)"
   ]
  },
  {
   "cell_type": "code",
   "execution_count": 41,
   "metadata": {},
   "outputs": [
    {
     "name": "stdout",
     "output_type": "stream",
     "text": [
      "s\n",
      "k\n",
      "kwasthis\n"
     ]
    }
   ],
   "source": [
    "# 50 WAP whether a given string, and it displays a new string with the first and last \n",
    "#characters switched.\n",
    "a='swasthik'\n",
    "if type(a)==str:\n",
    "    b= a[0]\n",
    "    c=a[-1]\n",
    "    print(b)\n",
    "    print(c)\n",
    "    print(c+a[1:len(a)-1:]+b)"
   ]
  },
  {
   "cell_type": "code",
   "execution_count": 42,
   "metadata": {},
   "outputs": [
    {
     "name": "stdout",
     "output_type": "stream",
     "text": [
      "2\n"
     ]
    }
   ],
   "source": [
    "# 51 WAP to check whether the last digit should be 2 in the given number then print \n",
    "#the last digit.\n",
    "a=122\n",
    "if a%10==2:\n",
    "    print(a%10)"
   ]
  },
  {
   "cell_type": "code",
   "execution_count": 2,
   "metadata": {},
   "outputs": [
    {
     "name": "stdout",
     "output_type": "stream",
     "text": [
      "10\n"
     ]
    }
   ],
   "source": [
    "# 52WAP to check whether a Given two integers a and b, if any of the integers is 10 \n",
    "#or if their sum is 10, to perform the sum of the numbers and to display the square \n",
    "#of the result.\n",
    "a=9\n",
    "b=1\n",
    "if a==10 or b ==10 or a+b==10:\n",
    "    print(a+b)"
   ]
  }
 ],
 "metadata": {
  "kernelspec": {
   "display_name": "Python 3",
   "language": "python",
   "name": "python3"
  },
  "language_info": {
   "codemirror_mode": {
    "name": "ipython",
    "version": 3
   },
   "file_extension": ".py",
   "mimetype": "text/x-python",
   "name": "python",
   "nbconvert_exporter": "python",
   "pygments_lexer": "ipython3",
   "version": "3.11.4"
  },
  "orig_nbformat": 4
 },
 "nbformat": 4,
 "nbformat_minor": 2
}
