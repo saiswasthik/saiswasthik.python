{
 "cells": [
  {
   "cell_type": "code",
   "execution_count": 3,
   "metadata": {},
   "outputs": [
    {
     "name": "stdout",
     "output_type": "stream",
     "text": [
      "200\n"
     ]
    }
   ],
   "source": [
    "def a(a,b):\n",
    "    c=a*b\n",
    "    print(c)\n",
    "a(10,20)"
   ]
  },
  {
   "cell_type": "code",
   "execution_count": 6,
   "metadata": {},
   "outputs": [
    {
     "name": "stdout",
     "output_type": "stream",
     "text": [
      "8\n"
     ]
    }
   ],
   "source": [
    "def sub(a,b):\n",
    "    c=a-b\n",
    "    print(c)\n",
    "sub(10,2)"
   ]
  },
  {
   "cell_type": "code",
   "execution_count": 7,
   "metadata": {},
   "outputs": [
    {
     "name": "stdout",
     "output_type": "stream",
     "text": [
      "13\n"
     ]
    }
   ],
   "source": [
    "def add(a=10,b=3):\n",
    "    c=a+b\n",
    "    print(c)\n",
    "add()"
   ]
  },
  {
   "cell_type": "code",
   "execution_count": 19,
   "metadata": {},
   "outputs": [
    {
     "data": {
      "text/plain": [
       "9.0"
      ]
     },
     "execution_count": 19,
     "metadata": {},
     "output_type": "execute_result"
    }
   ],
   "source": [
    "def div():\n",
    "    a=27\n",
    "    b=3\n",
    "    c=a/b\n",
    "    return c\n",
    "    # print(a,b,c)\n",
    "div()"
   ]
  },
  {
   "cell_type": "code",
   "execution_count": 20,
   "metadata": {},
   "outputs": [
    {
     "name": "stdout",
     "output_type": "stream",
     "text": [
      "5.0\n"
     ]
    }
   ],
   "source": [
    "def a():\n",
    "    a=10\n",
    "    b=2\n",
    "    c=a/b\n",
    "    return c\n",
    "print(a())"
   ]
  },
  {
   "cell_type": "code",
   "execution_count": 23,
   "metadata": {},
   "outputs": [
    {
     "data": {
      "text/plain": [
       "'Helloworld'"
      ]
     },
     "execution_count": 23,
     "metadata": {},
     "output_type": "execute_result"
    }
   ],
   "source": [
    "a='HELLOWORLD'\n",
    "a.capitalize()"
   ]
  },
  {
   "cell_type": "code",
   "execution_count": 37,
   "metadata": {},
   "outputs": [
    {
     "ename": "NameError",
     "evalue": "name 'coll' is not defined",
     "output_type": "error",
     "traceback": [
      "\u001b[1;31m---------------------------------------------------------------------------\u001b[0m",
      "\u001b[1;31mNameError\u001b[0m                                 Traceback (most recent call last)",
      "\u001b[1;32mc:\\Users\\saisw\\Documents\\GitHub\\saiswasthik.python\\functions.ipynb Cell 7\u001b[0m line \u001b[0;36m1\n\u001b[0;32m     <a href='vscode-notebook-cell:/c%3A/Users/saisw/Documents/GitHub/saiswasthik.python/functions.ipynb#W6sZmlsZQ%3D%3D?line=11'>12</a>\u001b[0m             res\u001b[39m+\u001b[39m\u001b[39m=\u001b[39mcoll[i]\n\u001b[0;32m     <a href='vscode-notebook-cell:/c%3A/Users/saisw/Documents/GitHub/saiswasthik.python/functions.ipynb#W6sZmlsZQ%3D%3D?line=12'>13</a>\u001b[0m     \u001b[39mreturn\u001b[39;00m res\n\u001b[1;32m---> <a href='vscode-notebook-cell:/c%3A/Users/saisw/Documents/GitHub/saiswasthik.python/functions.ipynb#W6sZmlsZQ%3D%3D?line=13'>14</a>\u001b[0m u_capitalize(coll)\n",
      "\u001b[1;31mNameError\u001b[0m: name 'coll' is not defined"
     ]
    }
   ],
   "source": [
    "# a='hElLoWoRlD@123'\n",
    "# def u_capitalize(coll):\n",
    "#     res=''\n",
    "#     if 'a'<=coll[0]<='z':\n",
    "#         res+=chr(ord(coll[0])-32)\n",
    "#         res+=coll[0]\n",
    "#     for i in range(1,len(coll)):\n",
    "#         if 'A'<=coll[i]<='Z':\n",
    "#             res+=chr(ord(coll[i])+32)\n",
    "#         else:\n",
    "#             res+=coll[i]\n",
    "#     return res\n",
    "# u_capitalize(coll)\n"
   ]
  },
  {
   "cell_type": "code",
   "execution_count": 6,
   "metadata": {},
   "outputs": [
    {
     "data": {
      "text/plain": [
       "'Hello,aorld@ qret13'"
      ]
     },
     "execution_count": 6,
     "metadata": {},
     "output_type": "execute_result"
    }
   ],
   "source": [
    "st='HELLO,AORLD@ QRET13'\n",
    "st.capitalize()"
   ]
  },
  {
   "cell_type": "code",
   "execution_count": 15,
   "metadata": {},
   "outputs": [
    {
     "data": {
      "text/plain": [
       "'Hello world @123'"
      ]
     },
     "execution_count": 15,
     "metadata": {},
     "output_type": "execute_result"
    }
   ],
   "source": [
    "a='HELLO WORLD @123'\n",
    "def u_capital(b):\n",
    "    res=''\n",
    "    if 'a'<=b[0]<='z':\n",
    "        res+=chr(ord(a[0])-32)\n",
    "    else:\n",
    "        res+=a[0]\n",
    "    for i in range (1,len(a)):\n",
    "        if 'A'<=a[i]<='Z':\n",
    "            res+=chr(ord(a[i])+32)\n",
    "        else:\n",
    "            res+=a[i]\n",
    "    return res\n",
    "u_capital(a)\n"
   ]
  },
  {
   "cell_type": "code",
   "execution_count": 16,
   "metadata": {},
   "outputs": [
    {
     "data": {
      "text/plain": [
       "'Sai swasthik'"
      ]
     },
     "execution_count": 16,
     "metadata": {},
     "output_type": "execute_result"
    }
   ],
   "source": [
    "c='SAI SWASTHIK'\n",
    "def u_capital(a):\n",
    "    res=''\n",
    "    if 'a'<=a[0]<='z':\n",
    "        res+=chr(ord(a[0])-32)\n",
    "    else:\n",
    "        res+=a[0]\n",
    "    for i in range(1,len(a)):\n",
    "        if 'A'<=a[i]<='Z':\n",
    "            res+=chr(ord(a[i])+32)\n",
    "        else:\n",
    "            res+=a[i]\n",
    "    return res\n",
    "u_capital(c)"
   ]
  },
  {
   "cell_type": "code",
   "execution_count": 18,
   "metadata": {},
   "outputs": [
    {
     "data": {
      "text/plain": [
       "'SAISWA@STHIK'"
      ]
     },
     "execution_count": 18,
     "metadata": {},
     "output_type": "execute_result"
    }
   ],
   "source": [
    "a='saiswa@sthik'\n",
    "def  u_upper(b):\n",
    "    res=''\n",
    "    for i in range(0,len(a)):\n",
    "        if 'a'<=a[i]<='z':\n",
    "            res+=chr(ord(a[i])-32)\n",
    "        else:\n",
    "            res+=a[i]\n",
    "    return res\n",
    "u_upper(a)"
   ]
  },
  {
   "cell_type": "code",
   "execution_count": 30,
   "metadata": {},
   "outputs": [
    {
     "data": {
      "text/plain": [
       "'saiswasthik'"
      ]
     },
     "execution_count": 30,
     "metadata": {},
     "output_type": "execute_result"
    }
   ],
   "source": [
    "a='SAISWASTHIK'\n",
    "def u_lower(b):\n",
    "    res=''\n",
    "    for i in range(0,len(a)):\n",
    "        if 'A'<=a[i]<='Z':\n",
    "            res+=chr(ord(a[i])+32)\n",
    "        else:\n",
    "            res+=a[i]\n",
    "    return res\n",
    "u_lower(a)"
   ]
  },
  {
   "cell_type": "code",
   "execution_count": 8,
   "metadata": {},
   "outputs": [
    {
     "data": {
      "text/plain": [
       "'Saiswasthik'"
      ]
     },
     "execution_count": 8,
     "metadata": {},
     "output_type": "execute_result"
    }
   ],
   "source": [
    "a='saiswasthik'\n",
    "def u_capital(coll):\n",
    "    res=''\n",
    "    if 'a'<=coll[0]<='z':\n",
    "        res+=chr(ord(coll[0])-32)\n",
    "    else:\n",
    "        res+=coll[0]\n",
    "    for i in range(1,len(coll)):\n",
    "        if 'A'<=coll[i]<='Z':\n",
    "            res+=chr(ord(coll[i])+32)\n",
    "        else:\n",
    "            res+=coll[i]\n",
    "    return res\n",
    "u_capital(a)\n"
   ]
  },
  {
   "cell_type": "code",
   "execution_count": null,
   "metadata": {},
   "outputs": [],
   "source": []
  }
 ],
 "metadata": {
  "kernelspec": {
   "display_name": "Python 3",
   "language": "python",
   "name": "python3"
  },
  "language_info": {
   "codemirror_mode": {
    "name": "ipython",
    "version": 3
   },
   "file_extension": ".py",
   "mimetype": "text/x-python",
   "name": "python",
   "nbconvert_exporter": "python",
   "pygments_lexer": "ipython3",
   "version": "3.11.4"
  },
  "orig_nbformat": 4
 },
 "nbformat": 4,
 "nbformat_minor": 2
}
